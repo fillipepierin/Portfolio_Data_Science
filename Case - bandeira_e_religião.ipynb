{
  "nbformat": 4,
  "nbformat_minor": 0,
  "metadata": {
    "colab": {
      "name": "Case - bandeira e religião.ipynb",
      "provenance": [],
      "collapsed_sections": []
    },
    "kernelspec": {
      "name": "python3",
      "display_name": "Python 3"
    }
  },
  "cells": [
    {
      "cell_type": "markdown",
      "metadata": {
        "id": "dvosFKszd4FQ"
      },
      "source": [
        "# **Case: bandeira e religião**"
      ]
    },
    {
      "cell_type": "markdown",
      "metadata": {
        "id": "wcWXFMSapw4q"
      },
      "source": [
        "**Importando as bibliotecas necessárias**"
      ]
    },
    {
      "cell_type": "code",
      "metadata": {
        "id": "P4DQWLxepzWp"
      },
      "source": [
        "import sklearn\n",
        "import numpy as np\n",
        "# para ignorar os avisos de mensagens das funções\n",
        "import warnings\n",
        "warnings.filterwarnings(\"ignore\")\n",
        "\n",
        "# pacote para trabalhar com data frame (tabelas)\n",
        "import pandas as pd\n",
        "# pacote mais básico para vizualização gráfica\n",
        "import matplotlib.pyplot as plt\n",
        "# um dos pacotes para fazer gráficos\n",
        "import seaborn as sns\n",
        "# sklearn - pacote análise de dados\n",
        "# existe grande parte dos métodos mais famosos\n",
        "from sklearn.model_selection import train_test_split\n",
        "# função para fazer avaliação dos modelos\n",
        "from sklearn.metrics import classification_report\n",
        "\n",
        "import tensorflow as tf\n",
        "from tensorflow.keras import  Sequential\n",
        "from tensorflow.keras.layers import Dense, Dropout"
      ],
      "execution_count": 1,
      "outputs": []
    },
    {
      "cell_type": "markdown",
      "metadata": {
        "id": "cictVSUdrNTN"
      },
      "source": [
        "### **Explicação da base de dados**\n",
        "\n",
        "* **Base de dados**: contém detalhes de várias nações e suas bandeiras.\n",
        "* **Objetivo**: prever a religião do país a partir de características das bandeiras.\n",
        "* **Técnica usada**: Redes Neurais perceptron multicamadas (MLP).\n",
        "* **Variáveis Explicativas**:\n",
        "  1. <u>name</u>: nome do país em questão;\n",
        "  2. <u>landmass</u>: massa terrestre\n",
        "    * 1 = América do Norte;\n",
        "    * 2 = América do Sul;\n",
        "    * 3 = Europa;\n",
        "    * 4 = África;\n",
        "    * 5 = Ásia;\n",
        "    * 6 = Oceania;\n",
        "  3. <u>zone</u>: quadrante geográfico, baseado em Greenwich e no Equador;\n",
        "    * 1 = NE;\n",
        "    * 2 = SE;\n",
        "    * 3 = SW;\n",
        "    * 4 = NW;\n",
        "  4. <u>area</u>: em milhares de km quadrados;\n",
        "  5. <u>population</u>: em torno de milhões;\n",
        "  6. <u>language</u>: idioma;\n",
        "    * 1 = inglês;\n",
        "    * 2 = espanhol;\n",
        "    * 3 = francês;\n",
        "    * 4 = alemão;\n",
        "    * 5 = eslavo;\n",
        "    * 6 = outro indo-europeu;\n",
        "    * 7 = chinês;\n",
        "    * 8 = árabe;\n",
        "    * 9 = japonês / turco / finlandês / magiar;\n",
        "    * 10 = outros;\n",
        "  7. <u>religion</u>: religião;\n",
        "    * 0 = católica;\n",
        "    * 1 = outra cristã;\n",
        "    * 2 = muçulmana;\n",
        "    * 3 = budista;\n",
        "    * 4 = hindu;\n",
        "    * 5 = étnica;\n",
        "    * 6 = marxista;\n",
        "    * 7 = outra;\n",
        "  8. <u>bars</u>: número de barras verticais na bandeira;\n",
        "  9. <u>stripes</u>: número de listras horizontais na bandeira;\n",
        "  10. <u>colours</u>: número de cores diferentes na bandeira;\n",
        "  11. <u>red</u>: se está cor está presente - 0 se ausente e 1 se presente;\n",
        "  12. <u>green</u>: se está cor está presente - 0 se ausente e 1 se presente;\n",
        "  13. <u>blue</u>: se está cor está presente - 0 se ausente e 1 se presente;\n",
        "  14. <u>gold</u>: se está cor está presente - 0 se ausente e 1 se presente;\n",
        "  15. <u>white</u>: se está cor está presente - 0 se ausente e 1 se presente;\n",
        "  16. <u>black</u>: se está cor está presente - 0 se ausente e 1 se presente;\n",
        "  17. <u>orange</u>: se está cor está presente - 0 se ausente e 1 se presente;\n",
        "  18. <u>mainhue</u>: cor predominante na bandeira (desempates decididos tomando o matiz superior, se falhar, então o matiz mais central, e se falhar o matiz mais à esquerda);\n",
        "  19. <u>circles</u>: número de círculos na bandeira;\n",
        "  20. <u>crosses</u>: número de cruzes (verticais);\n",
        "  21. <u>saltires</u>: número de cruzes diagonaisn;\n",
        "  22. <u>quarters</u>: número de seções trimestrais;\n",
        "  23. <u>sunstars</u>: número de símbolos do sol ou estrelas;\n",
        "  24. <u>crescent</u>: 1 se houver um símbolo de lua crescente, caso contrário 0;\n",
        "  25. <u>triangle</u>: 1 se houver triângulos presentes, 0 caso contrário;\n",
        "  26. <u>icon</u>: 1 se houver uma imagem inanimada presente (por exemplo, um barco), caso contrário, 0;\n",
        "  27. <u>animate</u>: 1 se uma imagem animada (por exemplo, uma águia, uma árvore, uma mão humana) presente, 0 caso contrário;\n",
        "  28. <u>text</u>: 1 se houver letras ou escritos na bandeira (por exemplo, um lema ou slogan), 0 caso contrário;\n",
        "  29. <u>topleft</u>: cor no canto superior esquerdo (movendo para a direita para decidir os desempates);\n",
        "  30. <u>botright</u>: cor no canto inferior esquerdo (movendo para a esquerda para decidir quebras de empate).\n",
        "\n",
        "[Base de dados flag](https://archive.ics.uci.edu/ml/datasets/Flags)"
      ]
    },
    {
      "cell_type": "markdown",
      "metadata": {
        "id": "vhSVswoy5--S"
      },
      "source": [
        "**Importando alguns pacotes**\n",
        "\n",
        "Estes pacotes são necessários para treinar os dados com o modelo Rede Neural Múltiplas Camadas (MLP)."
      ]
    },
    {
      "cell_type": "code",
      "metadata": {
        "colab": {
          "base_uri": "https://localhost:8080/"
        },
        "id": "oedbwmfLrNTk",
        "outputId": "30ad78d4-24a0-4ea6-fbb6-072916a09bf2"
      },
      "source": [
        "import pathlib\n",
        "\n",
        "import matplotlib.pyplot as plt\n",
        "import pandas as pd\n",
        "import seaborn as sns\n",
        "\n",
        "import tensorflow as tf\n",
        "\n",
        "from tensorflow import keras\n",
        "from tensorflow.keras import layers\n",
        "\n",
        "print(tf.__version__)"
      ],
      "execution_count": 2,
      "outputs": [
        {
          "output_type": "stream",
          "text": [
            "2.5.0\n"
          ],
          "name": "stdout"
        }
      ]
    },
    {
      "cell_type": "markdown",
      "metadata": {
        "id": "cC9VoeDvrNTm"
      },
      "source": [
        "### **Baixando os dados**"
      ]
    },
    {
      "cell_type": "code",
      "metadata": {
        "colab": {
          "base_uri": "https://localhost:8080/",
          "height": 35
        },
        "id": "nQWwH2m1rNTn",
        "outputId": "c056e033-6b0b-4171-fd78-6202b27bda17"
      },
      "source": [
        "dataset_path = keras.utils.get_file(\"flag.data\", \"https://archive.ics.uci.edu/ml/machine-learning-databases/flags/flag.data\")\n",
        "dataset_path"
      ],
      "execution_count": 3,
      "outputs": [
        {
          "output_type": "execute_result",
          "data": {
            "application/vnd.google.colaboratory.intrinsic+json": {
              "type": "string"
            },
            "text/plain": [
              "'/root/.keras/datasets/flag.data'"
            ]
          },
          "metadata": {
            "tags": []
          },
          "execution_count": 3
        }
      ]
    },
    {
      "cell_type": "code",
      "metadata": {
        "colab": {
          "base_uri": "https://localhost:8080/",
          "height": 240
        },
        "id": "qEcgkXW3rNTo",
        "outputId": "41c45864-98e5-4a4e-a71f-be1133327dbf"
      },
      "source": [
        "column_names = ['name', 'landmass', 'zone', 'area', 'population', 'language', 'religion', 'bars', \n",
        "                'stripes', 'colours', 'red', 'green', 'blue', 'gold', 'white', 'black', \n",
        "                'orange', 'mainhue', 'circles', 'crosses', 'saltires', 'quarters', 'sunstars', 'crescent', \n",
        "                'triangle', 'icon', 'animate', 'text', 'topleft', 'botright']\n",
        "\n",
        "raw_dataset = pd.read_csv(dataset_path, names = column_names, na_values = \"?\",\n",
        "                          comment = ',',skipinitialspace = True)\n",
        "\n",
        "dataset = raw_dataset.copy()\n",
        "dataset.head()"
      ],
      "execution_count": 4,
      "outputs": [
        {
          "output_type": "execute_result",
          "data": {
            "text/html": [
              "<div>\n",
              "<style scoped>\n",
              "    .dataframe tbody tr th:only-of-type {\n",
              "        vertical-align: middle;\n",
              "    }\n",
              "\n",
              "    .dataframe tbody tr th {\n",
              "        vertical-align: top;\n",
              "    }\n",
              "\n",
              "    .dataframe thead th {\n",
              "        text-align: right;\n",
              "    }\n",
              "</style>\n",
              "<table border=\"1\" class=\"dataframe\">\n",
              "  <thead>\n",
              "    <tr style=\"text-align: right;\">\n",
              "      <th></th>\n",
              "      <th>name</th>\n",
              "      <th>landmass</th>\n",
              "      <th>zone</th>\n",
              "      <th>area</th>\n",
              "      <th>population</th>\n",
              "      <th>language</th>\n",
              "      <th>religion</th>\n",
              "      <th>bars</th>\n",
              "      <th>stripes</th>\n",
              "      <th>colours</th>\n",
              "      <th>red</th>\n",
              "      <th>green</th>\n",
              "      <th>blue</th>\n",
              "      <th>gold</th>\n",
              "      <th>white</th>\n",
              "      <th>black</th>\n",
              "      <th>orange</th>\n",
              "      <th>mainhue</th>\n",
              "      <th>circles</th>\n",
              "      <th>crosses</th>\n",
              "      <th>saltires</th>\n",
              "      <th>quarters</th>\n",
              "      <th>sunstars</th>\n",
              "      <th>crescent</th>\n",
              "      <th>triangle</th>\n",
              "      <th>icon</th>\n",
              "      <th>animate</th>\n",
              "      <th>text</th>\n",
              "      <th>topleft</th>\n",
              "      <th>botright</th>\n",
              "    </tr>\n",
              "  </thead>\n",
              "  <tbody>\n",
              "    <tr>\n",
              "      <th>0</th>\n",
              "      <td>Afghanistan</td>\n",
              "      <td>5</td>\n",
              "      <td>1</td>\n",
              "      <td>648</td>\n",
              "      <td>16</td>\n",
              "      <td>10</td>\n",
              "      <td>2</td>\n",
              "      <td>0</td>\n",
              "      <td>3</td>\n",
              "      <td>5</td>\n",
              "      <td>1</td>\n",
              "      <td>1</td>\n",
              "      <td>0</td>\n",
              "      <td>1</td>\n",
              "      <td>1</td>\n",
              "      <td>1</td>\n",
              "      <td>0</td>\n",
              "      <td>green</td>\n",
              "      <td>0</td>\n",
              "      <td>0</td>\n",
              "      <td>0</td>\n",
              "      <td>0</td>\n",
              "      <td>1</td>\n",
              "      <td>0</td>\n",
              "      <td>0</td>\n",
              "      <td>1</td>\n",
              "      <td>0</td>\n",
              "      <td>0</td>\n",
              "      <td>black</td>\n",
              "      <td>green</td>\n",
              "    </tr>\n",
              "    <tr>\n",
              "      <th>1</th>\n",
              "      <td>Albania</td>\n",
              "      <td>3</td>\n",
              "      <td>1</td>\n",
              "      <td>29</td>\n",
              "      <td>3</td>\n",
              "      <td>6</td>\n",
              "      <td>6</td>\n",
              "      <td>0</td>\n",
              "      <td>0</td>\n",
              "      <td>3</td>\n",
              "      <td>1</td>\n",
              "      <td>0</td>\n",
              "      <td>0</td>\n",
              "      <td>1</td>\n",
              "      <td>0</td>\n",
              "      <td>1</td>\n",
              "      <td>0</td>\n",
              "      <td>red</td>\n",
              "      <td>0</td>\n",
              "      <td>0</td>\n",
              "      <td>0</td>\n",
              "      <td>0</td>\n",
              "      <td>1</td>\n",
              "      <td>0</td>\n",
              "      <td>0</td>\n",
              "      <td>0</td>\n",
              "      <td>1</td>\n",
              "      <td>0</td>\n",
              "      <td>red</td>\n",
              "      <td>red</td>\n",
              "    </tr>\n",
              "    <tr>\n",
              "      <th>2</th>\n",
              "      <td>Algeria</td>\n",
              "      <td>4</td>\n",
              "      <td>1</td>\n",
              "      <td>2388</td>\n",
              "      <td>20</td>\n",
              "      <td>8</td>\n",
              "      <td>2</td>\n",
              "      <td>2</td>\n",
              "      <td>0</td>\n",
              "      <td>3</td>\n",
              "      <td>1</td>\n",
              "      <td>1</td>\n",
              "      <td>0</td>\n",
              "      <td>0</td>\n",
              "      <td>1</td>\n",
              "      <td>0</td>\n",
              "      <td>0</td>\n",
              "      <td>green</td>\n",
              "      <td>0</td>\n",
              "      <td>0</td>\n",
              "      <td>0</td>\n",
              "      <td>0</td>\n",
              "      <td>1</td>\n",
              "      <td>1</td>\n",
              "      <td>0</td>\n",
              "      <td>0</td>\n",
              "      <td>0</td>\n",
              "      <td>0</td>\n",
              "      <td>green</td>\n",
              "      <td>white</td>\n",
              "    </tr>\n",
              "    <tr>\n",
              "      <th>3</th>\n",
              "      <td>American-Samoa</td>\n",
              "      <td>6</td>\n",
              "      <td>3</td>\n",
              "      <td>0</td>\n",
              "      <td>0</td>\n",
              "      <td>1</td>\n",
              "      <td>1</td>\n",
              "      <td>0</td>\n",
              "      <td>0</td>\n",
              "      <td>5</td>\n",
              "      <td>1</td>\n",
              "      <td>0</td>\n",
              "      <td>1</td>\n",
              "      <td>1</td>\n",
              "      <td>1</td>\n",
              "      <td>0</td>\n",
              "      <td>1</td>\n",
              "      <td>blue</td>\n",
              "      <td>0</td>\n",
              "      <td>0</td>\n",
              "      <td>0</td>\n",
              "      <td>0</td>\n",
              "      <td>0</td>\n",
              "      <td>0</td>\n",
              "      <td>1</td>\n",
              "      <td>1</td>\n",
              "      <td>1</td>\n",
              "      <td>0</td>\n",
              "      <td>blue</td>\n",
              "      <td>red</td>\n",
              "    </tr>\n",
              "    <tr>\n",
              "      <th>4</th>\n",
              "      <td>Andorra</td>\n",
              "      <td>3</td>\n",
              "      <td>1</td>\n",
              "      <td>0</td>\n",
              "      <td>0</td>\n",
              "      <td>6</td>\n",
              "      <td>0</td>\n",
              "      <td>3</td>\n",
              "      <td>0</td>\n",
              "      <td>3</td>\n",
              "      <td>1</td>\n",
              "      <td>0</td>\n",
              "      <td>1</td>\n",
              "      <td>1</td>\n",
              "      <td>0</td>\n",
              "      <td>0</td>\n",
              "      <td>0</td>\n",
              "      <td>gold</td>\n",
              "      <td>0</td>\n",
              "      <td>0</td>\n",
              "      <td>0</td>\n",
              "      <td>0</td>\n",
              "      <td>0</td>\n",
              "      <td>0</td>\n",
              "      <td>0</td>\n",
              "      <td>0</td>\n",
              "      <td>0</td>\n",
              "      <td>0</td>\n",
              "      <td>blue</td>\n",
              "      <td>red</td>\n",
              "    </tr>\n",
              "  </tbody>\n",
              "</table>\n",
              "</div>"
            ],
            "text/plain": [
              "             name  landmass  zone  area  ...  animate  text  topleft  botright\n",
              "0     Afghanistan         5     1   648  ...        0     0    black     green\n",
              "1         Albania         3     1    29  ...        1     0      red       red\n",
              "2         Algeria         4     1  2388  ...        0     0    green     white\n",
              "3  American-Samoa         6     3     0  ...        1     0     blue       red\n",
              "4         Andorra         3     1     0  ...        0     0     blue       red\n",
              "\n",
              "[5 rows x 30 columns]"
            ]
          },
          "metadata": {
            "tags": []
          },
          "execution_count": 4
        }
      ]
    },
    {
      "cell_type": "markdown",
      "metadata": {
        "id": "eBsbyPM8rNTp"
      },
      "source": [
        "### **Estatística básica dos dados e vizualização**"
      ]
    },
    {
      "cell_type": "code",
      "metadata": {
        "colab": {
          "base_uri": "https://localhost:8080/"
        },
        "id": "QU2qh9kcrNTp",
        "outputId": "9991eb72-7a72-4a23-bcfb-31468c22463a"
      },
      "source": [
        "dataset.info()"
      ],
      "execution_count": 5,
      "outputs": [
        {
          "output_type": "stream",
          "text": [
            "<class 'pandas.core.frame.DataFrame'>\n",
            "RangeIndex: 194 entries, 0 to 193\n",
            "Data columns (total 30 columns):\n",
            " #   Column      Non-Null Count  Dtype \n",
            "---  ------      --------------  ----- \n",
            " 0   name        194 non-null    object\n",
            " 1   landmass    194 non-null    int64 \n",
            " 2   zone        194 non-null    int64 \n",
            " 3   area        194 non-null    int64 \n",
            " 4   population  194 non-null    int64 \n",
            " 5   language    194 non-null    int64 \n",
            " 6   religion    194 non-null    int64 \n",
            " 7   bars        194 non-null    int64 \n",
            " 8   stripes     194 non-null    int64 \n",
            " 9   colours     194 non-null    int64 \n",
            " 10  red         194 non-null    int64 \n",
            " 11  green       194 non-null    int64 \n",
            " 12  blue        194 non-null    int64 \n",
            " 13  gold        194 non-null    int64 \n",
            " 14  white       194 non-null    int64 \n",
            " 15  black       194 non-null    int64 \n",
            " 16  orange      194 non-null    int64 \n",
            " 17  mainhue     194 non-null    object\n",
            " 18  circles     194 non-null    int64 \n",
            " 19  crosses     194 non-null    int64 \n",
            " 20  saltires    194 non-null    int64 \n",
            " 21  quarters    194 non-null    int64 \n",
            " 22  sunstars    194 non-null    int64 \n",
            " 23  crescent    194 non-null    int64 \n",
            " 24  triangle    194 non-null    int64 \n",
            " 25  icon        194 non-null    int64 \n",
            " 26  animate     194 non-null    int64 \n",
            " 27  text        194 non-null    int64 \n",
            " 28  topleft     194 non-null    object\n",
            " 29  botright    194 non-null    object\n",
            "dtypes: int64(26), object(4)\n",
            "memory usage: 45.6+ KB\n"
          ],
          "name": "stdout"
        }
      ]
    },
    {
      "cell_type": "code",
      "metadata": {
        "colab": {
          "base_uri": "https://localhost:8080/"
        },
        "id": "ICHAuwBsrNTq",
        "outputId": "c8114865-85e6-4ded-f7b2-c95cee0452d3"
      },
      "source": [
        "dataset.shape"
      ],
      "execution_count": 6,
      "outputs": [
        {
          "output_type": "execute_result",
          "data": {
            "text/plain": [
              "(194, 30)"
            ]
          },
          "metadata": {
            "tags": []
          },
          "execution_count": 6
        }
      ]
    },
    {
      "cell_type": "markdown",
      "metadata": {
        "id": "n9xDKfUt9un2"
      },
      "source": [
        "Na base de dados temos dados referente a bandeira de 194 países, dados como cor, se tem objetos na imagem, círculos, quadrados, etc. Além disso temos uma variável que compreende a religião de cada um dos países, usamos essa variável como variável resposta, pois desejamos prever a religião de cada país."
      ]
    },
    {
      "cell_type": "markdown",
      "metadata": {
        "id": "vwArQmX-rNTq"
      },
      "source": [
        "**Transformando as variáveis categóricas em numéricas**"
      ]
    },
    {
      "cell_type": "markdown",
      "metadata": {
        "id": "YIBsSQyQ_ZuN"
      },
      "source": [
        "Neste passo transformamos as variáveis categóricas em numéricas usando 'LabelEncoder'."
      ]
    },
    {
      "cell_type": "code",
      "metadata": {
        "id": "s7djMWjhrNTr"
      },
      "source": [
        "# transformando as variáveis categóricas em numéricas\n",
        "from sklearn.preprocessing import LabelEncoder\n",
        "le = LabelEncoder()\n",
        "\n",
        "dataset['mainhue'] = le.fit_transform(dataset['mainhue'])\n",
        "dataset['topleft'] = le.fit_transform(dataset['topleft'])\n",
        "dataset['botright'] = le.fit_transform(dataset['botright'])"
      ],
      "execution_count": 7,
      "outputs": []
    },
    {
      "cell_type": "markdown",
      "metadata": {
        "id": "fNXDp_eOrNTr"
      },
      "source": [
        "**Visualizando as cinco primeiras linhas**\n",
        "\n",
        "Para saber se os resultados da transformação ficaram corretos"
      ]
    },
    {
      "cell_type": "code",
      "metadata": {
        "colab": {
          "base_uri": "https://localhost:8080/",
          "height": 240
        },
        "id": "9JkfiZ-xHge9",
        "outputId": "f6819f9d-33d5-43c9-e189-5d25029a9f33"
      },
      "source": [
        "dataset.head()"
      ],
      "execution_count": 8,
      "outputs": [
        {
          "output_type": "execute_result",
          "data": {
            "text/html": [
              "<div>\n",
              "<style scoped>\n",
              "    .dataframe tbody tr th:only-of-type {\n",
              "        vertical-align: middle;\n",
              "    }\n",
              "\n",
              "    .dataframe tbody tr th {\n",
              "        vertical-align: top;\n",
              "    }\n",
              "\n",
              "    .dataframe thead th {\n",
              "        text-align: right;\n",
              "    }\n",
              "</style>\n",
              "<table border=\"1\" class=\"dataframe\">\n",
              "  <thead>\n",
              "    <tr style=\"text-align: right;\">\n",
              "      <th></th>\n",
              "      <th>name</th>\n",
              "      <th>landmass</th>\n",
              "      <th>zone</th>\n",
              "      <th>area</th>\n",
              "      <th>population</th>\n",
              "      <th>language</th>\n",
              "      <th>religion</th>\n",
              "      <th>bars</th>\n",
              "      <th>stripes</th>\n",
              "      <th>colours</th>\n",
              "      <th>red</th>\n",
              "      <th>green</th>\n",
              "      <th>blue</th>\n",
              "      <th>gold</th>\n",
              "      <th>white</th>\n",
              "      <th>black</th>\n",
              "      <th>orange</th>\n",
              "      <th>mainhue</th>\n",
              "      <th>circles</th>\n",
              "      <th>crosses</th>\n",
              "      <th>saltires</th>\n",
              "      <th>quarters</th>\n",
              "      <th>sunstars</th>\n",
              "      <th>crescent</th>\n",
              "      <th>triangle</th>\n",
              "      <th>icon</th>\n",
              "      <th>animate</th>\n",
              "      <th>text</th>\n",
              "      <th>topleft</th>\n",
              "      <th>botright</th>\n",
              "    </tr>\n",
              "  </thead>\n",
              "  <tbody>\n",
              "    <tr>\n",
              "      <th>0</th>\n",
              "      <td>Afghanistan</td>\n",
              "      <td>5</td>\n",
              "      <td>1</td>\n",
              "      <td>648</td>\n",
              "      <td>16</td>\n",
              "      <td>10</td>\n",
              "      <td>2</td>\n",
              "      <td>0</td>\n",
              "      <td>3</td>\n",
              "      <td>5</td>\n",
              "      <td>1</td>\n",
              "      <td>1</td>\n",
              "      <td>0</td>\n",
              "      <td>1</td>\n",
              "      <td>1</td>\n",
              "      <td>1</td>\n",
              "      <td>0</td>\n",
              "      <td>4</td>\n",
              "      <td>0</td>\n",
              "      <td>0</td>\n",
              "      <td>0</td>\n",
              "      <td>0</td>\n",
              "      <td>1</td>\n",
              "      <td>0</td>\n",
              "      <td>0</td>\n",
              "      <td>1</td>\n",
              "      <td>0</td>\n",
              "      <td>0</td>\n",
              "      <td>0</td>\n",
              "      <td>4</td>\n",
              "    </tr>\n",
              "    <tr>\n",
              "      <th>1</th>\n",
              "      <td>Albania</td>\n",
              "      <td>3</td>\n",
              "      <td>1</td>\n",
              "      <td>29</td>\n",
              "      <td>3</td>\n",
              "      <td>6</td>\n",
              "      <td>6</td>\n",
              "      <td>0</td>\n",
              "      <td>0</td>\n",
              "      <td>3</td>\n",
              "      <td>1</td>\n",
              "      <td>0</td>\n",
              "      <td>0</td>\n",
              "      <td>1</td>\n",
              "      <td>0</td>\n",
              "      <td>1</td>\n",
              "      <td>0</td>\n",
              "      <td>6</td>\n",
              "      <td>0</td>\n",
              "      <td>0</td>\n",
              "      <td>0</td>\n",
              "      <td>0</td>\n",
              "      <td>1</td>\n",
              "      <td>0</td>\n",
              "      <td>0</td>\n",
              "      <td>0</td>\n",
              "      <td>1</td>\n",
              "      <td>0</td>\n",
              "      <td>5</td>\n",
              "      <td>6</td>\n",
              "    </tr>\n",
              "    <tr>\n",
              "      <th>2</th>\n",
              "      <td>Algeria</td>\n",
              "      <td>4</td>\n",
              "      <td>1</td>\n",
              "      <td>2388</td>\n",
              "      <td>20</td>\n",
              "      <td>8</td>\n",
              "      <td>2</td>\n",
              "      <td>2</td>\n",
              "      <td>0</td>\n",
              "      <td>3</td>\n",
              "      <td>1</td>\n",
              "      <td>1</td>\n",
              "      <td>0</td>\n",
              "      <td>0</td>\n",
              "      <td>1</td>\n",
              "      <td>0</td>\n",
              "      <td>0</td>\n",
              "      <td>4</td>\n",
              "      <td>0</td>\n",
              "      <td>0</td>\n",
              "      <td>0</td>\n",
              "      <td>0</td>\n",
              "      <td>1</td>\n",
              "      <td>1</td>\n",
              "      <td>0</td>\n",
              "      <td>0</td>\n",
              "      <td>0</td>\n",
              "      <td>0</td>\n",
              "      <td>3</td>\n",
              "      <td>7</td>\n",
              "    </tr>\n",
              "    <tr>\n",
              "      <th>3</th>\n",
              "      <td>American-Samoa</td>\n",
              "      <td>6</td>\n",
              "      <td>3</td>\n",
              "      <td>0</td>\n",
              "      <td>0</td>\n",
              "      <td>1</td>\n",
              "      <td>1</td>\n",
              "      <td>0</td>\n",
              "      <td>0</td>\n",
              "      <td>5</td>\n",
              "      <td>1</td>\n",
              "      <td>0</td>\n",
              "      <td>1</td>\n",
              "      <td>1</td>\n",
              "      <td>1</td>\n",
              "      <td>0</td>\n",
              "      <td>1</td>\n",
              "      <td>1</td>\n",
              "      <td>0</td>\n",
              "      <td>0</td>\n",
              "      <td>0</td>\n",
              "      <td>0</td>\n",
              "      <td>0</td>\n",
              "      <td>0</td>\n",
              "      <td>1</td>\n",
              "      <td>1</td>\n",
              "      <td>1</td>\n",
              "      <td>0</td>\n",
              "      <td>1</td>\n",
              "      <td>6</td>\n",
              "    </tr>\n",
              "    <tr>\n",
              "      <th>4</th>\n",
              "      <td>Andorra</td>\n",
              "      <td>3</td>\n",
              "      <td>1</td>\n",
              "      <td>0</td>\n",
              "      <td>0</td>\n",
              "      <td>6</td>\n",
              "      <td>0</td>\n",
              "      <td>3</td>\n",
              "      <td>0</td>\n",
              "      <td>3</td>\n",
              "      <td>1</td>\n",
              "      <td>0</td>\n",
              "      <td>1</td>\n",
              "      <td>1</td>\n",
              "      <td>0</td>\n",
              "      <td>0</td>\n",
              "      <td>0</td>\n",
              "      <td>3</td>\n",
              "      <td>0</td>\n",
              "      <td>0</td>\n",
              "      <td>0</td>\n",
              "      <td>0</td>\n",
              "      <td>0</td>\n",
              "      <td>0</td>\n",
              "      <td>0</td>\n",
              "      <td>0</td>\n",
              "      <td>0</td>\n",
              "      <td>0</td>\n",
              "      <td>1</td>\n",
              "      <td>6</td>\n",
              "    </tr>\n",
              "  </tbody>\n",
              "</table>\n",
              "</div>"
            ],
            "text/plain": [
              "             name  landmass  zone  area  ...  animate  text  topleft  botright\n",
              "0     Afghanistan         5     1   648  ...        0     0        0         4\n",
              "1         Albania         3     1    29  ...        1     0        5         6\n",
              "2         Algeria         4     1  2388  ...        0     0        3         7\n",
              "3  American-Samoa         6     3     0  ...        1     0        1         6\n",
              "4         Andorra         3     1     0  ...        0     0        1         6\n",
              "\n",
              "[5 rows x 30 columns]"
            ]
          },
          "metadata": {
            "tags": []
          },
          "execution_count": 8
        }
      ]
    },
    {
      "cell_type": "code",
      "metadata": {
        "colab": {
          "base_uri": "https://localhost:8080/"
        },
        "id": "F5ZPh9AerNTs",
        "outputId": "d5c7c0e1-393d-463c-eec5-96ee2173d3d6"
      },
      "source": [
        "dataset.info()"
      ],
      "execution_count": 9,
      "outputs": [
        {
          "output_type": "stream",
          "text": [
            "<class 'pandas.core.frame.DataFrame'>\n",
            "RangeIndex: 194 entries, 0 to 193\n",
            "Data columns (total 30 columns):\n",
            " #   Column      Non-Null Count  Dtype \n",
            "---  ------      --------------  ----- \n",
            " 0   name        194 non-null    object\n",
            " 1   landmass    194 non-null    int64 \n",
            " 2   zone        194 non-null    int64 \n",
            " 3   area        194 non-null    int64 \n",
            " 4   population  194 non-null    int64 \n",
            " 5   language    194 non-null    int64 \n",
            " 6   religion    194 non-null    int64 \n",
            " 7   bars        194 non-null    int64 \n",
            " 8   stripes     194 non-null    int64 \n",
            " 9   colours     194 non-null    int64 \n",
            " 10  red         194 non-null    int64 \n",
            " 11  green       194 non-null    int64 \n",
            " 12  blue        194 non-null    int64 \n",
            " 13  gold        194 non-null    int64 \n",
            " 14  white       194 non-null    int64 \n",
            " 15  black       194 non-null    int64 \n",
            " 16  orange      194 non-null    int64 \n",
            " 17  mainhue     194 non-null    int64 \n",
            " 18  circles     194 non-null    int64 \n",
            " 19  crosses     194 non-null    int64 \n",
            " 20  saltires    194 non-null    int64 \n",
            " 21  quarters    194 non-null    int64 \n",
            " 22  sunstars    194 non-null    int64 \n",
            " 23  crescent    194 non-null    int64 \n",
            " 24  triangle    194 non-null    int64 \n",
            " 25  icon        194 non-null    int64 \n",
            " 26  animate     194 non-null    int64 \n",
            " 27  text        194 non-null    int64 \n",
            " 28  topleft     194 non-null    int64 \n",
            " 29  botright    194 non-null    int64 \n",
            "dtypes: int64(29), object(1)\n",
            "memory usage: 45.6+ KB\n"
          ],
          "name": "stdout"
        }
      ]
    },
    {
      "cell_type": "markdown",
      "metadata": {
        "id": "J9Jz0Xqw_jld"
      },
      "source": [
        "Tudo correto, as variáveis ficam todos numéricas com as transformações."
      ]
    },
    {
      "cell_type": "markdown",
      "metadata": {
        "id": "a5REVbsWrNTt"
      },
      "source": [
        "**Explorando os dados**"
      ]
    },
    {
      "cell_type": "code",
      "metadata": {
        "colab": {
          "base_uri": "https://localhost:8080/",
          "height": 1000
        },
        "id": "ynwBrugSrNTu",
        "outputId": "a1f04fd2-728a-4260-b99b-a86650984fcb"
      },
      "source": [
        "sns.pairplot(dataset.iloc[:, 0:10]) # .drop(['religion'], axis = 1) # diag_kind = \"kde\"\n",
        "plt.show()"
      ],
      "execution_count": 10,
      "outputs": [
        {
          "output_type": "display_data",
          "data": {
            "image/png": "[encoded data removed]",
            "text/plain": [
              "<Figure size 1620x1620 with 90 Axes>"
            ]
          },
          "metadata": {
            "tags": [],
            "needs_background": "light"
          }
        }
      ]
    },
    {
      "cell_type": "code",
      "metadata": {
        "colab": {
          "base_uri": "https://localhost:8080/",
          "height": 1000
        },
        "id": "5GxfhWBxrNTu",
        "outputId": "760c8c13-d6d3-4d0b-b596-cf4d83d1ec29"
      },
      "source": [
        "sns.pairplot(dataset.iloc[:, 10:20])\n",
        "plt.show()"
      ],
      "execution_count": 11,
      "outputs": [
        {
          "output_type": "display_data",
          "data": {
            "image/png": "[encoded data removed]",
            "text/plain": [
              "<Figure size 1800x1800 with 110 Axes>"
            ]
          },
          "metadata": {
            "tags": [],
            "needs_background": "light"
          }
        }
      ]
    },
    {
      "cell_type": "code",
      "metadata": {
        "colab": {
          "base_uri": "https://localhost:8080/",
          "height": 1000
        },
        "id": "3JjSSbFMrNTv",
        "outputId": "eb5a908a-015b-4a59-be8b-ba22dfdf1b91"
      },
      "source": [
        "sns.pairplot(dataset.iloc[:, 20:30])\n",
        "plt.show()"
      ],
      "execution_count": 12,
      "outputs": [
        {
          "output_type": "display_data",
          "data": {
            "image/png": "[encoded data removed]",
            "text/plain": [
              "<Figure size 1800x1800 with 110 Axes>"
            ]
          },
          "metadata": {
            "tags": [],
            "needs_background": "light"
          }
        }
      ]
    },
    {
      "cell_type": "markdown",
      "metadata": {
        "id": "LnYFQaW6AVPN"
      },
      "source": [
        "Pelos gráficos verificamos que não há aprentemente cotrrelação entre as variáveis da base de dados de bandeiras."
      ]
    },
    {
      "cell_type": "markdown",
      "metadata": {
        "id": "6_CxXRhQAdbe"
      },
      "source": [
        "**Estatísticas Básicas**\n",
        "\n",
        "Agora apresentamos as estatísticas básicas das variáveis."
      ]
    },
    {
      "cell_type": "code",
      "metadata": {
        "colab": {
          "base_uri": "https://localhost:8080/",
          "height": 911
        },
        "id": "0IX_XztCrNTv",
        "outputId": "195e4702-3e88-4273-fdcf-1037197f4b00"
      },
      "source": [
        "# estatísticas básicas\n",
        "dataset.drop(['religion'], axis = 1).describe().T"
      ],
      "execution_count": 13,
      "outputs": [
        {
          "output_type": "execute_result",
          "data": {
            "text/html": [
              "<div>\n",
              "<style scoped>\n",
              "    .dataframe tbody tr th:only-of-type {\n",
              "        vertical-align: middle;\n",
              "    }\n",
              "\n",
              "    .dataframe tbody tr th {\n",
              "        vertical-align: top;\n",
              "    }\n",
              "\n",
              "    .dataframe thead th {\n",
              "        text-align: right;\n",
              "    }\n",
              "</style>\n",
              "<table border=\"1\" class=\"dataframe\">\n",
              "  <thead>\n",
              "    <tr style=\"text-align: right;\">\n",
              "      <th></th>\n",
              "      <th>count</th>\n",
              "      <th>mean</th>\n",
              "      <th>std</th>\n",
              "      <th>min</th>\n",
              "      <th>25%</th>\n",
              "      <th>50%</th>\n",
              "      <th>75%</th>\n",
              "      <th>max</th>\n",
              "    </tr>\n",
              "  </thead>\n",
              "  <tbody>\n",
              "    <tr>\n",
              "      <th>landmass</th>\n",
              "      <td>194.0</td>\n",
              "      <td>3.572165</td>\n",
              "      <td>1.553018</td>\n",
              "      <td>1.0</td>\n",
              "      <td>3.0</td>\n",
              "      <td>4.0</td>\n",
              "      <td>5.00</td>\n",
              "      <td>6.0</td>\n",
              "    </tr>\n",
              "    <tr>\n",
              "      <th>zone</th>\n",
              "      <td>194.0</td>\n",
              "      <td>2.211340</td>\n",
              "      <td>1.308274</td>\n",
              "      <td>1.0</td>\n",
              "      <td>1.0</td>\n",
              "      <td>2.0</td>\n",
              "      <td>4.00</td>\n",
              "      <td>4.0</td>\n",
              "    </tr>\n",
              "    <tr>\n",
              "      <th>area</th>\n",
              "      <td>194.0</td>\n",
              "      <td>700.046392</td>\n",
              "      <td>2170.927932</td>\n",
              "      <td>0.0</td>\n",
              "      <td>9.0</td>\n",
              "      <td>111.0</td>\n",
              "      <td>471.25</td>\n",
              "      <td>22402.0</td>\n",
              "    </tr>\n",
              "    <tr>\n",
              "      <th>population</th>\n",
              "      <td>194.0</td>\n",
              "      <td>23.268041</td>\n",
              "      <td>91.934085</td>\n",
              "      <td>0.0</td>\n",
              "      <td>0.0</td>\n",
              "      <td>4.0</td>\n",
              "      <td>14.00</td>\n",
              "      <td>1008.0</td>\n",
              "    </tr>\n",
              "    <tr>\n",
              "      <th>language</th>\n",
              "      <td>194.0</td>\n",
              "      <td>5.340206</td>\n",
              "      <td>3.496517</td>\n",
              "      <td>1.0</td>\n",
              "      <td>2.0</td>\n",
              "      <td>6.0</td>\n",
              "      <td>9.00</td>\n",
              "      <td>10.0</td>\n",
              "    </tr>\n",
              "    <tr>\n",
              "      <th>bars</th>\n",
              "      <td>194.0</td>\n",
              "      <td>0.453608</td>\n",
              "      <td>1.038339</td>\n",
              "      <td>0.0</td>\n",
              "      <td>0.0</td>\n",
              "      <td>0.0</td>\n",
              "      <td>0.00</td>\n",
              "      <td>5.0</td>\n",
              "    </tr>\n",
              "    <tr>\n",
              "      <th>stripes</th>\n",
              "      <td>194.0</td>\n",
              "      <td>1.551546</td>\n",
              "      <td>2.328005</td>\n",
              "      <td>0.0</td>\n",
              "      <td>0.0</td>\n",
              "      <td>0.0</td>\n",
              "      <td>3.00</td>\n",
              "      <td>14.0</td>\n",
              "    </tr>\n",
              "    <tr>\n",
              "      <th>colours</th>\n",
              "      <td>194.0</td>\n",
              "      <td>3.463918</td>\n",
              "      <td>1.300154</td>\n",
              "      <td>1.0</td>\n",
              "      <td>3.0</td>\n",
              "      <td>3.0</td>\n",
              "      <td>4.00</td>\n",
              "      <td>8.0</td>\n",
              "    </tr>\n",
              "    <tr>\n",
              "      <th>red</th>\n",
              "      <td>194.0</td>\n",
              "      <td>0.788660</td>\n",
              "      <td>0.409315</td>\n",
              "      <td>0.0</td>\n",
              "      <td>1.0</td>\n",
              "      <td>1.0</td>\n",
              "      <td>1.00</td>\n",
              "      <td>1.0</td>\n",
              "    </tr>\n",
              "    <tr>\n",
              "      <th>green</th>\n",
              "      <td>194.0</td>\n",
              "      <td>0.469072</td>\n",
              "      <td>0.500334</td>\n",
              "      <td>0.0</td>\n",
              "      <td>0.0</td>\n",
              "      <td>0.0</td>\n",
              "      <td>1.00</td>\n",
              "      <td>1.0</td>\n",
              "    </tr>\n",
              "    <tr>\n",
              "      <th>blue</th>\n",
              "      <td>194.0</td>\n",
              "      <td>0.510309</td>\n",
              "      <td>0.501187</td>\n",
              "      <td>0.0</td>\n",
              "      <td>0.0</td>\n",
              "      <td>1.0</td>\n",
              "      <td>1.00</td>\n",
              "      <td>1.0</td>\n",
              "    </tr>\n",
              "    <tr>\n",
              "      <th>gold</th>\n",
              "      <td>194.0</td>\n",
              "      <td>0.469072</td>\n",
              "      <td>0.500334</td>\n",
              "      <td>0.0</td>\n",
              "      <td>0.0</td>\n",
              "      <td>0.0</td>\n",
              "      <td>1.00</td>\n",
              "      <td>1.0</td>\n",
              "    </tr>\n",
              "    <tr>\n",
              "      <th>white</th>\n",
              "      <td>194.0</td>\n",
              "      <td>0.752577</td>\n",
              "      <td>0.432631</td>\n",
              "      <td>0.0</td>\n",
              "      <td>1.0</td>\n",
              "      <td>1.0</td>\n",
              "      <td>1.00</td>\n",
              "      <td>1.0</td>\n",
              "    </tr>\n",
              "    <tr>\n",
              "      <th>black</th>\n",
              "      <td>194.0</td>\n",
              "      <td>0.268041</td>\n",
              "      <td>0.444085</td>\n",
              "      <td>0.0</td>\n",
              "      <td>0.0</td>\n",
              "      <td>0.0</td>\n",
              "      <td>1.00</td>\n",
              "      <td>1.0</td>\n",
              "    </tr>\n",
              "    <tr>\n",
              "      <th>orange</th>\n",
              "      <td>194.0</td>\n",
              "      <td>0.134021</td>\n",
              "      <td>0.341556</td>\n",
              "      <td>0.0</td>\n",
              "      <td>0.0</td>\n",
              "      <td>0.0</td>\n",
              "      <td>0.00</td>\n",
              "      <td>1.0</td>\n",
              "    </tr>\n",
              "    <tr>\n",
              "      <th>mainhue</th>\n",
              "      <td>194.0</td>\n",
              "      <td>4.252577</td>\n",
              "      <td>2.207645</td>\n",
              "      <td>0.0</td>\n",
              "      <td>3.0</td>\n",
              "      <td>4.5</td>\n",
              "      <td>6.00</td>\n",
              "      <td>7.0</td>\n",
              "    </tr>\n",
              "    <tr>\n",
              "      <th>circles</th>\n",
              "      <td>194.0</td>\n",
              "      <td>0.170103</td>\n",
              "      <td>0.463075</td>\n",
              "      <td>0.0</td>\n",
              "      <td>0.0</td>\n",
              "      <td>0.0</td>\n",
              "      <td>0.00</td>\n",
              "      <td>4.0</td>\n",
              "    </tr>\n",
              "    <tr>\n",
              "      <th>crosses</th>\n",
              "      <td>194.0</td>\n",
              "      <td>0.149485</td>\n",
              "      <td>0.385387</td>\n",
              "      <td>0.0</td>\n",
              "      <td>0.0</td>\n",
              "      <td>0.0</td>\n",
              "      <td>0.00</td>\n",
              "      <td>2.0</td>\n",
              "    </tr>\n",
              "    <tr>\n",
              "      <th>saltires</th>\n",
              "      <td>194.0</td>\n",
              "      <td>0.092784</td>\n",
              "      <td>0.290879</td>\n",
              "      <td>0.0</td>\n",
              "      <td>0.0</td>\n",
              "      <td>0.0</td>\n",
              "      <td>0.00</td>\n",
              "      <td>1.0</td>\n",
              "    </tr>\n",
              "    <tr>\n",
              "      <th>quarters</th>\n",
              "      <td>194.0</td>\n",
              "      <td>0.149485</td>\n",
              "      <td>0.435860</td>\n",
              "      <td>0.0</td>\n",
              "      <td>0.0</td>\n",
              "      <td>0.0</td>\n",
              "      <td>0.00</td>\n",
              "      <td>4.0</td>\n",
              "    </tr>\n",
              "    <tr>\n",
              "      <th>sunstars</th>\n",
              "      <td>194.0</td>\n",
              "      <td>1.386598</td>\n",
              "      <td>4.396186</td>\n",
              "      <td>0.0</td>\n",
              "      <td>0.0</td>\n",
              "      <td>0.0</td>\n",
              "      <td>1.00</td>\n",
              "      <td>50.0</td>\n",
              "    </tr>\n",
              "    <tr>\n",
              "      <th>crescent</th>\n",
              "      <td>194.0</td>\n",
              "      <td>0.056701</td>\n",
              "      <td>0.231869</td>\n",
              "      <td>0.0</td>\n",
              "      <td>0.0</td>\n",
              "      <td>0.0</td>\n",
              "      <td>0.00</td>\n",
              "      <td>1.0</td>\n",
              "    </tr>\n",
              "    <tr>\n",
              "      <th>triangle</th>\n",
              "      <td>194.0</td>\n",
              "      <td>0.139175</td>\n",
              "      <td>0.347025</td>\n",
              "      <td>0.0</td>\n",
              "      <td>0.0</td>\n",
              "      <td>0.0</td>\n",
              "      <td>0.00</td>\n",
              "      <td>1.0</td>\n",
              "    </tr>\n",
              "    <tr>\n",
              "      <th>icon</th>\n",
              "      <td>194.0</td>\n",
              "      <td>0.252577</td>\n",
              "      <td>0.435615</td>\n",
              "      <td>0.0</td>\n",
              "      <td>0.0</td>\n",
              "      <td>0.0</td>\n",
              "      <td>0.75</td>\n",
              "      <td>1.0</td>\n",
              "    </tr>\n",
              "    <tr>\n",
              "      <th>animate</th>\n",
              "      <td>194.0</td>\n",
              "      <td>0.201031</td>\n",
              "      <td>0.401808</td>\n",
              "      <td>0.0</td>\n",
              "      <td>0.0</td>\n",
              "      <td>0.0</td>\n",
              "      <td>0.00</td>\n",
              "      <td>1.0</td>\n",
              "    </tr>\n",
              "    <tr>\n",
              "      <th>text</th>\n",
              "      <td>194.0</td>\n",
              "      <td>0.082474</td>\n",
              "      <td>0.275798</td>\n",
              "      <td>0.0</td>\n",
              "      <td>0.0</td>\n",
              "      <td>0.0</td>\n",
              "      <td>0.00</td>\n",
              "      <td>1.0</td>\n",
              "    </tr>\n",
              "    <tr>\n",
              "      <th>topleft</th>\n",
              "      <td>194.0</td>\n",
              "      <td>3.572165</td>\n",
              "      <td>2.060597</td>\n",
              "      <td>0.0</td>\n",
              "      <td>1.0</td>\n",
              "      <td>4.5</td>\n",
              "      <td>5.00</td>\n",
              "      <td>6.0</td>\n",
              "    </tr>\n",
              "    <tr>\n",
              "      <th>botright</th>\n",
              "      <td>194.0</td>\n",
              "      <td>4.000000</td>\n",
              "      <td>2.292136</td>\n",
              "      <td>0.0</td>\n",
              "      <td>1.0</td>\n",
              "      <td>4.0</td>\n",
              "      <td>6.00</td>\n",
              "      <td>7.0</td>\n",
              "    </tr>\n",
              "  </tbody>\n",
              "</table>\n",
              "</div>"
            ],
            "text/plain": [
              "            count        mean          std  min  25%    50%     75%      max\n",
              "landmass    194.0    3.572165     1.553018  1.0  3.0    4.0    5.00      6.0\n",
              "zone        194.0    2.211340     1.308274  1.0  1.0    2.0    4.00      4.0\n",
              "area        194.0  700.046392  2170.927932  0.0  9.0  111.0  471.25  22402.0\n",
              "population  194.0   23.268041    91.934085  0.0  0.0    4.0   14.00   1008.0\n",
              "language    194.0    5.340206     3.496517  1.0  2.0    6.0    9.00     10.0\n",
              "bars        194.0    0.453608     1.038339  0.0  0.0    0.0    0.00      5.0\n",
              "stripes     194.0    1.551546     2.328005  0.0  0.0    0.0    3.00     14.0\n",
              "colours     194.0    3.463918     1.300154  1.0  3.0    3.0    4.00      8.0\n",
              "red         194.0    0.788660     0.409315  0.0  1.0    1.0    1.00      1.0\n",
              "green       194.0    0.469072     0.500334  0.0  0.0    0.0    1.00      1.0\n",
              "blue        194.0    0.510309     0.501187  0.0  0.0    1.0    1.00      1.0\n",
              "gold        194.0    0.469072     0.500334  0.0  0.0    0.0    1.00      1.0\n",
              "white       194.0    0.752577     0.432631  0.0  1.0    1.0    1.00      1.0\n",
              "black       194.0    0.268041     0.444085  0.0  0.0    0.0    1.00      1.0\n",
              "orange      194.0    0.134021     0.341556  0.0  0.0    0.0    0.00      1.0\n",
              "mainhue     194.0    4.252577     2.207645  0.0  3.0    4.5    6.00      7.0\n",
              "circles     194.0    0.170103     0.463075  0.0  0.0    0.0    0.00      4.0\n",
              "crosses     194.0    0.149485     0.385387  0.0  0.0    0.0    0.00      2.0\n",
              "saltires    194.0    0.092784     0.290879  0.0  0.0    0.0    0.00      1.0\n",
              "quarters    194.0    0.149485     0.435860  0.0  0.0    0.0    0.00      4.0\n",
              "sunstars    194.0    1.386598     4.396186  0.0  0.0    0.0    1.00     50.0\n",
              "crescent    194.0    0.056701     0.231869  0.0  0.0    0.0    0.00      1.0\n",
              "triangle    194.0    0.139175     0.347025  0.0  0.0    0.0    0.00      1.0\n",
              "icon        194.0    0.252577     0.435615  0.0  0.0    0.0    0.75      1.0\n",
              "animate     194.0    0.201031     0.401808  0.0  0.0    0.0    0.00      1.0\n",
              "text        194.0    0.082474     0.275798  0.0  0.0    0.0    0.00      1.0\n",
              "topleft     194.0    3.572165     2.060597  0.0  1.0    4.5    5.00      6.0\n",
              "botright    194.0    4.000000     2.292136  0.0  1.0    4.0    6.00      7.0"
            ]
          },
          "metadata": {
            "tags": []
          },
          "execution_count": 13
        }
      ]
    },
    {
      "cell_type": "markdown",
      "metadata": {
        "id": "B1Om3-jIq4Kr"
      },
      "source": [
        "**correlação entre as variáveis**"
      ]
    },
    {
      "cell_type": "code",
      "metadata": {
        "colab": {
          "base_uri": "https://localhost:8080/",
          "height": 650
        },
        "id": "69hQKpBTq4Kr",
        "outputId": "1c93224d-c103-4d75-a175-0487125be429"
      },
      "source": [
        "corr = dataset.corr(method = 'spearman')\n",
        "corr.style.background_gradient(cmap = 'coolwarm')"
      ],
      "execution_count": 14,
      "outputs": [
        {
          "output_type": "execute_result",
          "data": {
            "text/html": [
              "<style  type=\"text/css\" >\n",
              "#T_fc2dbd5c_d90e_11eb_8914_0242ac1c0002row0_col0,#T_fc2dbd5c_d90e_11eb_8914_0242ac1c0002row1_col1,#T_fc2dbd5c_d90e_11eb_8914_0242ac1c0002row2_col2,#T_fc2dbd5c_d90e_11eb_8914_0242ac1c0002row3_col3,#T_fc2dbd5c_d90e_11eb_8914_0242ac1c0002row4_col4,#T_fc2dbd5c_d90e_11eb_8914_0242ac1c0002row5_col5,#T_fc2dbd5c_d90e_11eb_8914_0242ac1c0002row6_col6,#T_fc2dbd5c_d90e_11eb_8914_0242ac1c0002row7_col7,#T_fc2dbd5c_d90e_11eb_8914_0242ac1c0002row8_col8,#T_fc2dbd5c_d90e_11eb_8914_0242ac1c0002row9_col9,#T_fc2dbd5c_d90e_11eb_8914_0242ac1c0002row10_col10,#T_fc2dbd5c_d90e_11eb_8914_0242ac1c0002row11_col11,#T_fc2dbd5c_d90e_11eb_8914_0242ac1c0002row12_col12,#T_fc2dbd5c_d90e_11eb_8914_0242ac1c0002row13_col13,#T_fc2dbd5c_d90e_11eb_8914_0242ac1c0002row14_col14,#T_fc2dbd5c_d90e_11eb_8914_0242ac1c0002row15_col15,#T_fc2dbd5c_d90e_11eb_8914_0242ac1c0002row16_col16,#T_fc2dbd5c_d90e_11eb_8914_0242ac1c0002row17_col17,#T_fc2dbd5c_d90e_11eb_8914_0242ac1c0002row18_col18,#T_fc2dbd5c_d90e_11eb_8914_0242ac1c0002row19_col19,#T_fc2dbd5c_d90e_11eb_8914_0242ac1c0002row20_col20,#T_fc2dbd5c_d90e_11eb_8914_0242ac1c0002row21_col21,#T_fc2dbd5c_d90e_11eb_8914_0242ac1c0002row22_col22,#T_fc2dbd5c_d90e_11eb_8914_0242ac1c0002row23_col23,#T_fc2dbd5c_d90e_11eb_8914_0242ac1c0002row24_col24,#T_fc2dbd5c_d90e_11eb_8914_0242ac1c0002row25_col25,#T_fc2dbd5c_d90e_11eb_8914_0242ac1c0002row26_col26,#T_fc2dbd5c_d90e_11eb_8914_0242ac1c0002row27_col27,#T_fc2dbd5c_d90e_11eb_8914_0242ac1c0002row28_col28{\n",
              "            background-color:  #b40426;\n",
              "            color:  #f1f1f1;\n",
              "        }#T_fc2dbd5c_d90e_11eb_8914_0242ac1c0002row0_col1,#T_fc2dbd5c_d90e_11eb_8914_0242ac1c0002row11_col28{\n",
              "            background-color:  #4358cb;\n",
              "            color:  #f1f1f1;\n",
              "        }#T_fc2dbd5c_d90e_11eb_8914_0242ac1c0002row0_col2,#T_fc2dbd5c_d90e_11eb_8914_0242ac1c0002row0_col3,#T_fc2dbd5c_d90e_11eb_8914_0242ac1c0002row2_col16,#T_fc2dbd5c_d90e_11eb_8914_0242ac1c0002row6_col3,#T_fc2dbd5c_d90e_11eb_8914_0242ac1c0002row7_col12,#T_fc2dbd5c_d90e_11eb_8914_0242ac1c0002row13_col16,#T_fc2dbd5c_d90e_11eb_8914_0242ac1c0002row16_col2,#T_fc2dbd5c_d90e_11eb_8914_0242ac1c0002row16_col7,#T_fc2dbd5c_d90e_11eb_8914_0242ac1c0002row17_col10,#T_fc2dbd5c_d90e_11eb_8914_0242ac1c0002row17_col26,#T_fc2dbd5c_d90e_11eb_8914_0242ac1c0002row22_col6,#T_fc2dbd5c_d90e_11eb_8914_0242ac1c0002row25_col9{\n",
              "            background-color:  #97b8ff;\n",
              "            color:  #000000;\n",
              "        }#T_fc2dbd5c_d90e_11eb_8914_0242ac1c0002row0_col4{\n",
              "            background-color:  #f7b89c;\n",
              "            color:  #000000;\n",
              "        }#T_fc2dbd5c_d90e_11eb_8914_0242ac1c0002row0_col5{\n",
              "            background-color:  #efcebd;\n",
              "            color:  #000000;\n",
              "        }#T_fc2dbd5c_d90e_11eb_8914_0242ac1c0002row0_col6,#T_fc2dbd5c_d90e_11eb_8914_0242ac1c0002row10_col18,#T_fc2dbd5c_d90e_11eb_8914_0242ac1c0002row21_col27,#T_fc2dbd5c_d90e_11eb_8914_0242ac1c0002row26_col7{\n",
              "            background-color:  #6b8df0;\n",
              "            color:  #000000;\n",
              "        }#T_fc2dbd5c_d90e_11eb_8914_0242ac1c0002row0_col7,#T_fc2dbd5c_d90e_11eb_8914_0242ac1c0002row17_col22,#T_fc2dbd5c_d90e_11eb_8914_0242ac1c0002row22_col19,#T_fc2dbd5c_d90e_11eb_8914_0242ac1c0002row23_col9,#T_fc2dbd5c_d90e_11eb_8914_0242ac1c0002row23_col19{\n",
              "            background-color:  #779af7;\n",
              "            color:  #000000;\n",
              "        }#T_fc2dbd5c_d90e_11eb_8914_0242ac1c0002row0_col8,#T_fc2dbd5c_d90e_11eb_8914_0242ac1c0002row2_col12,#T_fc2dbd5c_d90e_11eb_8914_0242ac1c0002row3_col22,#T_fc2dbd5c_d90e_11eb_8914_0242ac1c0002row8_col6,#T_fc2dbd5c_d90e_11eb_8914_0242ac1c0002row8_col21,#T_fc2dbd5c_d90e_11eb_8914_0242ac1c0002row9_col24,#T_fc2dbd5c_d90e_11eb_8914_0242ac1c0002row10_col7,#T_fc2dbd5c_d90e_11eb_8914_0242ac1c0002row13_col17,#T_fc2dbd5c_d90e_11eb_8914_0242ac1c0002row16_col6,#T_fc2dbd5c_d90e_11eb_8914_0242ac1c0002row17_col3,#T_fc2dbd5c_d90e_11eb_8914_0242ac1c0002row26_col14{\n",
              "            background-color:  #82a6fb;\n",
              "            color:  #000000;\n",
              "        }#T_fc2dbd5c_d90e_11eb_8914_0242ac1c0002row0_col9,#T_fc2dbd5c_d90e_11eb_8914_0242ac1c0002row2_col22,#T_fc2dbd5c_d90e_11eb_8914_0242ac1c0002row10_col2,#T_fc2dbd5c_d90e_11eb_8914_0242ac1c0002row10_col27,#T_fc2dbd5c_d90e_11eb_8914_0242ac1c0002row20_col17,#T_fc2dbd5c_d90e_11eb_8914_0242ac1c0002row21_col3,#T_fc2dbd5c_d90e_11eb_8914_0242ac1c0002row21_col23,#T_fc2dbd5c_d90e_11eb_8914_0242ac1c0002row22_col12,#T_fc2dbd5c_d90e_11eb_8914_0242ac1c0002row27_col26{\n",
              "            background-color:  #89acfd;\n",
              "            color:  #000000;\n",
              "        }#T_fc2dbd5c_d90e_11eb_8914_0242ac1c0002row0_col10,#T_fc2dbd5c_d90e_11eb_8914_0242ac1c0002row1_col25,#T_fc2dbd5c_d90e_11eb_8914_0242ac1c0002row9_col10,#T_fc2dbd5c_d90e_11eb_8914_0242ac1c0002row18_col9,#T_fc2dbd5c_d90e_11eb_8914_0242ac1c0002row21_col7,#T_fc2dbd5c_d90e_11eb_8914_0242ac1c0002row24_col9,#T_fc2dbd5c_d90e_11eb_8914_0242ac1c0002row25_col11{\n",
              "            background-color:  #8db0fe;\n",
              "            color:  #000000;\n",
              "        }#T_fc2dbd5c_d90e_11eb_8914_0242ac1c0002row0_col11,#T_fc2dbd5c_d90e_11eb_8914_0242ac1c0002row14_col18,#T_fc2dbd5c_d90e_11eb_8914_0242ac1c0002row16_col20,#T_fc2dbd5c_d90e_11eb_8914_0242ac1c0002row20_col6,#T_fc2dbd5c_d90e_11eb_8914_0242ac1c0002row25_col7,#T_fc2dbd5c_d90e_11eb_8914_0242ac1c0002row26_col22{\n",
              "            background-color:  #5a78e4;\n",
              "            color:  #000000;\n",
              "        }#T_fc2dbd5c_d90e_11eb_8914_0242ac1c0002row0_col12,#T_fc2dbd5c_d90e_11eb_8914_0242ac1c0002row0_col27,#T_fc2dbd5c_d90e_11eb_8914_0242ac1c0002row7_col16,#T_fc2dbd5c_d90e_11eb_8914_0242ac1c0002row11_col0,#T_fc2dbd5c_d90e_11eb_8914_0242ac1c0002row12_col20,#T_fc2dbd5c_d90e_11eb_8914_0242ac1c0002row15_col5,#T_fc2dbd5c_d90e_11eb_8914_0242ac1c0002row15_col27,#T_fc2dbd5c_d90e_11eb_8914_0242ac1c0002row18_col25,#T_fc2dbd5c_d90e_11eb_8914_0242ac1c0002row21_col2,#T_fc2dbd5c_d90e_11eb_8914_0242ac1c0002row25_col6,#T_fc2dbd5c_d90e_11eb_8914_0242ac1c0002row28_col5{\n",
              "            background-color:  #8badfd;\n",
              "            color:  #000000;\n",
              "        }#T_fc2dbd5c_d90e_11eb_8914_0242ac1c0002row0_col13,#T_fc2dbd5c_d90e_11eb_8914_0242ac1c0002row13_col7,#T_fc2dbd5c_d90e_11eb_8914_0242ac1c0002row14_col10,#T_fc2dbd5c_d90e_11eb_8914_0242ac1c0002row17_col25,#T_fc2dbd5c_d90e_11eb_8914_0242ac1c0002row19_col17,#T_fc2dbd5c_d90e_11eb_8914_0242ac1c0002row25_col20,#T_fc2dbd5c_d90e_11eb_8914_0242ac1c0002row25_col27,#T_fc2dbd5c_d90e_11eb_8914_0242ac1c0002row28_col6{\n",
              "            background-color:  #a3c2fe;\n",
              "            color:  #000000;\n",
              "        }#T_fc2dbd5c_d90e_11eb_8914_0242ac1c0002row0_col14,#T_fc2dbd5c_d90e_11eb_8914_0242ac1c0002row6_col25,#T_fc2dbd5c_d90e_11eb_8914_0242ac1c0002row10_col22,#T_fc2dbd5c_d90e_11eb_8914_0242ac1c0002row22_col7,#T_fc2dbd5c_d90e_11eb_8914_0242ac1c0002row22_col17,#T_fc2dbd5c_d90e_11eb_8914_0242ac1c0002row26_col3{\n",
              "            background-color:  #6c8ff1;\n",
              "            color:  #000000;\n",
              "        }#T_fc2dbd5c_d90e_11eb_8914_0242ac1c0002row0_col15,#T_fc2dbd5c_d90e_11eb_8914_0242ac1c0002row0_col16,#T_fc2dbd5c_d90e_11eb_8914_0242ac1c0002row1_col27,#T_fc2dbd5c_d90e_11eb_8914_0242ac1c0002row7_col9,#T_fc2dbd5c_d90e_11eb_8914_0242ac1c0002row10_col17,#T_fc2dbd5c_d90e_11eb_8914_0242ac1c0002row13_col24,#T_fc2dbd5c_d90e_11eb_8914_0242ac1c0002row19_col5,#T_fc2dbd5c_d90e_11eb_8914_0242ac1c0002row20_col5,#T_fc2dbd5c_d90e_11eb_8914_0242ac1c0002row22_col27,#T_fc2dbd5c_d90e_11eb_8914_0242ac1c0002row24_col28,#T_fc2dbd5c_d90e_11eb_8914_0242ac1c0002row26_col9{\n",
              "            background-color:  #7699f6;\n",
              "            color:  #000000;\n",
              "        }#T_fc2dbd5c_d90e_11eb_8914_0242ac1c0002row0_col17,#T_fc2dbd5c_d90e_11eb_8914_0242ac1c0002row5_col6,#T_fc2dbd5c_d90e_11eb_8914_0242ac1c0002row5_col24,#T_fc2dbd5c_d90e_11eb_8914_0242ac1c0002row6_col8,#T_fc2dbd5c_d90e_11eb_8914_0242ac1c0002row6_col16,#T_fc2dbd5c_d90e_11eb_8914_0242ac1c0002row9_col2,#T_fc2dbd5c_d90e_11eb_8914_0242ac1c0002row10_col16,#T_fc2dbd5c_d90e_11eb_8914_0242ac1c0002row11_col25,#T_fc2dbd5c_d90e_11eb_8914_0242ac1c0002row17_col7{\n",
              "            background-color:  #7597f6;\n",
              "            color:  #000000;\n",
              "        }#T_fc2dbd5c_d90e_11eb_8914_0242ac1c0002row0_col18,#T_fc2dbd5c_d90e_11eb_8914_0242ac1c0002row6_col9,#T_fc2dbd5c_d90e_11eb_8914_0242ac1c0002row18_col10,#T_fc2dbd5c_d90e_11eb_8914_0242ac1c0002row23_col25,#T_fc2dbd5c_d90e_11eb_8914_0242ac1c0002row25_col28,#T_fc2dbd5c_d90e_11eb_8914_0242ac1c0002row27_col22{\n",
              "            background-color:  #7295f4;\n",
              "            color:  #000000;\n",
              "        }#T_fc2dbd5c_d90e_11eb_8914_0242ac1c0002row0_col19,#T_fc2dbd5c_d90e_11eb_8914_0242ac1c0002row5_col21,#T_fc2dbd5c_d90e_11eb_8914_0242ac1c0002row9_col7,#T_fc2dbd5c_d90e_11eb_8914_0242ac1c0002row12_col11,#T_fc2dbd5c_d90e_11eb_8914_0242ac1c0002row19_col26,#T_fc2dbd5c_d90e_11eb_8914_0242ac1c0002row27_col12,#T_fc2dbd5c_d90e_11eb_8914_0242ac1c0002row27_col17{\n",
              "            background-color:  #8fb1fe;\n",
              "            color:  #000000;\n",
              "        }#T_fc2dbd5c_d90e_11eb_8914_0242ac1c0002row0_col20,#T_fc2dbd5c_d90e_11eb_8914_0242ac1c0002row4_col28,#T_fc2dbd5c_d90e_11eb_8914_0242ac1c0002row9_col3,#T_fc2dbd5c_d90e_11eb_8914_0242ac1c0002row9_col6,#T_fc2dbd5c_d90e_11eb_8914_0242ac1c0002row12_col4,#T_fc2dbd5c_d90e_11eb_8914_0242ac1c0002row12_col5,#T_fc2dbd5c_d90e_11eb_8914_0242ac1c0002row14_col6,#T_fc2dbd5c_d90e_11eb_8914_0242ac1c0002row14_col24,#T_fc2dbd5c_d90e_11eb_8914_0242ac1c0002row15_col17,#T_fc2dbd5c_d90e_11eb_8914_0242ac1c0002row20_col15,#T_fc2dbd5c_d90e_11eb_8914_0242ac1c0002row23_col7,#T_fc2dbd5c_d90e_11eb_8914_0242ac1c0002row23_col21,#T_fc2dbd5c_d90e_11eb_8914_0242ac1c0002row26_col5{\n",
              "            background-color:  #8caffe;\n",
              "            color:  #000000;\n",
              "        }#T_fc2dbd5c_d90e_11eb_8914_0242ac1c0002row0_col21,#T_fc2dbd5c_d90e_11eb_8914_0242ac1c0002row7_col3,#T_fc2dbd5c_d90e_11eb_8914_0242ac1c0002row16_col5,#T_fc2dbd5c_d90e_11eb_8914_0242ac1c0002row21_col22,#T_fc2dbd5c_d90e_11eb_8914_0242ac1c0002row23_col0,#T_fc2dbd5c_d90e_11eb_8914_0242ac1c0002row24_col13{\n",
              "            background-color:  #aec9fc;\n",
              "            color:  #000000;\n",
              "        }#T_fc2dbd5c_d90e_11eb_8914_0242ac1c0002row0_col22,#T_fc2dbd5c_d90e_11eb_8914_0242ac1c0002row1_col20,#T_fc2dbd5c_d90e_11eb_8914_0242ac1c0002row14_col5,#T_fc2dbd5c_d90e_11eb_8914_0242ac1c0002row23_col4{\n",
              "            background-color:  #a5c3fe;\n",
              "            color:  #000000;\n",
              "        }#T_fc2dbd5c_d90e_11eb_8914_0242ac1c0002row0_col23,#T_fc2dbd5c_d90e_11eb_8914_0242ac1c0002row0_col28,#T_fc2dbd5c_d90e_11eb_8914_0242ac1c0002row6_col19,#T_fc2dbd5c_d90e_11eb_8914_0242ac1c0002row13_col23,#T_fc2dbd5c_d90e_11eb_8914_0242ac1c0002row14_col3,#T_fc2dbd5c_d90e_11eb_8914_0242ac1c0002row16_col12,#T_fc2dbd5c_d90e_11eb_8914_0242ac1c0002row22_col18,#T_fc2dbd5c_d90e_11eb_8914_0242ac1c0002row23_col6,#T_fc2dbd5c_d90e_11eb_8914_0242ac1c0002row23_col22,#T_fc2dbd5c_d90e_11eb_8914_0242ac1c0002row28_col10,#T_fc2dbd5c_d90e_11eb_8914_0242ac1c0002row28_col21{\n",
              "            background-color:  #6485ec;\n",
              "            color:  #000000;\n",
              "        }#T_fc2dbd5c_d90e_11eb_8914_0242ac1c0002row0_col24,#T_fc2dbd5c_d90e_11eb_8914_0242ac1c0002row4_col12,#T_fc2dbd5c_d90e_11eb_8914_0242ac1c0002row4_col17,#T_fc2dbd5c_d90e_11eb_8914_0242ac1c0002row5_col19,#T_fc2dbd5c_d90e_11eb_8914_0242ac1c0002row5_col25,#T_fc2dbd5c_d90e_11eb_8914_0242ac1c0002row5_col28,#T_fc2dbd5c_d90e_11eb_8914_0242ac1c0002row12_col28,#T_fc2dbd5c_d90e_11eb_8914_0242ac1c0002row13_col28,#T_fc2dbd5c_d90e_11eb_8914_0242ac1c0002row15_col7,#T_fc2dbd5c_d90e_11eb_8914_0242ac1c0002row15_col14{\n",
              "            background-color:  #7093f3;\n",
              "            color:  #000000;\n",
              "        }#T_fc2dbd5c_d90e_11eb_8914_0242ac1c0002row0_col25,#T_fc2dbd5c_d90e_11eb_8914_0242ac1c0002row2_col19,#T_fc2dbd5c_d90e_11eb_8914_0242ac1c0002row4_col23,#T_fc2dbd5c_d90e_11eb_8914_0242ac1c0002row17_col23,#T_fc2dbd5c_d90e_11eb_8914_0242ac1c0002row19_col3,#T_fc2dbd5c_d90e_11eb_8914_0242ac1c0002row22_col14,#T_fc2dbd5c_d90e_11eb_8914_0242ac1c0002row23_col20{\n",
              "            background-color:  #516ddb;\n",
              "            color:  #000000;\n",
              "        }#T_fc2dbd5c_d90e_11eb_8914_0242ac1c0002row0_col26,#T_fc2dbd5c_d90e_11eb_8914_0242ac1c0002row4_col18,#T_fc2dbd5c_d90e_11eb_8914_0242ac1c0002row21_col24{\n",
              "            background-color:  #445acc;\n",
              "            color:  #f1f1f1;\n",
              "        }#T_fc2dbd5c_d90e_11eb_8914_0242ac1c0002row1_col0,#T_fc2dbd5c_d90e_11eb_8914_0242ac1c0002row1_col3,#T_fc2dbd5c_d90e_11eb_8914_0242ac1c0002row1_col4,#T_fc2dbd5c_d90e_11eb_8914_0242ac1c0002row1_col5,#T_fc2dbd5c_d90e_11eb_8914_0242ac1c0002row2_col8,#T_fc2dbd5c_d90e_11eb_8914_0242ac1c0002row2_col24,#T_fc2dbd5c_d90e_11eb_8914_0242ac1c0002row2_col25,#T_fc2dbd5c_d90e_11eb_8914_0242ac1c0002row3_col23,#T_fc2dbd5c_d90e_11eb_8914_0242ac1c0002row4_col1,#T_fc2dbd5c_d90e_11eb_8914_0242ac1c0002row4_col19,#T_fc2dbd5c_d90e_11eb_8914_0242ac1c0002row4_col20,#T_fc2dbd5c_d90e_11eb_8914_0242ac1c0002row6_col7,#T_fc2dbd5c_d90e_11eb_8914_0242ac1c0002row6_col17,#T_fc2dbd5c_d90e_11eb_8914_0242ac1c0002row6_col21,#T_fc2dbd5c_d90e_11eb_8914_0242ac1c0002row7_col6,#T_fc2dbd5c_d90e_11eb_8914_0242ac1c0002row7_col18,#T_fc2dbd5c_d90e_11eb_8914_0242ac1c0002row7_col25,#T_fc2dbd5c_d90e_11eb_8914_0242ac1c0002row7_col27,#T_fc2dbd5c_d90e_11eb_8914_0242ac1c0002row8_col2,#T_fc2dbd5c_d90e_11eb_8914_0242ac1c0002row8_col22,#T_fc2dbd5c_d90e_11eb_8914_0242ac1c0002row10_col11,#T_fc2dbd5c_d90e_11eb_8914_0242ac1c0002row11_col9,#T_fc2dbd5c_d90e_11eb_8914_0242ac1c0002row11_col10,#T_fc2dbd5c_d90e_11eb_8914_0242ac1c0002row11_col14,#T_fc2dbd5c_d90e_11eb_8914_0242ac1c0002row12_col13,#T_fc2dbd5c_d90e_11eb_8914_0242ac1c0002row13_col12,#T_fc2dbd5c_d90e_11eb_8914_0242ac1c0002row16_col15,#T_fc2dbd5c_d90e_11eb_8914_0242ac1c0002row16_col26,#T_fc2dbd5c_d90e_11eb_8914_0242ac1c0002row19_col16,#T_fc2dbd5c_d90e_11eb_8914_0242ac1c0002row19_col28{\n",
              "            background-color:  #3b4cc0;\n",
              "            color:  #f1f1f1;\n",
              "        }#T_fc2dbd5c_d90e_11eb_8914_0242ac1c0002row1_col2,#T_fc2dbd5c_d90e_11eb_8914_0242ac1c0002row11_col27,#T_fc2dbd5c_d90e_11eb_8914_0242ac1c0002row13_col2,#T_fc2dbd5c_d90e_11eb_8914_0242ac1c0002row16_col11,#T_fc2dbd5c_d90e_11eb_8914_0242ac1c0002row18_col22,#T_fc2dbd5c_d90e_11eb_8914_0242ac1c0002row19_col23,#T_fc2dbd5c_d90e_11eb_8914_0242ac1c0002row23_col3,#T_fc2dbd5c_d90e_11eb_8914_0242ac1c0002row23_col24,#T_fc2dbd5c_d90e_11eb_8914_0242ac1c0002row23_col27,#T_fc2dbd5c_d90e_11eb_8914_0242ac1c0002row24_col2,#T_fc2dbd5c_d90e_11eb_8914_0242ac1c0002row25_col3,#T_fc2dbd5c_d90e_11eb_8914_0242ac1c0002row27_col3,#T_fc2dbd5c_d90e_11eb_8914_0242ac1c0002row27_col7{\n",
              "            background-color:  #536edd;\n",
              "            color:  #000000;\n",
              "        }#T_fc2dbd5c_d90e_11eb_8914_0242ac1c0002row1_col6,#T_fc2dbd5c_d90e_11eb_8914_0242ac1c0002row14_col9,#T_fc2dbd5c_d90e_11eb_8914_0242ac1c0002row21_col19,#T_fc2dbd5c_d90e_11eb_8914_0242ac1c0002row28_col12,#T_fc2dbd5c_d90e_11eb_8914_0242ac1c0002row28_col13,#T_fc2dbd5c_d90e_11eb_8914_0242ac1c0002row28_col22,#T_fc2dbd5c_d90e_11eb_8914_0242ac1c0002row28_col27{\n",
              "            background-color:  #9abbff;\n",
              "            color:  #000000;\n",
              "        }#T_fc2dbd5c_d90e_11eb_8914_0242ac1c0002row1_col7,#T_fc2dbd5c_d90e_11eb_8914_0242ac1c0002row1_col14,#T_fc2dbd5c_d90e_11eb_8914_0242ac1c0002row9_col17,#T_fc2dbd5c_d90e_11eb_8914_0242ac1c0002row13_col26,#T_fc2dbd5c_d90e_11eb_8914_0242ac1c0002row18_col4,#T_fc2dbd5c_d90e_11eb_8914_0242ac1c0002row27_col24{\n",
              "            background-color:  #85a8fc;\n",
              "            color:  #000000;\n",
              "        }#T_fc2dbd5c_d90e_11eb_8914_0242ac1c0002row1_col8,#T_fc2dbd5c_d90e_11eb_8914_0242ac1c0002row8_col7,#T_fc2dbd5c_d90e_11eb_8914_0242ac1c0002row16_col3,#T_fc2dbd5c_d90e_11eb_8914_0242ac1c0002row19_col10,#T_fc2dbd5c_d90e_11eb_8914_0242ac1c0002row25_col14{\n",
              "            background-color:  #a7c5fe;\n",
              "            color:  #000000;\n",
              "        }#T_fc2dbd5c_d90e_11eb_8914_0242ac1c0002row1_col9,#T_fc2dbd5c_d90e_11eb_8914_0242ac1c0002row2_col9,#T_fc2dbd5c_d90e_11eb_8914_0242ac1c0002row4_col24,#T_fc2dbd5c_d90e_11eb_8914_0242ac1c0002row13_col9,#T_fc2dbd5c_d90e_11eb_8914_0242ac1c0002row16_col17{\n",
              "            background-color:  #6788ee;\n",
              "            color:  #000000;\n",
              "        }#T_fc2dbd5c_d90e_11eb_8914_0242ac1c0002row1_col10,#T_fc2dbd5c_d90e_11eb_8914_0242ac1c0002row1_col18,#T_fc2dbd5c_d90e_11eb_8914_0242ac1c0002row10_col24,#T_fc2dbd5c_d90e_11eb_8914_0242ac1c0002row17_col11,#T_fc2dbd5c_d90e_11eb_8914_0242ac1c0002row17_col24,#T_fc2dbd5c_d90e_11eb_8914_0242ac1c0002row23_col13,#T_fc2dbd5c_d90e_11eb_8914_0242ac1c0002row24_col20,#T_fc2dbd5c_d90e_11eb_8914_0242ac1c0002row27_col5,#T_fc2dbd5c_d90e_11eb_8914_0242ac1c0002row27_col25,#T_fc2dbd5c_d90e_11eb_8914_0242ac1c0002row28_col3{\n",
              "            background-color:  #9ebeff;\n",
              "            color:  #000000;\n",
              "        }#T_fc2dbd5c_d90e_11eb_8914_0242ac1c0002row1_col11,#T_fc2dbd5c_d90e_11eb_8914_0242ac1c0002row6_col4,#T_fc2dbd5c_d90e_11eb_8914_0242ac1c0002row13_col20,#T_fc2dbd5c_d90e_11eb_8914_0242ac1c0002row24_col19,#T_fc2dbd5c_d90e_11eb_8914_0242ac1c0002row27_col20{\n",
              "            background-color:  #bbd1f8;\n",
              "            color:  #000000;\n",
              "        }#T_fc2dbd5c_d90e_11eb_8914_0242ac1c0002row1_col12,#T_fc2dbd5c_d90e_11eb_8914_0242ac1c0002row10_col1,#T_fc2dbd5c_d90e_11eb_8914_0242ac1c0002row11_col18,#T_fc2dbd5c_d90e_11eb_8914_0242ac1c0002row14_col23,#T_fc2dbd5c_d90e_11eb_8914_0242ac1c0002row15_col19{\n",
              "            background-color:  #c9d7f0;\n",
              "            color:  #000000;\n",
              "        }#T_fc2dbd5c_d90e_11eb_8914_0242ac1c0002row1_col13,#T_fc2dbd5c_d90e_11eb_8914_0242ac1c0002row6_col0,#T_fc2dbd5c_d90e_11eb_8914_0242ac1c0002row20_col9,#T_fc2dbd5c_d90e_11eb_8914_0242ac1c0002row20_col25,#T_fc2dbd5c_d90e_11eb_8914_0242ac1c0002row22_col2,#T_fc2dbd5c_d90e_11eb_8914_0242ac1c0002row25_col5{\n",
              "            background-color:  #96b7ff;\n",
              "            color:  #000000;\n",
              "        }#T_fc2dbd5c_d90e_11eb_8914_0242ac1c0002row1_col15,#T_fc2dbd5c_d90e_11eb_8914_0242ac1c0002row1_col23,#T_fc2dbd5c_d90e_11eb_8914_0242ac1c0002row3_col9,#T_fc2dbd5c_d90e_11eb_8914_0242ac1c0002row6_col22,#T_fc2dbd5c_d90e_11eb_8914_0242ac1c0002row11_col4,#T_fc2dbd5c_d90e_11eb_8914_0242ac1c0002row21_col17{\n",
              "            background-color:  #7da0f9;\n",
              "            color:  #000000;\n",
              "        }#T_fc2dbd5c_d90e_11eb_8914_0242ac1c0002row1_col16,#T_fc2dbd5c_d90e_11eb_8914_0242ac1c0002row9_col26,#T_fc2dbd5c_d90e_11eb_8914_0242ac1c0002row13_col10,#T_fc2dbd5c_d90e_11eb_8914_0242ac1c0002row14_col15,#T_fc2dbd5c_d90e_11eb_8914_0242ac1c0002row18_col6,#T_fc2dbd5c_d90e_11eb_8914_0242ac1c0002row22_col15,#T_fc2dbd5c_d90e_11eb_8914_0242ac1c0002row23_col2,#T_fc2dbd5c_d90e_11eb_8914_0242ac1c0002row25_col21,#T_fc2dbd5c_d90e_11eb_8914_0242ac1c0002row27_col21,#T_fc2dbd5c_d90e_11eb_8914_0242ac1c0002row28_col24{\n",
              "            background-color:  #6282ea;\n",
              "            color:  #000000;\n",
              "        }#T_fc2dbd5c_d90e_11eb_8914_0242ac1c0002row1_col17,#T_fc2dbd5c_d90e_11eb_8914_0242ac1c0002row3_col19,#T_fc2dbd5c_d90e_11eb_8914_0242ac1c0002row6_col24,#T_fc2dbd5c_d90e_11eb_8914_0242ac1c0002row11_col6,#T_fc2dbd5c_d90e_11eb_8914_0242ac1c0002row12_col27,#T_fc2dbd5c_d90e_11eb_8914_0242ac1c0002row22_col23{\n",
              "            background-color:  #5e7de7;\n",
              "            color:  #000000;\n",
              "        }#T_fc2dbd5c_d90e_11eb_8914_0242ac1c0002row1_col19,#T_fc2dbd5c_d90e_11eb_8914_0242ac1c0002row5_col2,#T_fc2dbd5c_d90e_11eb_8914_0242ac1c0002row17_col4,#T_fc2dbd5c_d90e_11eb_8914_0242ac1c0002row24_col15{\n",
              "            background-color:  #c0d4f5;\n",
              "            color:  #000000;\n",
              "        }#T_fc2dbd5c_d90e_11eb_8914_0242ac1c0002row1_col21,#T_fc2dbd5c_d90e_11eb_8914_0242ac1c0002row6_col13,#T_fc2dbd5c_d90e_11eb_8914_0242ac1c0002row9_col23,#T_fc2dbd5c_d90e_11eb_8914_0242ac1c0002row12_col17,#T_fc2dbd5c_d90e_11eb_8914_0242ac1c0002row14_col17,#T_fc2dbd5c_d90e_11eb_8914_0242ac1c0002row24_col7{\n",
              "            background-color:  #6f92f3;\n",
              "            color:  #000000;\n",
              "        }#T_fc2dbd5c_d90e_11eb_8914_0242ac1c0002row1_col22,#T_fc2dbd5c_d90e_11eb_8914_0242ac1c0002row4_col11,#T_fc2dbd5c_d90e_11eb_8914_0242ac1c0002row4_col26,#T_fc2dbd5c_d90e_11eb_8914_0242ac1c0002row15_col21,#T_fc2dbd5c_d90e_11eb_8914_0242ac1c0002row16_col23,#T_fc2dbd5c_d90e_11eb_8914_0242ac1c0002row19_col2,#T_fc2dbd5c_d90e_11eb_8914_0242ac1c0002row21_col15{\n",
              "            background-color:  #4257c9;\n",
              "            color:  #f1f1f1;\n",
              "        }#T_fc2dbd5c_d90e_11eb_8914_0242ac1c0002row1_col24,#T_fc2dbd5c_d90e_11eb_8914_0242ac1c0002row11_col5,#T_fc2dbd5c_d90e_11eb_8914_0242ac1c0002row15_col28,#T_fc2dbd5c_d90e_11eb_8914_0242ac1c0002row28_col23{\n",
              "            background-color:  #5875e1;\n",
              "            color:  #000000;\n",
              "        }#T_fc2dbd5c_d90e_11eb_8914_0242ac1c0002row1_col26,#T_fc2dbd5c_d90e_11eb_8914_0242ac1c0002row3_col17,#T_fc2dbd5c_d90e_11eb_8914_0242ac1c0002row14_col26,#T_fc2dbd5c_d90e_11eb_8914_0242ac1c0002row15_col22,#T_fc2dbd5c_d90e_11eb_8914_0242ac1c0002row19_col14,#T_fc2dbd5c_d90e_11eb_8914_0242ac1c0002row20_col22,#T_fc2dbd5c_d90e_11eb_8914_0242ac1c0002row20_col28,#T_fc2dbd5c_d90e_11eb_8914_0242ac1c0002row22_col11,#T_fc2dbd5c_d90e_11eb_8914_0242ac1c0002row27_col11,#T_fc2dbd5c_d90e_11eb_8914_0242ac1c0002row28_col25{\n",
              "            background-color:  #6687ed;\n",
              "            color:  #000000;\n",
              "        }#T_fc2dbd5c_d90e_11eb_8914_0242ac1c0002row1_col28,#T_fc2dbd5c_d90e_11eb_8914_0242ac1c0002row5_col1,#T_fc2dbd5c_d90e_11eb_8914_0242ac1c0002row16_col21,#T_fc2dbd5c_d90e_11eb_8914_0242ac1c0002row23_col28,#T_fc2dbd5c_d90e_11eb_8914_0242ac1c0002row26_col2{\n",
              "            background-color:  #688aef;\n",
              "            color:  #000000;\n",
              "        }#T_fc2dbd5c_d90e_11eb_8914_0242ac1c0002row2_col0,#T_fc2dbd5c_d90e_11eb_8914_0242ac1c0002row5_col3,#T_fc2dbd5c_d90e_11eb_8914_0242ac1c0002row15_col10{\n",
              "            background-color:  #c4d5f3;\n",
              "            color:  #000000;\n",
              "        }#T_fc2dbd5c_d90e_11eb_8914_0242ac1c0002row2_col1,#T_fc2dbd5c_d90e_11eb_8914_0242ac1c0002row17_col18,#T_fc2dbd5c_d90e_11eb_8914_0242ac1c0002row19_col9,#T_fc2dbd5c_d90e_11eb_8914_0242ac1c0002row21_col8,#T_fc2dbd5c_d90e_11eb_8914_0242ac1c0002row25_col4{\n",
              "            background-color:  #94b6ff;\n",
              "            color:  #000000;\n",
              "        }#T_fc2dbd5c_d90e_11eb_8914_0242ac1c0002row2_col3,#T_fc2dbd5c_d90e_11eb_8914_0242ac1c0002row3_col2{\n",
              "            background-color:  #e8765c;\n",
              "            color:  #000000;\n",
              "        }#T_fc2dbd5c_d90e_11eb_8914_0242ac1c0002row2_col4,#T_fc2dbd5c_d90e_11eb_8914_0242ac1c0002row25_col15{\n",
              "            background-color:  #ebd3c6;\n",
              "            color:  #000000;\n",
              "        }#T_fc2dbd5c_d90e_11eb_8914_0242ac1c0002row2_col5,#T_fc2dbd5c_d90e_11eb_8914_0242ac1c0002row7_col4,#T_fc2dbd5c_d90e_11eb_8914_0242ac1c0002row8_col9,#T_fc2dbd5c_d90e_11eb_8914_0242ac1c0002row18_col11,#T_fc2dbd5c_d90e_11eb_8914_0242ac1c0002row18_col13,#T_fc2dbd5c_d90e_11eb_8914_0242ac1c0002row25_col1{\n",
              "            background-color:  #cdd9ec;\n",
              "            color:  #000000;\n",
              "        }#T_fc2dbd5c_d90e_11eb_8914_0242ac1c0002row2_col6,#T_fc2dbd5c_d90e_11eb_8914_0242ac1c0002row4_col7,#T_fc2dbd5c_d90e_11eb_8914_0242ac1c0002row7_col2,#T_fc2dbd5c_d90e_11eb_8914_0242ac1c0002row10_col26,#T_fc2dbd5c_d90e_11eb_8914_0242ac1c0002row11_col12,#T_fc2dbd5c_d90e_11eb_8914_0242ac1c0002row12_col26,#T_fc2dbd5c_d90e_11eb_8914_0242ac1c0002row13_col4,#T_fc2dbd5c_d90e_11eb_8914_0242ac1c0002row15_col18{\n",
              "            background-color:  #a9c6fd;\n",
              "            color:  #000000;\n",
              "        }#T_fc2dbd5c_d90e_11eb_8914_0242ac1c0002row2_col7,#T_fc2dbd5c_d90e_11eb_8914_0242ac1c0002row8_col0,#T_fc2dbd5c_d90e_11eb_8914_0242ac1c0002row9_col4,#T_fc2dbd5c_d90e_11eb_8914_0242ac1c0002row9_col12,#T_fc2dbd5c_d90e_11eb_8914_0242ac1c0002row10_col4,#T_fc2dbd5c_d90e_11eb_8914_0242ac1c0002row13_col18,#T_fc2dbd5c_d90e_11eb_8914_0242ac1c0002row15_col12,#T_fc2dbd5c_d90e_11eb_8914_0242ac1c0002row15_col13,#T_fc2dbd5c_d90e_11eb_8914_0242ac1c0002row17_col8,#T_fc2dbd5c_d90e_11eb_8914_0242ac1c0002row20_col8,#T_fc2dbd5c_d90e_11eb_8914_0242ac1c0002row20_col27,#T_fc2dbd5c_d90e_11eb_8914_0242ac1c0002row27_col9{\n",
              "            background-color:  #b5cdfa;\n",
              "            color:  #000000;\n",
              "        }#T_fc2dbd5c_d90e_11eb_8914_0242ac1c0002row2_col10,#T_fc2dbd5c_d90e_11eb_8914_0242ac1c0002row17_col9,#T_fc2dbd5c_d90e_11eb_8914_0242ac1c0002row17_col28,#T_fc2dbd5c_d90e_11eb_8914_0242ac1c0002row22_col3,#T_fc2dbd5c_d90e_11eb_8914_0242ac1c0002row22_col16,#T_fc2dbd5c_d90e_11eb_8914_0242ac1c0002row24_col27{\n",
              "            background-color:  #92b4fe;\n",
              "            color:  #000000;\n",
              "        }#T_fc2dbd5c_d90e_11eb_8914_0242ac1c0002row2_col11,#T_fc2dbd5c_d90e_11eb_8914_0242ac1c0002row2_col15,#T_fc2dbd5c_d90e_11eb_8914_0242ac1c0002row2_col20,#T_fc2dbd5c_d90e_11eb_8914_0242ac1c0002row7_col22,#T_fc2dbd5c_d90e_11eb_8914_0242ac1c0002row11_col22,#T_fc2dbd5c_d90e_11eb_8914_0242ac1c0002row14_col20,#T_fc2dbd5c_d90e_11eb_8914_0242ac1c0002row18_col21,#T_fc2dbd5c_d90e_11eb_8914_0242ac1c0002row19_col7,#T_fc2dbd5c_d90e_11eb_8914_0242ac1c0002row20_col2,#T_fc2dbd5c_d90e_11eb_8914_0242ac1c0002row27_col14,#T_fc2dbd5c_d90e_11eb_8914_0242ac1c0002row28_col19{\n",
              "            background-color:  #4f69d9;\n",
              "            color:  #000000;\n",
              "        }#T_fc2dbd5c_d90e_11eb_8914_0242ac1c0002row2_col13,#T_fc2dbd5c_d90e_11eb_8914_0242ac1c0002row6_col15,#T_fc2dbd5c_d90e_11eb_8914_0242ac1c0002row8_col27,#T_fc2dbd5c_d90e_11eb_8914_0242ac1c0002row10_col9,#T_fc2dbd5c_d90e_11eb_8914_0242ac1c0002row13_col25,#T_fc2dbd5c_d90e_11eb_8914_0242ac1c0002row18_col17,#T_fc2dbd5c_d90e_11eb_8914_0242ac1c0002row18_col26,#T_fc2dbd5c_d90e_11eb_8914_0242ac1c0002row19_col21{\n",
              "            background-color:  #7a9df8;\n",
              "            color:  #000000;\n",
              "        }#T_fc2dbd5c_d90e_11eb_8914_0242ac1c0002row2_col14,#T_fc2dbd5c_d90e_11eb_8914_0242ac1c0002row15_col2,#T_fc2dbd5c_d90e_11eb_8914_0242ac1c0002row15_col9{\n",
              "            background-color:  #6180e9;\n",
              "            color:  #000000;\n",
              "        }#T_fc2dbd5c_d90e_11eb_8914_0242ac1c0002row2_col17,#T_fc2dbd5c_d90e_11eb_8914_0242ac1c0002row3_col14,#T_fc2dbd5c_d90e_11eb_8914_0242ac1c0002row5_col20,#T_fc2dbd5c_d90e_11eb_8914_0242ac1c0002row13_col3,#T_fc2dbd5c_d90e_11eb_8914_0242ac1c0002row25_col16,#T_fc2dbd5c_d90e_11eb_8914_0242ac1c0002row28_col7{\n",
              "            background-color:  #5f7fe8;\n",
              "            color:  #000000;\n",
              "        }#T_fc2dbd5c_d90e_11eb_8914_0242ac1c0002row2_col18,#T_fc2dbd5c_d90e_11eb_8914_0242ac1c0002row2_col26,#T_fc2dbd5c_d90e_11eb_8914_0242ac1c0002row7_col24,#T_fc2dbd5c_d90e_11eb_8914_0242ac1c0002row14_col27,#T_fc2dbd5c_d90e_11eb_8914_0242ac1c0002row18_col16,#T_fc2dbd5c_d90e_11eb_8914_0242ac1c0002row27_col23,#T_fc2dbd5c_d90e_11eb_8914_0242ac1c0002row28_col26{\n",
              "            background-color:  #485fd1;\n",
              "            color:  #f1f1f1;\n",
              "        }#T_fc2dbd5c_d90e_11eb_8914_0242ac1c0002row2_col21,#T_fc2dbd5c_d90e_11eb_8914_0242ac1c0002row10_col3,#T_fc2dbd5c_d90e_11eb_8914_0242ac1c0002row13_col22,#T_fc2dbd5c_d90e_11eb_8914_0242ac1c0002row14_col19,#T_fc2dbd5c_d90e_11eb_8914_0242ac1c0002row17_col2,#T_fc2dbd5c_d90e_11eb_8914_0242ac1c0002row20_col7,#T_fc2dbd5c_d90e_11eb_8914_0242ac1c0002row21_col14{\n",
              "            background-color:  #799cf8;\n",
              "            color:  #000000;\n",
              "        }#T_fc2dbd5c_d90e_11eb_8914_0242ac1c0002row2_col23,#T_fc2dbd5c_d90e_11eb_8914_0242ac1c0002row3_col18,#T_fc2dbd5c_d90e_11eb_8914_0242ac1c0002row16_col25,#T_fc2dbd5c_d90e_11eb_8914_0242ac1c0002row20_col14,#T_fc2dbd5c_d90e_11eb_8914_0242ac1c0002row23_col17,#T_fc2dbd5c_d90e_11eb_8914_0242ac1c0002row25_col2,#T_fc2dbd5c_d90e_11eb_8914_0242ac1c0002row25_col22{\n",
              "            background-color:  #4c66d6;\n",
              "            color:  #000000;\n",
              "        }#T_fc2dbd5c_d90e_11eb_8914_0242ac1c0002row2_col27,#T_fc2dbd5c_d90e_11eb_8914_0242ac1c0002row8_col16,#T_fc2dbd5c_d90e_11eb_8914_0242ac1c0002row14_col11,#T_fc2dbd5c_d90e_11eb_8914_0242ac1c0002row14_col22,#T_fc2dbd5c_d90e_11eb_8914_0242ac1c0002row16_col8,#T_fc2dbd5c_d90e_11eb_8914_0242ac1c0002row18_col7{\n",
              "            background-color:  #465ecf;\n",
              "            color:  #f1f1f1;\n",
              "        }#T_fc2dbd5c_d90e_11eb_8914_0242ac1c0002row2_col28,#T_fc2dbd5c_d90e_11eb_8914_0242ac1c0002row5_col13,#T_fc2dbd5c_d90e_11eb_8914_0242ac1c0002row12_col7{\n",
              "            background-color:  #80a3fa;\n",
              "            color:  #000000;\n",
              "        }#T_fc2dbd5c_d90e_11eb_8914_0242ac1c0002row3_col0,#T_fc2dbd5c_d90e_11eb_8914_0242ac1c0002row6_col1,#T_fc2dbd5c_d90e_11eb_8914_0242ac1c0002row9_col0,#T_fc2dbd5c_d90e_11eb_8914_0242ac1c0002row10_col5,#T_fc2dbd5c_d90e_11eb_8914_0242ac1c0002row15_col1,#T_fc2dbd5c_d90e_11eb_8914_0242ac1c0002row17_col19,#T_fc2dbd5c_d90e_11eb_8914_0242ac1c0002row27_col0{\n",
              "            background-color:  #c3d5f4;\n",
              "            color:  #000000;\n",
              "        }#T_fc2dbd5c_d90e_11eb_8914_0242ac1c0002row3_col1,#T_fc2dbd5c_d90e_11eb_8914_0242ac1c0002row3_col12,#T_fc2dbd5c_d90e_11eb_8914_0242ac1c0002row5_col23,#T_fc2dbd5c_d90e_11eb_8914_0242ac1c0002row6_col5,#T_fc2dbd5c_d90e_11eb_8914_0242ac1c0002row6_col14,#T_fc2dbd5c_d90e_11eb_8914_0242ac1c0002row12_col18,#T_fc2dbd5c_d90e_11eb_8914_0242ac1c0002row13_col21,#T_fc2dbd5c_d90e_11eb_8914_0242ac1c0002row16_col10,#T_fc2dbd5c_d90e_11eb_8914_0242ac1c0002row20_col26,#T_fc2dbd5c_d90e_11eb_8914_0242ac1c0002row21_col16{\n",
              "            background-color:  #7b9ff9;\n",
              "            color:  #000000;\n",
              "        }#T_fc2dbd5c_d90e_11eb_8914_0242ac1c0002row3_col4,#T_fc2dbd5c_d90e_11eb_8914_0242ac1c0002row25_col12{\n",
              "            background-color:  #ead5c9;\n",
              "            color:  #000000;\n",
              "        }#T_fc2dbd5c_d90e_11eb_8914_0242ac1c0002row3_col5,#T_fc2dbd5c_d90e_11eb_8914_0242ac1c0002row16_col4,#T_fc2dbd5c_d90e_11eb_8914_0242ac1c0002row16_col27,#T_fc2dbd5c_d90e_11eb_8914_0242ac1c0002row19_col8{\n",
              "            background-color:  #cfdaea;\n",
              "            color:  #000000;\n",
              "        }#T_fc2dbd5c_d90e_11eb_8914_0242ac1c0002row3_col6,#T_fc2dbd5c_d90e_11eb_8914_0242ac1c0002row7_col0,#T_fc2dbd5c_d90e_11eb_8914_0242ac1c0002row8_col17,#T_fc2dbd5c_d90e_11eb_8914_0242ac1c0002row9_col20,#T_fc2dbd5c_d90e_11eb_8914_0242ac1c0002row16_col1,#T_fc2dbd5c_d90e_11eb_8914_0242ac1c0002row17_col20,#T_fc2dbd5c_d90e_11eb_8914_0242ac1c0002row18_col8,#T_fc2dbd5c_d90e_11eb_8914_0242ac1c0002row26_col4{\n",
              "            background-color:  #a1c0ff;\n",
              "            color:  #000000;\n",
              "        }#T_fc2dbd5c_d90e_11eb_8914_0242ac1c0002row3_col7,#T_fc2dbd5c_d90e_11eb_8914_0242ac1c0002row9_col27,#T_fc2dbd5c_d90e_11eb_8914_0242ac1c0002row10_col25,#T_fc2dbd5c_d90e_11eb_8914_0242ac1c0002row16_col13,#T_fc2dbd5c_d90e_11eb_8914_0242ac1c0002row21_col4,#T_fc2dbd5c_d90e_11eb_8914_0242ac1c0002row22_col5,#T_fc2dbd5c_d90e_11eb_8914_0242ac1c0002row26_col19{\n",
              "            background-color:  #b6cefa;\n",
              "            color:  #000000;\n",
              "        }#T_fc2dbd5c_d90e_11eb_8914_0242ac1c0002row3_col8,#T_fc2dbd5c_d90e_11eb_8914_0242ac1c0002row7_col26,#T_fc2dbd5c_d90e_11eb_8914_0242ac1c0002row12_col16,#T_fc2dbd5c_d90e_11eb_8914_0242ac1c0002row20_col23{\n",
              "            background-color:  #3d50c3;\n",
              "            color:  #f1f1f1;\n",
              "        }#T_fc2dbd5c_d90e_11eb_8914_0242ac1c0002row3_col10,#T_fc2dbd5c_d90e_11eb_8914_0242ac1c0002row7_col10,#T_fc2dbd5c_d90e_11eb_8914_0242ac1c0002row9_col21,#T_fc2dbd5c_d90e_11eb_8914_0242ac1c0002row11_col17,#T_fc2dbd5c_d90e_11eb_8914_0242ac1c0002row11_col26,#T_fc2dbd5c_d90e_11eb_8914_0242ac1c0002row14_col13,#T_fc2dbd5c_d90e_11eb_8914_0242ac1c0002row20_col4,#T_fc2dbd5c_d90e_11eb_8914_0242ac1c0002row21_col10,#T_fc2dbd5c_d90e_11eb_8914_0242ac1c0002row28_col17{\n",
              "            background-color:  #7ea1fa;\n",
              "            color:  #000000;\n",
              "        }#T_fc2dbd5c_d90e_11eb_8914_0242ac1c0002row3_col11,#T_fc2dbd5c_d90e_11eb_8914_0242ac1c0002row4_col8,#T_fc2dbd5c_d90e_11eb_8914_0242ac1c0002row4_col27,#T_fc2dbd5c_d90e_11eb_8914_0242ac1c0002row7_col15,#T_fc2dbd5c_d90e_11eb_8914_0242ac1c0002row7_col19,#T_fc2dbd5c_d90e_11eb_8914_0242ac1c0002row9_col11,#T_fc2dbd5c_d90e_11eb_8914_0242ac1c0002row27_col2,#T_fc2dbd5c_d90e_11eb_8914_0242ac1c0002row28_col11,#T_fc2dbd5c_d90e_11eb_8914_0242ac1c0002row28_col18{\n",
              "            background-color:  #506bda;\n",
              "            color:  #000000;\n",
              "        }#T_fc2dbd5c_d90e_11eb_8914_0242ac1c0002row3_col13,#T_fc2dbd5c_d90e_11eb_8914_0242ac1c0002row4_col10,#T_fc2dbd5c_d90e_11eb_8914_0242ac1c0002row5_col17,#T_fc2dbd5c_d90e_11eb_8914_0242ac1c0002row11_col15,#T_fc2dbd5c_d90e_11eb_8914_0242ac1c0002row11_col21,#T_fc2dbd5c_d90e_11eb_8914_0242ac1c0002row12_col15,#T_fc2dbd5c_d90e_11eb_8914_0242ac1c0002row13_col15,#T_fc2dbd5c_d90e_11eb_8914_0242ac1c0002row16_col22,#T_fc2dbd5c_d90e_11eb_8914_0242ac1c0002row17_col21,#T_fc2dbd5c_d90e_11eb_8914_0242ac1c0002row21_col9,#T_fc2dbd5c_d90e_11eb_8914_0242ac1c0002row22_col10,#T_fc2dbd5c_d90e_11eb_8914_0242ac1c0002row24_col6,#T_fc2dbd5c_d90e_11eb_8914_0242ac1c0002row27_col8,#T_fc2dbd5c_d90e_11eb_8914_0242ac1c0002row27_col15,#T_fc2dbd5c_d90e_11eb_8914_0242ac1c0002row28_col2{\n",
              "            background-color:  #84a7fc;\n",
              "            color:  #000000;\n",
              "        }#T_fc2dbd5c_d90e_11eb_8914_0242ac1c0002row3_col15,#T_fc2dbd5c_d90e_11eb_8914_0242ac1c0002row6_col11,#T_fc2dbd5c_d90e_11eb_8914_0242ac1c0002row14_col16,#T_fc2dbd5c_d90e_11eb_8914_0242ac1c0002row19_col22,#T_fc2dbd5c_d90e_11eb_8914_0242ac1c0002row23_col16{\n",
              "            background-color:  #5977e3;\n",
              "            color:  #000000;\n",
              "        }#T_fc2dbd5c_d90e_11eb_8914_0242ac1c0002row3_col16,#T_fc2dbd5c_d90e_11eb_8914_0242ac1c0002row4_col22,#T_fc2dbd5c_d90e_11eb_8914_0242ac1c0002row6_col12,#T_fc2dbd5c_d90e_11eb_8914_0242ac1c0002row13_col27,#T_fc2dbd5c_d90e_11eb_8914_0242ac1c0002row14_col0,#T_fc2dbd5c_d90e_11eb_8914_0242ac1c0002row15_col4,#T_fc2dbd5c_d90e_11eb_8914_0242ac1c0002row18_col0,#T_fc2dbd5c_d90e_11eb_8914_0242ac1c0002row19_col25,#T_fc2dbd5c_d90e_11eb_8914_0242ac1c0002row24_col11{\n",
              "            background-color:  #a6c4fe;\n",
              "            color:  #000000;\n",
              "        }#T_fc2dbd5c_d90e_11eb_8914_0242ac1c0002row3_col20,#T_fc2dbd5c_d90e_11eb_8914_0242ac1c0002row12_col22,#T_fc2dbd5c_d90e_11eb_8914_0242ac1c0002row13_col14,#T_fc2dbd5c_d90e_11eb_8914_0242ac1c0002row16_col24,#T_fc2dbd5c_d90e_11eb_8914_0242ac1c0002row18_col14,#T_fc2dbd5c_d90e_11eb_8914_0242ac1c0002row23_col18{\n",
              "            background-color:  #5470de;\n",
              "            color:  #000000;\n",
              "        }#T_fc2dbd5c_d90e_11eb_8914_0242ac1c0002row3_col21,#T_fc2dbd5c_d90e_11eb_8914_0242ac1c0002row10_col23,#T_fc2dbd5c_d90e_11eb_8914_0242ac1c0002row20_col10,#T_fc2dbd5c_d90e_11eb_8914_0242ac1c0002row21_col28,#T_fc2dbd5c_d90e_11eb_8914_0242ac1c0002row22_col20{\n",
              "            background-color:  #7396f5;\n",
              "            color:  #000000;\n",
              "        }#T_fc2dbd5c_d90e_11eb_8914_0242ac1c0002row3_col24,#T_fc2dbd5c_d90e_11eb_8914_0242ac1c0002row8_col3{\n",
              "            background-color:  #3f53c6;\n",
              "            color:  #f1f1f1;\n",
              "        }#T_fc2dbd5c_d90e_11eb_8914_0242ac1c0002row3_col25{\n",
              "            background-color:  #3e51c5;\n",
              "            color:  #f1f1f1;\n",
              "        }#T_fc2dbd5c_d90e_11eb_8914_0242ac1c0002row3_col26,#T_fc2dbd5c_d90e_11eb_8914_0242ac1c0002row5_col11,#T_fc2dbd5c_d90e_11eb_8914_0242ac1c0002row6_col27,#T_fc2dbd5c_d90e_11eb_8914_0242ac1c0002row11_col3,#T_fc2dbd5c_d90e_11eb_8914_0242ac1c0002row11_col16,#T_fc2dbd5c_d90e_11eb_8914_0242ac1c0002row16_col19,#T_fc2dbd5c_d90e_11eb_8914_0242ac1c0002row22_col25,#T_fc2dbd5c_d90e_11eb_8914_0242ac1c0002row23_col26,#T_fc2dbd5c_d90e_11eb_8914_0242ac1c0002row24_col21,#T_fc2dbd5c_d90e_11eb_8914_0242ac1c0002row28_col14,#T_fc2dbd5c_d90e_11eb_8914_0242ac1c0002row28_col15{\n",
              "            background-color:  #4a63d3;\n",
              "            color:  #f1f1f1;\n",
              "        }#T_fc2dbd5c_d90e_11eb_8914_0242ac1c0002row3_col27,#T_fc2dbd5c_d90e_11eb_8914_0242ac1c0002row11_col2,#T_fc2dbd5c_d90e_11eb_8914_0242ac1c0002row18_col2{\n",
              "            background-color:  #455cce;\n",
              "            color:  #f1f1f1;\n",
              "        }#T_fc2dbd5c_d90e_11eb_8914_0242ac1c0002row3_col28,#T_fc2dbd5c_d90e_11eb_8914_0242ac1c0002row5_col22,#T_fc2dbd5c_d90e_11eb_8914_0242ac1c0002row9_col13,#T_fc2dbd5c_d90e_11eb_8914_0242ac1c0002row10_col14,#T_fc2dbd5c_d90e_11eb_8914_0242ac1c0002row12_col23,#T_fc2dbd5c_d90e_11eb_8914_0242ac1c0002row15_col6,#T_fc2dbd5c_d90e_11eb_8914_0242ac1c0002row18_col15,#T_fc2dbd5c_d90e_11eb_8914_0242ac1c0002row26_col18,#T_fc2dbd5c_d90e_11eb_8914_0242ac1c0002row26_col20{\n",
              "            background-color:  #98b9ff;\n",
              "            color:  #000000;\n",
              "        }#T_fc2dbd5c_d90e_11eb_8914_0242ac1c0002row4_col0{\n",
              "            background-color:  #f7bca1;\n",
              "            color:  #000000;\n",
              "        }#T_fc2dbd5c_d90e_11eb_8914_0242ac1c0002row4_col2,#T_fc2dbd5c_d90e_11eb_8914_0242ac1c0002row28_col9{\n",
              "            background-color:  #cedaeb;\n",
              "            color:  #000000;\n",
              "        }#T_fc2dbd5c_d90e_11eb_8914_0242ac1c0002row4_col3,#T_fc2dbd5c_d90e_11eb_8914_0242ac1c0002row10_col12,#T_fc2dbd5c_d90e_11eb_8914_0242ac1c0002row18_col1{\n",
              "            background-color:  #ccd9ed;\n",
              "            color:  #000000;\n",
              "        }#T_fc2dbd5c_d90e_11eb_8914_0242ac1c0002row4_col5{\n",
              "            background-color:  #f2cbb7;\n",
              "            color:  #000000;\n",
              "        }#T_fc2dbd5c_d90e_11eb_8914_0242ac1c0002row4_col6,#T_fc2dbd5c_d90e_11eb_8914_0242ac1c0002row4_col13,#T_fc2dbd5c_d90e_11eb_8914_0242ac1c0002row4_col14,#T_fc2dbd5c_d90e_11eb_8914_0242ac1c0002row5_col9,#T_fc2dbd5c_d90e_11eb_8914_0242ac1c0002row5_col14,#T_fc2dbd5c_d90e_11eb_8914_0242ac1c0002row12_col6,#T_fc2dbd5c_d90e_11eb_8914_0242ac1c0002row23_col10,#T_fc2dbd5c_d90e_11eb_8914_0242ac1c0002row26_col6{\n",
              "            background-color:  #90b2fe;\n",
              "            color:  #000000;\n",
              "        }#T_fc2dbd5c_d90e_11eb_8914_0242ac1c0002row4_col9,#T_fc2dbd5c_d90e_11eb_8914_0242ac1c0002row7_col21,#T_fc2dbd5c_d90e_11eb_8914_0242ac1c0002row13_col5,#T_fc2dbd5c_d90e_11eb_8914_0242ac1c0002row15_col3,#T_fc2dbd5c_d90e_11eb_8914_0242ac1c0002row19_col4,#T_fc2dbd5c_d90e_11eb_8914_0242ac1c0002row24_col16,#T_fc2dbd5c_d90e_11eb_8914_0242ac1c0002row25_col23{\n",
              "            background-color:  #6e90f2;\n",
              "            color:  #000000;\n",
              "        }#T_fc2dbd5c_d90e_11eb_8914_0242ac1c0002row4_col15,#T_fc2dbd5c_d90e_11eb_8914_0242ac1c0002row9_col22,#T_fc2dbd5c_d90e_11eb_8914_0242ac1c0002row16_col14,#T_fc2dbd5c_d90e_11eb_8914_0242ac1c0002row24_col22,#T_fc2dbd5c_d90e_11eb_8914_0242ac1c0002row26_col23{\n",
              "            background-color:  #5572df;\n",
              "            color:  #000000;\n",
              "        }#T_fc2dbd5c_d90e_11eb_8914_0242ac1c0002row4_col16,#T_fc2dbd5c_d90e_11eb_8914_0242ac1c0002row7_col5,#T_fc2dbd5c_d90e_11eb_8914_0242ac1c0002row8_col18,#T_fc2dbd5c_d90e_11eb_8914_0242ac1c0002row9_col14,#T_fc2dbd5c_d90e_11eb_8914_0242ac1c0002row22_col28,#T_fc2dbd5c_d90e_11eb_8914_0242ac1c0002row23_col5,#T_fc2dbd5c_d90e_11eb_8914_0242ac1c0002row26_col11{\n",
              "            background-color:  #a2c1ff;\n",
              "            color:  #000000;\n",
              "        }#T_fc2dbd5c_d90e_11eb_8914_0242ac1c0002row4_col21,#T_fc2dbd5c_d90e_11eb_8914_0242ac1c0002row7_col20,#T_fc2dbd5c_d90e_11eb_8914_0242ac1c0002row7_col23,#T_fc2dbd5c_d90e_11eb_8914_0242ac1c0002row10_col20,#T_fc2dbd5c_d90e_11eb_8914_0242ac1c0002row11_col23,#T_fc2dbd5c_d90e_11eb_8914_0242ac1c0002row14_col21,#T_fc2dbd5c_d90e_11eb_8914_0242ac1c0002row28_col20{\n",
              "            background-color:  #6a8bef;\n",
              "            color:  #000000;\n",
              "        }#T_fc2dbd5c_d90e_11eb_8914_0242ac1c0002row4_col25,#T_fc2dbd5c_d90e_11eb_8914_0242ac1c0002row6_col23{\n",
              "            background-color:  #4055c8;\n",
              "            color:  #f1f1f1;\n",
              "        }#T_fc2dbd5c_d90e_11eb_8914_0242ac1c0002row5_col0,#T_fc2dbd5c_d90e_11eb_8914_0242ac1c0002row18_col20{\n",
              "            background-color:  #f5c1a9;\n",
              "            color:  #000000;\n",
              "        }#T_fc2dbd5c_d90e_11eb_8914_0242ac1c0002row5_col4{\n",
              "            background-color:  #f7ba9f;\n",
              "            color:  #000000;\n",
              "        }#T_fc2dbd5c_d90e_11eb_8914_0242ac1c0002row5_col7,#T_fc2dbd5c_d90e_11eb_8914_0242ac1c0002row7_col8,#T_fc2dbd5c_d90e_11eb_8914_0242ac1c0002row7_col11,#T_fc2dbd5c_d90e_11eb_8914_0242ac1c0002row8_col5,#T_fc2dbd5c_d90e_11eb_8914_0242ac1c0002row9_col18,#T_fc2dbd5c_d90e_11eb_8914_0242ac1c0002row14_col25,#T_fc2dbd5c_d90e_11eb_8914_0242ac1c0002row15_col20,#T_fc2dbd5c_d90e_11eb_8914_0242ac1c0002row19_col24,#T_fc2dbd5c_d90e_11eb_8914_0242ac1c0002row25_col0,#T_fc2dbd5c_d90e_11eb_8914_0242ac1c0002row25_col18,#T_fc2dbd5c_d90e_11eb_8914_0242ac1c0002row26_col0,#T_fc2dbd5c_d90e_11eb_8914_0242ac1c0002row26_col17,#T_fc2dbd5c_d90e_11eb_8914_0242ac1c0002row27_col4,#T_fc2dbd5c_d90e_11eb_8914_0242ac1c0002row27_col10{\n",
              "            background-color:  #9bbcff;\n",
              "            color:  #000000;\n",
              "        }#T_fc2dbd5c_d90e_11eb_8914_0242ac1c0002row5_col8,#T_fc2dbd5c_d90e_11eb_8914_0242ac1c0002row11_col24,#T_fc2dbd5c_d90e_11eb_8914_0242ac1c0002row12_col9,#T_fc2dbd5c_d90e_11eb_8914_0242ac1c0002row20_col24,#T_fc2dbd5c_d90e_11eb_8914_0242ac1c0002row23_col11{\n",
              "            background-color:  #88abfd;\n",
              "            color:  #000000;\n",
              "        }#T_fc2dbd5c_d90e_11eb_8914_0242ac1c0002row5_col10,#T_fc2dbd5c_d90e_11eb_8914_0242ac1c0002row21_col1,#T_fc2dbd5c_d90e_11eb_8914_0242ac1c0002row24_col0{\n",
              "            background-color:  #bad0f8;\n",
              "            color:  #000000;\n",
              "        }#T_fc2dbd5c_d90e_11eb_8914_0242ac1c0002row5_col12,#T_fc2dbd5c_d90e_11eb_8914_0242ac1c0002row5_col16,#T_fc2dbd5c_d90e_11eb_8914_0242ac1c0002row6_col2,#T_fc2dbd5c_d90e_11eb_8914_0242ac1c0002row12_col0,#T_fc2dbd5c_d90e_11eb_8914_0242ac1c0002row15_col11,#T_fc2dbd5c_d90e_11eb_8914_0242ac1c0002row17_col27,#T_fc2dbd5c_d90e_11eb_8914_0242ac1c0002row18_col12,#T_fc2dbd5c_d90e_11eb_8914_0242ac1c0002row21_col11,#T_fc2dbd5c_d90e_11eb_8914_0242ac1c0002row24_col17,#T_fc2dbd5c_d90e_11eb_8914_0242ac1c0002row25_col17,#T_fc2dbd5c_d90e_11eb_8914_0242ac1c0002row26_col27{\n",
              "            background-color:  #9dbdff;\n",
              "            color:  #000000;\n",
              "        }#T_fc2dbd5c_d90e_11eb_8914_0242ac1c0002row5_col15,#T_fc2dbd5c_d90e_11eb_8914_0242ac1c0002row6_col26,#T_fc2dbd5c_d90e_11eb_8914_0242ac1c0002row10_col21,#T_fc2dbd5c_d90e_11eb_8914_0242ac1c0002row14_col2,#T_fc2dbd5c_d90e_11eb_8914_0242ac1c0002row17_col6,#T_fc2dbd5c_d90e_11eb_8914_0242ac1c0002row19_col6,#T_fc2dbd5c_d90e_11eb_8914_0242ac1c0002row21_col18,#T_fc2dbd5c_d90e_11eb_8914_0242ac1c0002row21_col25,#T_fc2dbd5c_d90e_11eb_8914_0242ac1c0002row26_col28,#T_fc2dbd5c_d90e_11eb_8914_0242ac1c0002row27_col6{\n",
              "            background-color:  #6384eb;\n",
              "            color:  #000000;\n",
              "        }#T_fc2dbd5c_d90e_11eb_8914_0242ac1c0002row5_col18,#T_fc2dbd5c_d90e_11eb_8914_0242ac1c0002row8_col28,#T_fc2dbd5c_d90e_11eb_8914_0242ac1c0002row14_col28,#T_fc2dbd5c_d90e_11eb_8914_0242ac1c0002row15_col23,#T_fc2dbd5c_d90e_11eb_8914_0242ac1c0002row16_col18,#T_fc2dbd5c_d90e_11eb_8914_0242ac1c0002row18_col28,#T_fc2dbd5c_d90e_11eb_8914_0242ac1c0002row21_col26,#T_fc2dbd5c_d90e_11eb_8914_0242ac1c0002row22_col8,#T_fc2dbd5c_d90e_11eb_8914_0242ac1c0002row22_col26{\n",
              "            background-color:  #4961d2;\n",
              "            color:  #f1f1f1;\n",
              "        }#T_fc2dbd5c_d90e_11eb_8914_0242ac1c0002row5_col26,#T_fc2dbd5c_d90e_11eb_8914_0242ac1c0002row6_col18,#T_fc2dbd5c_d90e_11eb_8914_0242ac1c0002row10_col28,#T_fc2dbd5c_d90e_11eb_8914_0242ac1c0002row12_col3,#T_fc2dbd5c_d90e_11eb_8914_0242ac1c0002row13_col6,#T_fc2dbd5c_d90e_11eb_8914_0242ac1c0002row20_col3,#T_fc2dbd5c_d90e_11eb_8914_0242ac1c0002row22_col9,#T_fc2dbd5c_d90e_11eb_8914_0242ac1c0002row24_col23,#T_fc2dbd5c_d90e_11eb_8914_0242ac1c0002row26_col21{\n",
              "            background-color:  #5673e0;\n",
              "            color:  #000000;\n",
              "        }#T_fc2dbd5c_d90e_11eb_8914_0242ac1c0002row5_col27,#T_fc2dbd5c_d90e_11eb_8914_0242ac1c0002row10_col13,#T_fc2dbd5c_d90e_11eb_8914_0242ac1c0002row17_col16{\n",
              "            background-color:  #81a4fb;\n",
              "            color:  #000000;\n",
              "        }#T_fc2dbd5c_d90e_11eb_8914_0242ac1c0002row6_col10,#T_fc2dbd5c_d90e_11eb_8914_0242ac1c0002row9_col5,#T_fc2dbd5c_d90e_11eb_8914_0242ac1c0002row10_col19,#T_fc2dbd5c_d90e_11eb_8914_0242ac1c0002row12_col19,#T_fc2dbd5c_d90e_11eb_8914_0242ac1c0002row13_col1,#T_fc2dbd5c_d90e_11eb_8914_0242ac1c0002row16_col9,#T_fc2dbd5c_d90e_11eb_8914_0242ac1c0002row17_col5,#T_fc2dbd5c_d90e_11eb_8914_0242ac1c0002row20_col12,#T_fc2dbd5c_d90e_11eb_8914_0242ac1c0002row24_col1,#T_fc2dbd5c_d90e_11eb_8914_0242ac1c0002row25_col13{\n",
              "            background-color:  #adc9fd;\n",
              "            color:  #000000;\n",
              "        }#T_fc2dbd5c_d90e_11eb_8914_0242ac1c0002row6_col20,#T_fc2dbd5c_d90e_11eb_8914_0242ac1c0002row7_col17,#T_fc2dbd5c_d90e_11eb_8914_0242ac1c0002row7_col28,#T_fc2dbd5c_d90e_11eb_8914_0242ac1c0002row22_col24,#T_fc2dbd5c_d90e_11eb_8914_0242ac1c0002row23_col15{\n",
              "            background-color:  #4b64d5;\n",
              "            color:  #f1f1f1;\n",
              "        }#T_fc2dbd5c_d90e_11eb_8914_0242ac1c0002row6_col28,#T_fc2dbd5c_d90e_11eb_8914_0242ac1c0002row8_col4,#T_fc2dbd5c_d90e_11eb_8914_0242ac1c0002row9_col25,#T_fc2dbd5c_d90e_11eb_8914_0242ac1c0002row17_col15,#T_fc2dbd5c_d90e_11eb_8914_0242ac1c0002row22_col1{\n",
              "            background-color:  #93b5fe;\n",
              "            color:  #000000;\n",
              "        }#T_fc2dbd5c_d90e_11eb_8914_0242ac1c0002row7_col1,#T_fc2dbd5c_d90e_11eb_8914_0242ac1c0002row19_col15{\n",
              "            background-color:  #b2ccfb;\n",
              "            color:  #000000;\n",
              "        }#T_fc2dbd5c_d90e_11eb_8914_0242ac1c0002row7_col13,#T_fc2dbd5c_d90e_11eb_8914_0242ac1c0002row9_col16,#T_fc2dbd5c_d90e_11eb_8914_0242ac1c0002row10_col0,#T_fc2dbd5c_d90e_11eb_8914_0242ac1c0002row21_col12{\n",
              "            background-color:  #b7cff9;\n",
              "            color:  #000000;\n",
              "        }#T_fc2dbd5c_d90e_11eb_8914_0242ac1c0002row7_col14,#T_fc2dbd5c_d90e_11eb_8914_0242ac1c0002row9_col19,#T_fc2dbd5c_d90e_11eb_8914_0242ac1c0002row20_col21,#T_fc2dbd5c_d90e_11eb_8914_0242ac1c0002row22_col21,#T_fc2dbd5c_d90e_11eb_8914_0242ac1c0002row28_col1{\n",
              "            background-color:  #abc8fd;\n",
              "            color:  #000000;\n",
              "        }#T_fc2dbd5c_d90e_11eb_8914_0242ac1c0002row8_col1,#T_fc2dbd5c_d90e_11eb_8914_0242ac1c0002row9_col8,#T_fc2dbd5c_d90e_11eb_8914_0242ac1c0002row18_col27{\n",
              "            background-color:  #d4dbe6;\n",
              "            color:  #000000;\n",
              "        }#T_fc2dbd5c_d90e_11eb_8914_0242ac1c0002row8_col10,#T_fc2dbd5c_d90e_11eb_8914_0242ac1c0002row24_col12{\n",
              "            background-color:  #edd1c2;\n",
              "            color:  #000000;\n",
              "        }#T_fc2dbd5c_d90e_11eb_8914_0242ac1c0002row8_col11,#T_fc2dbd5c_d90e_11eb_8914_0242ac1c0002row14_col4{\n",
              "            background-color:  #c6d6f1;\n",
              "            color:  #000000;\n",
              "        }#T_fc2dbd5c_d90e_11eb_8914_0242ac1c0002row8_col12{\n",
              "            background-color:  #f6bea4;\n",
              "            color:  #000000;\n",
              "        }#T_fc2dbd5c_d90e_11eb_8914_0242ac1c0002row8_col13{\n",
              "            background-color:  #cbd8ee;\n",
              "            color:  #000000;\n",
              "        }#T_fc2dbd5c_d90e_11eb_8914_0242ac1c0002row8_col14{\n",
              "            background-color:  #e8d6cc;\n",
              "            color:  #000000;\n",
              "        }#T_fc2dbd5c_d90e_11eb_8914_0242ac1c0002row8_col15,#T_fc2dbd5c_d90e_11eb_8914_0242ac1c0002row8_col19,#T_fc2dbd5c_d90e_11eb_8914_0242ac1c0002row14_col12,#T_fc2dbd5c_d90e_11eb_8914_0242ac1c0002row20_col11,#T_fc2dbd5c_d90e_11eb_8914_0242ac1c0002row25_col26{\n",
              "            background-color:  #d7dce3;\n",
              "            color:  #000000;\n",
              "        }#T_fc2dbd5c_d90e_11eb_8914_0242ac1c0002row8_col20,#T_fc2dbd5c_d90e_11eb_8914_0242ac1c0002row13_col0,#T_fc2dbd5c_d90e_11eb_8914_0242ac1c0002row17_col1,#T_fc2dbd5c_d90e_11eb_8914_0242ac1c0002row19_col0{\n",
              "            background-color:  #b3cdfb;\n",
              "            color:  #000000;\n",
              "        }#T_fc2dbd5c_d90e_11eb_8914_0242ac1c0002row8_col23,#T_fc2dbd5c_d90e_11eb_8914_0242ac1c0002row9_col1,#T_fc2dbd5c_d90e_11eb_8914_0242ac1c0002row21_col13{\n",
              "            background-color:  #afcafc;\n",
              "            color:  #000000;\n",
              "        }#T_fc2dbd5c_d90e_11eb_8914_0242ac1c0002row8_col24,#T_fc2dbd5c_d90e_11eb_8914_0242ac1c0002row21_col0,#T_fc2dbd5c_d90e_11eb_8914_0242ac1c0002row26_col25{\n",
              "            background-color:  #dddcdc;\n",
              "            color:  #000000;\n",
              "        }#T_fc2dbd5c_d90e_11eb_8914_0242ac1c0002row8_col25,#T_fc2dbd5c_d90e_11eb_8914_0242ac1c0002row15_col25{\n",
              "            background-color:  #ecd3c5;\n",
              "            color:  #000000;\n",
              "        }#T_fc2dbd5c_d90e_11eb_8914_0242ac1c0002row8_col26,#T_fc2dbd5c_d90e_11eb_8914_0242ac1c0002row12_col14,#T_fc2dbd5c_d90e_11eb_8914_0242ac1c0002row14_col1,#T_fc2dbd5c_d90e_11eb_8914_0242ac1c0002row23_col8,#T_fc2dbd5c_d90e_11eb_8914_0242ac1c0002row26_col13{\n",
              "            background-color:  #bfd3f6;\n",
              "            color:  #000000;\n",
              "        }#T_fc2dbd5c_d90e_11eb_8914_0242ac1c0002row9_col15,#T_fc2dbd5c_d90e_11eb_8914_0242ac1c0002row12_col2,#T_fc2dbd5c_d90e_11eb_8914_0242ac1c0002row20_col16,#T_fc2dbd5c_d90e_11eb_8914_0242ac1c0002row21_col6,#T_fc2dbd5c_d90e_11eb_8914_0242ac1c0002row24_col3,#T_fc2dbd5c_d90e_11eb_8914_0242ac1c0002row26_col16{\n",
              "            background-color:  #5b7ae5;\n",
              "            color:  #000000;\n",
              "        }#T_fc2dbd5c_d90e_11eb_8914_0242ac1c0002row9_col28,#T_fc2dbd5c_d90e_11eb_8914_0242ac1c0002row11_col20,#T_fc2dbd5c_d90e_11eb_8914_0242ac1c0002row12_col24,#T_fc2dbd5c_d90e_11eb_8914_0242ac1c0002row20_col1,#T_fc2dbd5c_d90e_11eb_8914_0242ac1c0002row20_col13{\n",
              "            background-color:  #d3dbe7;\n",
              "            color:  #000000;\n",
              "        }#T_fc2dbd5c_d90e_11eb_8914_0242ac1c0002row10_col6,#T_fc2dbd5c_d90e_11eb_8914_0242ac1c0002row10_col15,#T_fc2dbd5c_d90e_11eb_8914_0242ac1c0002row13_col8,#T_fc2dbd5c_d90e_11eb_8914_0242ac1c0002row13_col19,#T_fc2dbd5c_d90e_11eb_8914_0242ac1c0002row21_col5{\n",
              "            background-color:  #b1cbfc;\n",
              "            color:  #000000;\n",
              "        }#T_fc2dbd5c_d90e_11eb_8914_0242ac1c0002row10_col8{\n",
              "            background-color:  #ead4c8;\n",
              "            color:  #000000;\n",
              "        }#T_fc2dbd5c_d90e_11eb_8914_0242ac1c0002row11_col1,#T_fc2dbd5c_d90e_11eb_8914_0242ac1c0002row19_col1{\n",
              "            background-color:  #dcdddd;\n",
              "            color:  #000000;\n",
              "        }#T_fc2dbd5c_d90e_11eb_8914_0242ac1c0002row11_col7,#T_fc2dbd5c_d90e_11eb_8914_0242ac1c0002row15_col26,#T_fc2dbd5c_d90e_11eb_8914_0242ac1c0002row24_col5,#T_fc2dbd5c_d90e_11eb_8914_0242ac1c0002row24_col14,#T_fc2dbd5c_d90e_11eb_8914_0242ac1c0002row24_col18,#T_fc2dbd5c_d90e_11eb_8914_0242ac1c0002row27_col28,#T_fc2dbd5c_d90e_11eb_8914_0242ac1c0002row28_col0{\n",
              "            background-color:  #9fbfff;\n",
              "            color:  #000000;\n",
              "        }#T_fc2dbd5c_d90e_11eb_8914_0242ac1c0002row11_col8,#T_fc2dbd5c_d90e_11eb_8914_0242ac1c0002row19_col13{\n",
              "            background-color:  #c1d4f4;\n",
              "            color:  #000000;\n",
              "        }#T_fc2dbd5c_d90e_11eb_8914_0242ac1c0002row11_col13{\n",
              "            background-color:  #e0dbd8;\n",
              "            color:  #000000;\n",
              "        }#T_fc2dbd5c_d90e_11eb_8914_0242ac1c0002row11_col19,#T_fc2dbd5c_d90e_11eb_8914_0242ac1c0002row27_col13{\n",
              "            background-color:  #cad8ef;\n",
              "            color:  #000000;\n",
              "        }#T_fc2dbd5c_d90e_11eb_8914_0242ac1c0002row12_col1{\n",
              "            background-color:  #d8dce2;\n",
              "            color:  #000000;\n",
              "        }#T_fc2dbd5c_d90e_11eb_8914_0242ac1c0002row12_col8{\n",
              "            background-color:  #f1ccb8;\n",
              "            color:  #000000;\n",
              "        }#T_fc2dbd5c_d90e_11eb_8914_0242ac1c0002row12_col10,#T_fc2dbd5c_d90e_11eb_8914_0242ac1c0002row14_col7,#T_fc2dbd5c_d90e_11eb_8914_0242ac1c0002row15_col0,#T_fc2dbd5c_d90e_11eb_8914_0242ac1c0002row17_col13,#T_fc2dbd5c_d90e_11eb_8914_0242ac1c0002row21_col20,#T_fc2dbd5c_d90e_11eb_8914_0242ac1c0002row24_col4,#T_fc2dbd5c_d90e_11eb_8914_0242ac1c0002row24_col10,#T_fc2dbd5c_d90e_11eb_8914_0242ac1c0002row27_col1{\n",
              "            background-color:  #b9d0f9;\n",
              "            color:  #000000;\n",
              "        }#T_fc2dbd5c_d90e_11eb_8914_0242ac1c0002row12_col21,#T_fc2dbd5c_d90e_11eb_8914_0242ac1c0002row17_col14,#T_fc2dbd5c_d90e_11eb_8914_0242ac1c0002row18_col24{\n",
              "            background-color:  #86a9fc;\n",
              "            color:  #000000;\n",
              "        }#T_fc2dbd5c_d90e_11eb_8914_0242ac1c0002row12_col25,#T_fc2dbd5c_d90e_11eb_8914_0242ac1c0002row24_col26{\n",
              "            background-color:  #d1dae9;\n",
              "            color:  #000000;\n",
              "        }#T_fc2dbd5c_d90e_11eb_8914_0242ac1c0002row13_col11,#T_fc2dbd5c_d90e_11eb_8914_0242ac1c0002row23_col14,#T_fc2dbd5c_d90e_11eb_8914_0242ac1c0002row26_col8{\n",
              "            background-color:  #d2dbe8;\n",
              "            color:  #000000;\n",
              "        }#T_fc2dbd5c_d90e_11eb_8914_0242ac1c0002row14_col8{\n",
              "            background-color:  #e9d5cb;\n",
              "            color:  #000000;\n",
              "        }#T_fc2dbd5c_d90e_11eb_8914_0242ac1c0002row15_col8{\n",
              "            background-color:  #dfdbd9;\n",
              "            color:  #000000;\n",
              "        }#T_fc2dbd5c_d90e_11eb_8914_0242ac1c0002row15_col16,#T_fc2dbd5c_d90e_11eb_8914_0242ac1c0002row18_col3,#T_fc2dbd5c_d90e_11eb_8914_0242ac1c0002row28_col8{\n",
              "            background-color:  #4e68d8;\n",
              "            color:  #000000;\n",
              "        }#T_fc2dbd5c_d90e_11eb_8914_0242ac1c0002row15_col24,#T_fc2dbd5c_d90e_11eb_8914_0242ac1c0002row20_col0,#T_fc2dbd5c_d90e_11eb_8914_0242ac1c0002row26_col1{\n",
              "            background-color:  #bcd2f7;\n",
              "            color:  #000000;\n",
              "        }#T_fc2dbd5c_d90e_11eb_8914_0242ac1c0002row16_col0,#T_fc2dbd5c_d90e_11eb_8914_0242ac1c0002row17_col12,#T_fc2dbd5c_d90e_11eb_8914_0242ac1c0002row22_col13,#T_fc2dbd5c_d90e_11eb_8914_0242ac1c0002row26_col15{\n",
              "            background-color:  #aac7fd;\n",
              "            color:  #000000;\n",
              "        }#T_fc2dbd5c_d90e_11eb_8914_0242ac1c0002row16_col28{\n",
              "            background-color:  #f5c2aa;\n",
              "            color:  #000000;\n",
              "        }#T_fc2dbd5c_d90e_11eb_8914_0242ac1c0002row17_col0,#T_fc2dbd5c_d90e_11eb_8914_0242ac1c0002row19_col12,#T_fc2dbd5c_d90e_11eb_8914_0242ac1c0002row25_col19{\n",
              "            background-color:  #bed2f6;\n",
              "            color:  #000000;\n",
              "        }#T_fc2dbd5c_d90e_11eb_8914_0242ac1c0002row18_col5{\n",
              "            background-color:  #5d7ce6;\n",
              "            color:  #000000;\n",
              "        }#T_fc2dbd5c_d90e_11eb_8914_0242ac1c0002row18_col19{\n",
              "            background-color:  #f29072;\n",
              "            color:  #000000;\n",
              "        }#T_fc2dbd5c_d90e_11eb_8914_0242ac1c0002row18_col23{\n",
              "            background-color:  #3c4ec2;\n",
              "            color:  #f1f1f1;\n",
              "        }#T_fc2dbd5c_d90e_11eb_8914_0242ac1c0002row19_col11,#T_fc2dbd5c_d90e_11eb_8914_0242ac1c0002row23_col1,#T_fc2dbd5c_d90e_11eb_8914_0242ac1c0002row23_col12,#T_fc2dbd5c_d90e_11eb_8914_0242ac1c0002row26_col10,#T_fc2dbd5c_d90e_11eb_8914_0242ac1c0002row28_col4{\n",
              "            background-color:  #c5d6f2;\n",
              "            color:  #000000;\n",
              "        }#T_fc2dbd5c_d90e_11eb_8914_0242ac1c0002row19_col18{\n",
              "            background-color:  #f39475;\n",
              "            color:  #000000;\n",
              "        }#T_fc2dbd5c_d90e_11eb_8914_0242ac1c0002row19_col20{\n",
              "            background-color:  #f7b396;\n",
              "            color:  #000000;\n",
              "        }#T_fc2dbd5c_d90e_11eb_8914_0242ac1c0002row19_col27{\n",
              "            background-color:  #dbdcde;\n",
              "            color:  #000000;\n",
              "        }#T_fc2dbd5c_d90e_11eb_8914_0242ac1c0002row20_col18,#T_fc2dbd5c_d90e_11eb_8914_0242ac1c0002row28_col16{\n",
              "            background-color:  #f5c0a7;\n",
              "            color:  #000000;\n",
              "        }#T_fc2dbd5c_d90e_11eb_8914_0242ac1c0002row20_col19{\n",
              "            background-color:  #f7ac8e;\n",
              "            color:  #000000;\n",
              "        }#T_fc2dbd5c_d90e_11eb_8914_0242ac1c0002row22_col0,#T_fc2dbd5c_d90e_11eb_8914_0242ac1c0002row26_col24{\n",
              "            background-color:  #d5dbe5;\n",
              "            color:  #000000;\n",
              "        }#T_fc2dbd5c_d90e_11eb_8914_0242ac1c0002row22_col4,#T_fc2dbd5c_d90e_11eb_8914_0242ac1c0002row27_col18{\n",
              "            background-color:  #dadce0;\n",
              "            color:  #000000;\n",
              "        }#T_fc2dbd5c_d90e_11eb_8914_0242ac1c0002row24_col8{\n",
              "            background-color:  #e7d7ce;\n",
              "            color:  #000000;\n",
              "        }#T_fc2dbd5c_d90e_11eb_8914_0242ac1c0002row24_col25{\n",
              "            background-color:  #e5d8d1;\n",
              "            color:  #000000;\n",
              "        }#T_fc2dbd5c_d90e_11eb_8914_0242ac1c0002row25_col8{\n",
              "            background-color:  #f1cdba;\n",
              "            color:  #000000;\n",
              "        }#T_fc2dbd5c_d90e_11eb_8914_0242ac1c0002row25_col10{\n",
              "            background-color:  #c7d7f0;\n",
              "            color:  #000000;\n",
              "        }#T_fc2dbd5c_d90e_11eb_8914_0242ac1c0002row25_col24{\n",
              "            background-color:  #e2dad5;\n",
              "            color:  #000000;\n",
              "        }#T_fc2dbd5c_d90e_11eb_8914_0242ac1c0002row26_col12,#T_fc2dbd5c_d90e_11eb_8914_0242ac1c0002row27_col16{\n",
              "            background-color:  #d6dce4;\n",
              "            color:  #000000;\n",
              "        }#T_fc2dbd5c_d90e_11eb_8914_0242ac1c0002row27_col19{\n",
              "            background-color:  #e6d7cf;\n",
              "            color:  #000000;\n",
              "        }</style><table id=\"T_fc2dbd5c_d90e_11eb_8914_0242ac1c0002\" ><thead>    <tr>        <th class=\"blank level0\" ></th>        <th class=\"col_heading level0 col0\" >landmass</th>        <th class=\"col_heading level0 col1\" >zone</th>        <th class=\"col_heading level0 col2\" >area</th>        <th class=\"col_heading level0 col3\" >population</th>        <th class=\"col_heading level0 col4\" >language</th>        <th class=\"col_heading level0 col5\" >religion</th>        <th class=\"col_heading level0 col6\" >bars</th>        <th class=\"col_heading level0 col7\" >stripes</th>        <th class=\"col_heading level0 col8\" >colours</th>        <th class=\"col_heading level0 col9\" >red</th>        <th class=\"col_heading level0 col10\" >green</th>        <th class=\"col_heading level0 col11\" >blue</th>        <th class=\"col_heading level0 col12\" >gold</th>        <th class=\"col_heading level0 col13\" >white</th>        <th class=\"col_heading level0 col14\" >black</th>        <th class=\"col_heading level0 col15\" >orange</th>        <th class=\"col_heading level0 col16\" >mainhue</th>        <th class=\"col_heading level0 col17\" >circles</th>        <th class=\"col_heading level0 col18\" >crosses</th>        <th class=\"col_heading level0 col19\" >saltires</th>        <th class=\"col_heading level0 col20\" >quarters</th>        <th class=\"col_heading level0 col21\" >sunstars</th>        <th class=\"col_heading level0 col22\" >crescent</th>        <th class=\"col_heading level0 col23\" >triangle</th>        <th class=\"col_heading level0 col24\" >icon</th>        <th class=\"col_heading level0 col25\" >animate</th>        <th class=\"col_heading level0 col26\" >text</th>        <th class=\"col_heading level0 col27\" >topleft</th>        <th class=\"col_heading level0 col28\" >botright</th>    </tr></thead><tbody>\n",
              "                <tr>\n",
              "                        <th id=\"T_fc2dbd5c_d90e_11eb_8914_0242ac1c0002level0_row0\" class=\"row_heading level0 row0\" >landmass</th>\n",
              "                        <td id=\"T_fc2dbd5c_d90e_11eb_8914_0242ac1c0002row0_col0\" class=\"data row0 col0\" >1.000000</td>\n",
              "                        <td id=\"T_fc2dbd5c_d90e_11eb_8914_0242ac1c0002row0_col1\" class=\"data row0 col1\" >-0.544783</td>\n",
              "                        <td id=\"T_fc2dbd5c_d90e_11eb_8914_0242ac1c0002row0_col2\" class=\"data row0 col2\" >0.094226</td>\n",
              "                        <td id=\"T_fc2dbd5c_d90e_11eb_8914_0242ac1c0002row0_col3\" class=\"data row0 col3\" >0.085714</td>\n",
              "                        <td id=\"T_fc2dbd5c_d90e_11eb_8914_0242ac1c0002row0_col4\" class=\"data row0 col4\" >0.466591</td>\n",
              "                        <td id=\"T_fc2dbd5c_d90e_11eb_8914_0242ac1c0002row0_col5\" class=\"data row0 col5\" >0.433044</td>\n",
              "                        <td id=\"T_fc2dbd5c_d90e_11eb_8914_0242ac1c0002row0_col6\" class=\"data row0 col6\" >-0.120605</td>\n",
              "                        <td id=\"T_fc2dbd5c_d90e_11eb_8914_0242ac1c0002row0_col7\" class=\"data row0 col7\" >-0.072572</td>\n",
              "                        <td id=\"T_fc2dbd5c_d90e_11eb_8914_0242ac1c0002row0_col8\" class=\"data row0 col8\" >0.021312</td>\n",
              "                        <td id=\"T_fc2dbd5c_d90e_11eb_8914_0242ac1c0002row0_col9\" class=\"data row0 col9\" >0.083602</td>\n",
              "                        <td id=\"T_fc2dbd5c_d90e_11eb_8914_0242ac1c0002row0_col10\" class=\"data row0 col10\" >0.029916</td>\n",
              "                        <td id=\"T_fc2dbd5c_d90e_11eb_8914_0242ac1c0002row0_col11\" class=\"data row0 col11\" >-0.165574</td>\n",
              "                        <td id=\"T_fc2dbd5c_d90e_11eb_8914_0242ac1c0002row0_col12\" class=\"data row0 col12\" >-0.087679</td>\n",
              "                        <td id=\"T_fc2dbd5c_d90e_11eb_8914_0242ac1c0002row0_col13\" class=\"data row0 col13\" >0.011859</td>\n",
              "                        <td id=\"T_fc2dbd5c_d90e_11eb_8914_0242ac1c0002row0_col14\" class=\"data row0 col14\" >-0.046213</td>\n",
              "                        <td id=\"T_fc2dbd5c_d90e_11eb_8914_0242ac1c0002row0_col15\" class=\"data row0 col15\" >0.038035</td>\n",
              "                        <td id=\"T_fc2dbd5c_d90e_11eb_8914_0242ac1c0002row0_col16\" class=\"data row0 col16\" >-0.027488</td>\n",
              "                        <td id=\"T_fc2dbd5c_d90e_11eb_8914_0242ac1c0002row0_col17\" class=\"data row0 col17\" >0.060509</td>\n",
              "                        <td id=\"T_fc2dbd5c_d90e_11eb_8914_0242ac1c0002row0_col18\" class=\"data row0 col18\" >-0.045667</td>\n",
              "                        <td id=\"T_fc2dbd5c_d90e_11eb_8914_0242ac1c0002row0_col19\" class=\"data row0 col19\" >0.012136</td>\n",
              "                        <td id=\"T_fc2dbd5c_d90e_11eb_8914_0242ac1c0002row0_col20\" class=\"data row0 col20\" >0.055848</td>\n",
              "                        <td id=\"T_fc2dbd5c_d90e_11eb_8914_0242ac1c0002row0_col21\" class=\"data row0 col21\" >0.228453</td>\n",
              "                        <td id=\"T_fc2dbd5c_d90e_11eb_8914_0242ac1c0002row0_col22\" class=\"data row0 col22\" >0.182904</td>\n",
              "                        <td id=\"T_fc2dbd5c_d90e_11eb_8914_0242ac1c0002row0_col23\" class=\"data row0 col23\" >-0.013428</td>\n",
              "                        <td id=\"T_fc2dbd5c_d90e_11eb_8914_0242ac1c0002row0_col24\" class=\"data row0 col24\" >0.040628</td>\n",
              "                        <td id=\"T_fc2dbd5c_d90e_11eb_8914_0242ac1c0002row0_col25\" class=\"data row0 col25\" >-0.095356</td>\n",
              "                        <td id=\"T_fc2dbd5c_d90e_11eb_8914_0242ac1c0002row0_col26\" class=\"data row0 col26\" >-0.092331</td>\n",
              "                        <td id=\"T_fc2dbd5c_d90e_11eb_8914_0242ac1c0002row0_col27\" class=\"data row0 col27\" >0.083547</td>\n",
              "                        <td id=\"T_fc2dbd5c_d90e_11eb_8914_0242ac1c0002row0_col28\" class=\"data row0 col28\" >-0.074139</td>\n",
              "            </tr>\n",
              "            <tr>\n",
              "                        <th id=\"T_fc2dbd5c_d90e_11eb_8914_0242ac1c0002level0_row1\" class=\"row_heading level0 row1\" >zone</th>\n",
              "                        <td id=\"T_fc2dbd5c_d90e_11eb_8914_0242ac1c0002row1_col0\" class=\"data row1 col0\" >-0.544783</td>\n",
              "                        <td id=\"T_fc2dbd5c_d90e_11eb_8914_0242ac1c0002row1_col1\" class=\"data row1 col1\" >1.000000</td>\n",
              "                        <td id=\"T_fc2dbd5c_d90e_11eb_8914_0242ac1c0002row1_col2\" class=\"data row1 col2\" >-0.159736</td>\n",
              "                        <td id=\"T_fc2dbd5c_d90e_11eb_8914_0242ac1c0002row1_col3\" class=\"data row1 col3\" >-0.271347</td>\n",
              "                        <td id=\"T_fc2dbd5c_d90e_11eb_8914_0242ac1c0002row1_col4\" class=\"data row1 col4\" >-0.590769</td>\n",
              "                        <td id=\"T_fc2dbd5c_d90e_11eb_8914_0242ac1c0002row1_col5\" class=\"data row1 col5\" >-0.357737</td>\n",
              "                        <td id=\"T_fc2dbd5c_d90e_11eb_8914_0242ac1c0002row1_col6\" class=\"data row1 col6\" >0.057227</td>\n",
              "                        <td id=\"T_fc2dbd5c_d90e_11eb_8914_0242ac1c0002row1_col7\" class=\"data row1 col7\" >-0.019913</td>\n",
              "                        <td id=\"T_fc2dbd5c_d90e_11eb_8914_0242ac1c0002row1_col8\" class=\"data row1 col8\" >0.150285</td>\n",
              "                        <td id=\"T_fc2dbd5c_d90e_11eb_8914_0242ac1c0002row1_col9\" class=\"data row1 col9\" >-0.031976</td>\n",
              "                        <td id=\"T_fc2dbd5c_d90e_11eb_8914_0242ac1c0002row1_col10\" class=\"data row1 col10\" >0.089377</td>\n",
              "                        <td id=\"T_fc2dbd5c_d90e_11eb_8914_0242ac1c0002row1_col11\" class=\"data row1 col11\" >0.201596</td>\n",
              "                        <td id=\"T_fc2dbd5c_d90e_11eb_8914_0242ac1c0002row1_col12\" class=\"data row1 col12\" >0.175484</td>\n",
              "                        <td id=\"T_fc2dbd5c_d90e_11eb_8914_0242ac1c0002row1_col13\" class=\"data row1 col13\" >-0.046983</td>\n",
              "                        <td id=\"T_fc2dbd5c_d90e_11eb_8914_0242ac1c0002row1_col14\" class=\"data row1 col14\" >0.039855</td>\n",
              "                        <td id=\"T_fc2dbd5c_d90e_11eb_8914_0242ac1c0002row1_col15\" class=\"data row1 col15\" >0.058495</td>\n",
              "                        <td id=\"T_fc2dbd5c_d90e_11eb_8914_0242ac1c0002row1_col16\" class=\"data row1 col16\" >-0.102791</td>\n",
              "                        <td id=\"T_fc2dbd5c_d90e_11eb_8914_0242ac1c0002row1_col17\" class=\"data row1 col17\" >-0.015786</td>\n",
              "                        <td id=\"T_fc2dbd5c_d90e_11eb_8914_0242ac1c0002row1_col18\" class=\"data row1 col18\" >0.109000</td>\n",
              "                        <td id=\"T_fc2dbd5c_d90e_11eb_8914_0242ac1c0002row1_col19\" class=\"data row1 col19\" >0.204355</td>\n",
              "                        <td id=\"T_fc2dbd5c_d90e_11eb_8914_0242ac1c0002row1_col20\" class=\"data row1 col20\" >0.145403</td>\n",
              "                        <td id=\"T_fc2dbd5c_d90e_11eb_8914_0242ac1c0002row1_col21\" class=\"data row1 col21\" >0.017750</td>\n",
              "                        <td id=\"T_fc2dbd5c_d90e_11eb_8914_0242ac1c0002row1_col22\" class=\"data row1 col22\" >-0.165492</td>\n",
              "                        <td id=\"T_fc2dbd5c_d90e_11eb_8914_0242ac1c0002row1_col23\" class=\"data row1 col23\" >0.070574</td>\n",
              "                        <td id=\"T_fc2dbd5c_d90e_11eb_8914_0242ac1c0002row1_col24\" class=\"data row1 col24\" >-0.044841</td>\n",
              "                        <td id=\"T_fc2dbd5c_d90e_11eb_8914_0242ac1c0002row1_col25\" class=\"data row1 col25\" >0.111416</td>\n",
              "                        <td id=\"T_fc2dbd5c_d90e_11eb_8914_0242ac1c0002row1_col26\" class=\"data row1 col26\" >0.029121</td>\n",
              "                        <td id=\"T_fc2dbd5c_d90e_11eb_8914_0242ac1c0002row1_col27\" class=\"data row1 col27\" >0.008872</td>\n",
              "                        <td id=\"T_fc2dbd5c_d90e_11eb_8914_0242ac1c0002row1_col28\" class=\"data row1 col28\" >-0.055637</td>\n",
              "            </tr>\n",
              "            <tr>\n",
              "                        <th id=\"T_fc2dbd5c_d90e_11eb_8914_0242ac1c0002level0_row2\" class=\"row_heading level0 row2\" >area</th>\n",
              "                        <td id=\"T_fc2dbd5c_d90e_11eb_8914_0242ac1c0002row2_col0\" class=\"data row2 col0\" >0.094226</td>\n",
              "                        <td id=\"T_fc2dbd5c_d90e_11eb_8914_0242ac1c0002row2_col1\" class=\"data row2 col1\" >-0.159736</td>\n",
              "                        <td id=\"T_fc2dbd5c_d90e_11eb_8914_0242ac1c0002row2_col2\" class=\"data row2 col2\" >1.000000</td>\n",
              "                        <td id=\"T_fc2dbd5c_d90e_11eb_8914_0242ac1c0002row2_col3\" class=\"data row2 col3\" >0.785010</td>\n",
              "                        <td id=\"T_fc2dbd5c_d90e_11eb_8914_0242ac1c0002row2_col4\" class=\"data row2 col4\" >0.301753</td>\n",
              "                        <td id=\"T_fc2dbd5c_d90e_11eb_8914_0242ac1c0002row2_col5\" class=\"data row2 col5\" >0.246214</td>\n",
              "                        <td id=\"T_fc2dbd5c_d90e_11eb_8914_0242ac1c0002row2_col6\" class=\"data row2 col6\" >0.113357</td>\n",
              "                        <td id=\"T_fc2dbd5c_d90e_11eb_8914_0242ac1c0002row2_col7\" class=\"data row2 col7\" >0.158093</td>\n",
              "                        <td id=\"T_fc2dbd5c_d90e_11eb_8914_0242ac1c0002row2_col8\" class=\"data row2 col8\" >-0.258964</td>\n",
              "                        <td id=\"T_fc2dbd5c_d90e_11eb_8914_0242ac1c0002row2_col9\" class=\"data row2 col9\" >-0.032554</td>\n",
              "                        <td id=\"T_fc2dbd5c_d90e_11eb_8914_0242ac1c0002row2_col10\" class=\"data row2 col10\" >0.044571</td>\n",
              "                        <td id=\"T_fc2dbd5c_d90e_11eb_8914_0242ac1c0002row2_col11\" class=\"data row2 col11\" >-0.209922</td>\n",
              "                        <td id=\"T_fc2dbd5c_d90e_11eb_8914_0242ac1c0002row2_col12\" class=\"data row2 col12\" >-0.123449</td>\n",
              "                        <td id=\"T_fc2dbd5c_d90e_11eb_8914_0242ac1c0002row2_col13\" class=\"data row2 col13\" >-0.159023</td>\n",
              "                        <td id=\"T_fc2dbd5c_d90e_11eb_8914_0242ac1c0002row2_col14\" class=\"data row2 col14\" >-0.091994</td>\n",
              "                        <td id=\"T_fc2dbd5c_d90e_11eb_8914_0242ac1c0002row2_col15\" class=\"data row2 col15\" >-0.102677</td>\n",
              "                        <td id=\"T_fc2dbd5c_d90e_11eb_8914_0242ac1c0002row2_col16\" class=\"data row2 col16\" >0.092452</td>\n",
              "                        <td id=\"T_fc2dbd5c_d90e_11eb_8914_0242ac1c0002row2_col17\" class=\"data row2 col17\" >-0.013170</td>\n",
              "                        <td id=\"T_fc2dbd5c_d90e_11eb_8914_0242ac1c0002row2_col18\" class=\"data row2 col18\" >-0.209962</td>\n",
              "                        <td id=\"T_fc2dbd5c_d90e_11eb_8914_0242ac1c0002row2_col19\" class=\"data row2 col19\" >-0.229201</td>\n",
              "                        <td id=\"T_fc2dbd5c_d90e_11eb_8914_0242ac1c0002row2_col20\" class=\"data row2 col20\" >-0.171901</td>\n",
              "                        <td id=\"T_fc2dbd5c_d90e_11eb_8914_0242ac1c0002row2_col21\" class=\"data row2 col21\" >0.050035</td>\n",
              "                        <td id=\"T_fc2dbd5c_d90e_11eb_8914_0242ac1c0002row2_col22\" class=\"data row2 col22\" >0.089193</td>\n",
              "                        <td id=\"T_fc2dbd5c_d90e_11eb_8914_0242ac1c0002row2_col23\" class=\"data row2 col23\" >-0.098259</td>\n",
              "                        <td id=\"T_fc2dbd5c_d90e_11eb_8914_0242ac1c0002row2_col24\" class=\"data row2 col24\" >-0.155916</td>\n",
              "                        <td id=\"T_fc2dbd5c_d90e_11eb_8914_0242ac1c0002row2_col25\" class=\"data row2 col25\" >-0.185039</td>\n",
              "                        <td id=\"T_fc2dbd5c_d90e_11eb_8914_0242ac1c0002row2_col26\" class=\"data row2 col26\" >-0.076161</td>\n",
              "                        <td id=\"T_fc2dbd5c_d90e_11eb_8914_0242ac1c0002row2_col27\" class=\"data row2 col27\" >-0.166374</td>\n",
              "                        <td id=\"T_fc2dbd5c_d90e_11eb_8914_0242ac1c0002row2_col28\" class=\"data row2 col28\" >0.025302</td>\n",
              "            </tr>\n",
              "            <tr>\n",
              "                        <th id=\"T_fc2dbd5c_d90e_11eb_8914_0242ac1c0002level0_row3\" class=\"row_heading level0 row3\" >population</th>\n",
              "                        <td id=\"T_fc2dbd5c_d90e_11eb_8914_0242ac1c0002row3_col0\" class=\"data row3 col0\" >0.085714</td>\n",
              "                        <td id=\"T_fc2dbd5c_d90e_11eb_8914_0242ac1c0002row3_col1\" class=\"data row3 col1\" >-0.271347</td>\n",
              "                        <td id=\"T_fc2dbd5c_d90e_11eb_8914_0242ac1c0002row3_col2\" class=\"data row3 col2\" >0.785010</td>\n",
              "                        <td id=\"T_fc2dbd5c_d90e_11eb_8914_0242ac1c0002row3_col3\" class=\"data row3 col3\" >1.000000</td>\n",
              "                        <td id=\"T_fc2dbd5c_d90e_11eb_8914_0242ac1c0002row3_col4\" class=\"data row3 col4\" >0.289284</td>\n",
              "                        <td id=\"T_fc2dbd5c_d90e_11eb_8914_0242ac1c0002row3_col5\" class=\"data row3 col5\" >0.252643</td>\n",
              "                        <td id=\"T_fc2dbd5c_d90e_11eb_8914_0242ac1c0002row3_col6\" class=\"data row3 col6\" >0.082481</td>\n",
              "                        <td id=\"T_fc2dbd5c_d90e_11eb_8914_0242ac1c0002row3_col7\" class=\"data row3 col7\" >0.166448</td>\n",
              "                        <td id=\"T_fc2dbd5c_d90e_11eb_8914_0242ac1c0002row3_col8\" class=\"data row3 col8\" >-0.247684</td>\n",
              "                        <td id=\"T_fc2dbd5c_d90e_11eb_8914_0242ac1c0002row3_col9\" class=\"data row3 col9\" >0.043046</td>\n",
              "                        <td id=\"T_fc2dbd5c_d90e_11eb_8914_0242ac1c0002row3_col10\" class=\"data row3 col10\" >-0.026435</td>\n",
              "                        <td id=\"T_fc2dbd5c_d90e_11eb_8914_0242ac1c0002row3_col11\" class=\"data row3 col11\" >-0.205804</td>\n",
              "                        <td id=\"T_fc2dbd5c_d90e_11eb_8914_0242ac1c0002row3_col12\" class=\"data row3 col12\" >-0.154313</td>\n",
              "                        <td id=\"T_fc2dbd5c_d90e_11eb_8914_0242ac1c0002row3_col13\" class=\"data row3 col13\" >-0.120991</td>\n",
              "                        <td id=\"T_fc2dbd5c_d90e_11eb_8914_0242ac1c0002row3_col14\" class=\"data row3 col14\" >-0.098927</td>\n",
              "                        <td id=\"T_fc2dbd5c_d90e_11eb_8914_0242ac1c0002row3_col15\" class=\"data row3 col15\" >-0.063901</td>\n",
              "                        <td id=\"T_fc2dbd5c_d90e_11eb_8914_0242ac1c0002row3_col16\" class=\"data row3 col16\" >0.142204</td>\n",
              "                        <td id=\"T_fc2dbd5c_d90e_11eb_8914_0242ac1c0002row3_col17\" class=\"data row3 col17\" >0.009786</td>\n",
              "                        <td id=\"T_fc2dbd5c_d90e_11eb_8914_0242ac1c0002row3_col18\" class=\"data row3 col18\" >-0.188833</td>\n",
              "                        <td id=\"T_fc2dbd5c_d90e_11eb_8914_0242ac1c0002row3_col19\" class=\"data row3 col19\" >-0.176738</td>\n",
              "                        <td id=\"T_fc2dbd5c_d90e_11eb_8914_0242ac1c0002row3_col20\" class=\"data row3 col20\" >-0.152321</td>\n",
              "                        <td id=\"T_fc2dbd5c_d90e_11eb_8914_0242ac1c0002row3_col21\" class=\"data row3 col21\" >0.031902</td>\n",
              "                        <td id=\"T_fc2dbd5c_d90e_11eb_8914_0242ac1c0002row3_col22\" class=\"data row3 col22\" >0.065508</td>\n",
              "                        <td id=\"T_fc2dbd5c_d90e_11eb_8914_0242ac1c0002row3_col23\" class=\"data row3 col23\" >-0.170096</td>\n",
              "                        <td id=\"T_fc2dbd5c_d90e_11eb_8914_0242ac1c0002row3_col24\" class=\"data row3 col24\" >-0.135182</td>\n",
              "                        <td id=\"T_fc2dbd5c_d90e_11eb_8914_0242ac1c0002row3_col25\" class=\"data row3 col25\" >-0.169005</td>\n",
              "                        <td id=\"T_fc2dbd5c_d90e_11eb_8914_0242ac1c0002row3_col26\" class=\"data row3 col26\" >-0.068291</td>\n",
              "                        <td id=\"T_fc2dbd5c_d90e_11eb_8914_0242ac1c0002row3_col27\" class=\"data row3 col27\" >-0.169721</td>\n",
              "                        <td id=\"T_fc2dbd5c_d90e_11eb_8914_0242ac1c0002row3_col28\" class=\"data row3 col28\" >0.110168</td>\n",
              "            </tr>\n",
              "            <tr>\n",
              "                        <th id=\"T_fc2dbd5c_d90e_11eb_8914_0242ac1c0002level0_row4\" class=\"row_heading level0 row4\" >language</th>\n",
              "                        <td id=\"T_fc2dbd5c_d90e_11eb_8914_0242ac1c0002row4_col0\" class=\"data row4 col0\" >0.466591</td>\n",
              "                        <td id=\"T_fc2dbd5c_d90e_11eb_8914_0242ac1c0002row4_col1\" class=\"data row4 col1\" >-0.590769</td>\n",
              "                        <td id=\"T_fc2dbd5c_d90e_11eb_8914_0242ac1c0002row4_col2\" class=\"data row4 col2\" >0.301753</td>\n",
              "                        <td id=\"T_fc2dbd5c_d90e_11eb_8914_0242ac1c0002row4_col3\" class=\"data row4 col3\" >0.289284</td>\n",
              "                        <td id=\"T_fc2dbd5c_d90e_11eb_8914_0242ac1c0002row4_col4\" class=\"data row4 col4\" >1.000000</td>\n",
              "                        <td id=\"T_fc2dbd5c_d90e_11eb_8914_0242ac1c0002row4_col5\" class=\"data row4 col5\" >0.458068</td>\n",
              "                        <td id=\"T_fc2dbd5c_d90e_11eb_8914_0242ac1c0002row4_col6\" class=\"data row4 col6\" >0.022281</td>\n",
              "                        <td id=\"T_fc2dbd5c_d90e_11eb_8914_0242ac1c0002row4_col7\" class=\"data row4 col7\" >0.114180</td>\n",
              "                        <td id=\"T_fc2dbd5c_d90e_11eb_8914_0242ac1c0002row4_col8\" class=\"data row4 col8\" >-0.166658</td>\n",
              "                        <td id=\"T_fc2dbd5c_d90e_11eb_8914_0242ac1c0002row4_col9\" class=\"data row4 col9\" >-0.009847</td>\n",
              "                        <td id=\"T_fc2dbd5c_d90e_11eb_8914_0242ac1c0002row4_col10\" class=\"data row4 col10\" >-0.009087</td>\n",
              "                        <td id=\"T_fc2dbd5c_d90e_11eb_8914_0242ac1c0002row4_col11\" class=\"data row4 col11\" >-0.265304</td>\n",
              "                        <td id=\"T_fc2dbd5c_d90e_11eb_8914_0242ac1c0002row4_col12\" class=\"data row4 col12\" >-0.196343</td>\n",
              "                        <td id=\"T_fc2dbd5c_d90e_11eb_8914_0242ac1c0002row4_col13\" class=\"data row4 col13\" >-0.067492</td>\n",
              "                        <td id=\"T_fc2dbd5c_d90e_11eb_8914_0242ac1c0002row4_col14\" class=\"data row4 col14\" >0.077150</td>\n",
              "                        <td id=\"T_fc2dbd5c_d90e_11eb_8914_0242ac1c0002row4_col15\" class=\"data row4 col15\" >-0.078354</td>\n",
              "                        <td id=\"T_fc2dbd5c_d90e_11eb_8914_0242ac1c0002row4_col16\" class=\"data row4 col16\" >0.127373</td>\n",
              "                        <td id=\"T_fc2dbd5c_d90e_11eb_8914_0242ac1c0002row4_col17\" class=\"data row4 col17\" >0.045468</td>\n",
              "                        <td id=\"T_fc2dbd5c_d90e_11eb_8914_0242ac1c0002row4_col18\" class=\"data row4 col18\" >-0.226721</td>\n",
              "                        <td id=\"T_fc2dbd5c_d90e_11eb_8914_0242ac1c0002row4_col19\" class=\"data row4 col19\" >-0.329830</td>\n",
              "                        <td id=\"T_fc2dbd5c_d90e_11eb_8914_0242ac1c0002row4_col20\" class=\"data row4 col20\" >-0.255555</td>\n",
              "                        <td id=\"T_fc2dbd5c_d90e_11eb_8914_0242ac1c0002row4_col21\" class=\"data row4 col21\" >-0.001946</td>\n",
              "                        <td id=\"T_fc2dbd5c_d90e_11eb_8914_0242ac1c0002row4_col22\" class=\"data row4 col22\" >0.189199</td>\n",
              "                        <td id=\"T_fc2dbd5c_d90e_11eb_8914_0242ac1c0002row4_col23\" class=\"data row4 col23\" >-0.081441</td>\n",
              "                        <td id=\"T_fc2dbd5c_d90e_11eb_8914_0242ac1c0002row4_col24\" class=\"data row4 col24\" >0.011082</td>\n",
              "                        <td id=\"T_fc2dbd5c_d90e_11eb_8914_0242ac1c0002row4_col25\" class=\"data row4 col25\" >-0.159920</td>\n",
              "                        <td id=\"T_fc2dbd5c_d90e_11eb_8914_0242ac1c0002row4_col26\" class=\"data row4 col26\" >-0.100604</td>\n",
              "                        <td id=\"T_fc2dbd5c_d90e_11eb_8914_0242ac1c0002row4_col27\" class=\"data row4 col27\" >-0.127590</td>\n",
              "                        <td id=\"T_fc2dbd5c_d90e_11eb_8914_0242ac1c0002row4_col28\" class=\"data row4 col28\" >0.068834</td>\n",
              "            </tr>\n",
              "            <tr>\n",
              "                        <th id=\"T_fc2dbd5c_d90e_11eb_8914_0242ac1c0002level0_row5\" class=\"row_heading level0 row5\" >religion</th>\n",
              "                        <td id=\"T_fc2dbd5c_d90e_11eb_8914_0242ac1c0002row5_col0\" class=\"data row5 col0\" >0.433044</td>\n",
              "                        <td id=\"T_fc2dbd5c_d90e_11eb_8914_0242ac1c0002row5_col1\" class=\"data row5 col1\" >-0.357737</td>\n",
              "                        <td id=\"T_fc2dbd5c_d90e_11eb_8914_0242ac1c0002row5_col2\" class=\"data row5 col2\" >0.246214</td>\n",
              "                        <td id=\"T_fc2dbd5c_d90e_11eb_8914_0242ac1c0002row5_col3\" class=\"data row5 col3\" >0.252643</td>\n",
              "                        <td id=\"T_fc2dbd5c_d90e_11eb_8914_0242ac1c0002row5_col4\" class=\"data row5 col4\" >0.458068</td>\n",
              "                        <td id=\"T_fc2dbd5c_d90e_11eb_8914_0242ac1c0002row5_col5\" class=\"data row5 col5\" >1.000000</td>\n",
              "                        <td id=\"T_fc2dbd5c_d90e_11eb_8914_0242ac1c0002row5_col6\" class=\"data row5 col6\" >-0.083485</td>\n",
              "                        <td id=\"T_fc2dbd5c_d90e_11eb_8914_0242ac1c0002row5_col7\" class=\"data row5 col7\" >0.061937</td>\n",
              "                        <td id=\"T_fc2dbd5c_d90e_11eb_8914_0242ac1c0002row5_col8\" class=\"data row5 col8\" >0.037046</td>\n",
              "                        <td id=\"T_fc2dbd5c_d90e_11eb_8914_0242ac1c0002row5_col9\" class=\"data row5 col9\" >0.107444</td>\n",
              "                        <td id=\"T_fc2dbd5c_d90e_11eb_8914_0242ac1c0002row5_col10\" class=\"data row5 col10\" >0.196590</td>\n",
              "                        <td id=\"T_fc2dbd5c_d90e_11eb_8914_0242ac1c0002row5_col11\" class=\"data row5 col11\" >-0.229090</td>\n",
              "                        <td id=\"T_fc2dbd5c_d90e_11eb_8914_0242ac1c0002row5_col12\" class=\"data row5 col12\" >-0.019659</td>\n",
              "                        <td id=\"T_fc2dbd5c_d90e_11eb_8914_0242ac1c0002row5_col13\" class=\"data row5 col13\" >-0.135647</td>\n",
              "                        <td id=\"T_fc2dbd5c_d90e_11eb_8914_0242ac1c0002row5_col14\" class=\"data row5 col14\" >0.075924</td>\n",
              "                        <td id=\"T_fc2dbd5c_d90e_11eb_8914_0242ac1c0002row5_col15\" class=\"data row5 col15\" >-0.027829</td>\n",
              "                        <td id=\"T_fc2dbd5c_d90e_11eb_8914_0242ac1c0002row5_col16\" class=\"data row5 col16\" >0.111262</td>\n",
              "                        <td id=\"T_fc2dbd5c_d90e_11eb_8914_0242ac1c0002row5_col17\" class=\"data row5 col17\" >0.108226</td>\n",
              "                        <td id=\"T_fc2dbd5c_d90e_11eb_8914_0242ac1c0002row5_col18\" class=\"data row5 col18\" >-0.206613</td>\n",
              "                        <td id=\"T_fc2dbd5c_d90e_11eb_8914_0242ac1c0002row5_col19\" class=\"data row5 col19\" >-0.105509</td>\n",
              "                        <td id=\"T_fc2dbd5c_d90e_11eb_8914_0242ac1c0002row5_col20\" class=\"data row5 col20\" >-0.107634</td>\n",
              "                        <td id=\"T_fc2dbd5c_d90e_11eb_8914_0242ac1c0002row5_col21\" class=\"data row5 col21\" >0.120903</td>\n",
              "                        <td id=\"T_fc2dbd5c_d90e_11eb_8914_0242ac1c0002row5_col22\" class=\"data row5 col22\" >0.140927</td>\n",
              "                        <td id=\"T_fc2dbd5c_d90e_11eb_8914_0242ac1c0002row5_col23\" class=\"data row5 col23\" >0.063229</td>\n",
              "                        <td id=\"T_fc2dbd5c_d90e_11eb_8914_0242ac1c0002row5_col24\" class=\"data row5 col24\" >0.053844</td>\n",
              "                        <td id=\"T_fc2dbd5c_d90e_11eb_8914_0242ac1c0002row5_col25\" class=\"data row5 col25\" >0.013534</td>\n",
              "                        <td id=\"T_fc2dbd5c_d90e_11eb_8914_0242ac1c0002row5_col26\" class=\"data row5 col26\" >-0.022633</td>\n",
              "                        <td id=\"T_fc2dbd5c_d90e_11eb_8914_0242ac1c0002row5_col27\" class=\"data row5 col27\" >0.047883</td>\n",
              "                        <td id=\"T_fc2dbd5c_d90e_11eb_8914_0242ac1c0002row5_col28\" class=\"data row5 col28\" >-0.027787</td>\n",
              "            </tr>\n",
              "            <tr>\n",
              "                        <th id=\"T_fc2dbd5c_d90e_11eb_8914_0242ac1c0002level0_row6\" class=\"row_heading level0 row6\" >bars</th>\n",
              "                        <td id=\"T_fc2dbd5c_d90e_11eb_8914_0242ac1c0002row6_col0\" class=\"data row6 col0\" >-0.120605</td>\n",
              "                        <td id=\"T_fc2dbd5c_d90e_11eb_8914_0242ac1c0002row6_col1\" class=\"data row6 col1\" >0.057227</td>\n",
              "                        <td id=\"T_fc2dbd5c_d90e_11eb_8914_0242ac1c0002row6_col2\" class=\"data row6 col2\" >0.113357</td>\n",
              "                        <td id=\"T_fc2dbd5c_d90e_11eb_8914_0242ac1c0002row6_col3\" class=\"data row6 col3\" >0.082481</td>\n",
              "                        <td id=\"T_fc2dbd5c_d90e_11eb_8914_0242ac1c0002row6_col4\" class=\"data row6 col4\" >0.022281</td>\n",
              "                        <td id=\"T_fc2dbd5c_d90e_11eb_8914_0242ac1c0002row6_col5\" class=\"data row6 col5\" >-0.083485</td>\n",
              "                        <td id=\"T_fc2dbd5c_d90e_11eb_8914_0242ac1c0002row6_col6\" class=\"data row6 col6\" >1.000000</td>\n",
              "                        <td id=\"T_fc2dbd5c_d90e_11eb_8914_0242ac1c0002row6_col7\" class=\"data row6 col7\" >-0.322864</td>\n",
              "                        <td id=\"T_fc2dbd5c_d90e_11eb_8914_0242ac1c0002row6_col8\" class=\"data row6 col8\" >-0.032124</td>\n",
              "                        <td id=\"T_fc2dbd5c_d90e_11eb_8914_0242ac1c0002row6_col9\" class=\"data row6 col9\" >0.006736</td>\n",
              "                        <td id=\"T_fc2dbd5c_d90e_11eb_8914_0242ac1c0002row6_col10\" class=\"data row6 col10\" >0.143133</td>\n",
              "                        <td id=\"T_fc2dbd5c_d90e_11eb_8914_0242ac1c0002row6_col11\" class=\"data row6 col11\" >-0.171357</td>\n",
              "                        <td id=\"T_fc2dbd5c_d90e_11eb_8914_0242ac1c0002row6_col12\" class=\"data row6 col12\" >0.022042</td>\n",
              "                        <td id=\"T_fc2dbd5c_d90e_11eb_8914_0242ac1c0002row6_col13\" class=\"data row6 col13\" >-0.202653</td>\n",
              "                        <td id=\"T_fc2dbd5c_d90e_11eb_8914_0242ac1c0002row6_col14\" class=\"data row6 col14\" >0.005122</td>\n",
              "                        <td id=\"T_fc2dbd5c_d90e_11eb_8914_0242ac1c0002row6_col15\" class=\"data row6 col15\" >0.051863</td>\n",
              "                        <td id=\"T_fc2dbd5c_d90e_11eb_8914_0242ac1c0002row6_col16\" class=\"data row6 col16\" >-0.033372</td>\n",
              "                        <td id=\"T_fc2dbd5c_d90e_11eb_8914_0242ac1c0002row6_col17\" class=\"data row6 col17\" >-0.150530</td>\n",
              "                        <td id=\"T_fc2dbd5c_d90e_11eb_8914_0242ac1c0002row6_col18\" class=\"data row6 col18\" >-0.152588</td>\n",
              "                        <td id=\"T_fc2dbd5c_d90e_11eb_8914_0242ac1c0002row6_col19\" class=\"data row6 col19\" >-0.149283</td>\n",
              "                        <td id=\"T_fc2dbd5c_d90e_11eb_8914_0242ac1c0002row6_col20\" class=\"data row6 col20\" >-0.183568</td>\n",
              "                        <td id=\"T_fc2dbd5c_d90e_11eb_8914_0242ac1c0002row6_col21\" class=\"data row6 col21\" >-0.180082</td>\n",
              "                        <td id=\"T_fc2dbd5c_d90e_11eb_8914_0242ac1c0002row6_col22\" class=\"data row6 col22\" >0.048751</td>\n",
              "                        <td id=\"T_fc2dbd5c_d90e_11eb_8914_0242ac1c0002row6_col23\" class=\"data row6 col23\" >-0.146780</td>\n",
              "                        <td id=\"T_fc2dbd5c_d90e_11eb_8914_0242ac1c0002row6_col24\" class=\"data row6 col24\" >-0.024842</td>\n",
              "                        <td id=\"T_fc2dbd5c_d90e_11eb_8914_0242ac1c0002row6_col25\" class=\"data row6 col25\" >0.000343</td>\n",
              "                        <td id=\"T_fc2dbd5c_d90e_11eb_8914_0242ac1c0002row6_col26\" class=\"data row6 col26\" >0.019993</td>\n",
              "                        <td id=\"T_fc2dbd5c_d90e_11eb_8914_0242ac1c0002row6_col27\" class=\"data row6 col27\" >-0.149664</td>\n",
              "                        <td id=\"T_fc2dbd5c_d90e_11eb_8914_0242ac1c0002row6_col28\" class=\"data row6 col28\" >0.092643</td>\n",
              "            </tr>\n",
              "            <tr>\n",
              "                        <th id=\"T_fc2dbd5c_d90e_11eb_8914_0242ac1c0002level0_row7\" class=\"row_heading level0 row7\" >stripes</th>\n",
              "                        <td id=\"T_fc2dbd5c_d90e_11eb_8914_0242ac1c0002row7_col0\" class=\"data row7 col0\" >-0.072572</td>\n",
              "                        <td id=\"T_fc2dbd5c_d90e_11eb_8914_0242ac1c0002row7_col1\" class=\"data row7 col1\" >-0.019913</td>\n",
              "                        <td id=\"T_fc2dbd5c_d90e_11eb_8914_0242ac1c0002row7_col2\" class=\"data row7 col2\" >0.158093</td>\n",
              "                        <td id=\"T_fc2dbd5c_d90e_11eb_8914_0242ac1c0002row7_col3\" class=\"data row7 col3\" >0.166448</td>\n",
              "                        <td id=\"T_fc2dbd5c_d90e_11eb_8914_0242ac1c0002row7_col4\" class=\"data row7 col4\" >0.114180</td>\n",
              "                        <td id=\"T_fc2dbd5c_d90e_11eb_8914_0242ac1c0002row7_col5\" class=\"data row7 col5\" >0.061937</td>\n",
              "                        <td id=\"T_fc2dbd5c_d90e_11eb_8914_0242ac1c0002row7_col6\" class=\"data row7 col6\" >-0.322864</td>\n",
              "                        <td id=\"T_fc2dbd5c_d90e_11eb_8914_0242ac1c0002row7_col7\" class=\"data row7 col7\" >1.000000</td>\n",
              "                        <td id=\"T_fc2dbd5c_d90e_11eb_8914_0242ac1c0002row7_col8\" class=\"data row7 col8\" >0.107595</td>\n",
              "                        <td id=\"T_fc2dbd5c_d90e_11eb_8914_0242ac1c0002row7_col9\" class=\"data row7 col9\" >0.017084</td>\n",
              "                        <td id=\"T_fc2dbd5c_d90e_11eb_8914_0242ac1c0002row7_col10\" class=\"data row7 col10\" >-0.029186</td>\n",
              "                        <td id=\"T_fc2dbd5c_d90e_11eb_8914_0242ac1c0002row7_col11\" class=\"data row7 col11\" >0.079818</td>\n",
              "                        <td id=\"T_fc2dbd5c_d90e_11eb_8914_0242ac1c0002row7_col12\" class=\"data row7 col12\" >-0.041724</td>\n",
              "                        <td id=\"T_fc2dbd5c_d90e_11eb_8914_0242ac1c0002row7_col13\" class=\"data row7 col13\" >0.094486</td>\n",
              "                        <td id=\"T_fc2dbd5c_d90e_11eb_8914_0242ac1c0002row7_col14\" class=\"data row7 col14\" >0.174604</td>\n",
              "                        <td id=\"T_fc2dbd5c_d90e_11eb_8914_0242ac1c0002row7_col15\" class=\"data row7 col15\" >-0.096347</td>\n",
              "                        <td id=\"T_fc2dbd5c_d90e_11eb_8914_0242ac1c0002row7_col16\" class=\"data row7 col16\" >0.047175</td>\n",
              "                        <td id=\"T_fc2dbd5c_d90e_11eb_8914_0242ac1c0002row7_col17\" class=\"data row7 col17\" >-0.083684</td>\n",
              "                        <td id=\"T_fc2dbd5c_d90e_11eb_8914_0242ac1c0002row7_col18\" class=\"data row7 col18\" >-0.267800</td>\n",
              "                        <td id=\"T_fc2dbd5c_d90e_11eb_8914_0242ac1c0002row7_col19\" class=\"data row7 col19\" >-0.232982</td>\n",
              "                        <td id=\"T_fc2dbd5c_d90e_11eb_8914_0242ac1c0002row7_col20\" class=\"data row7 col20\" >-0.066518</td>\n",
              "                        <td id=\"T_fc2dbd5c_d90e_11eb_8914_0242ac1c0002row7_col21\" class=\"data row7 col21\" >0.010477</td>\n",
              "                        <td id=\"T_fc2dbd5c_d90e_11eb_8914_0242ac1c0002row7_col22\" class=\"data row7 col22\" >-0.113761</td>\n",
              "                        <td id=\"T_fc2dbd5c_d90e_11eb_8914_0242ac1c0002row7_col23\" class=\"data row7 col23\" >0.004890</td>\n",
              "                        <td id=\"T_fc2dbd5c_d90e_11eb_8914_0242ac1c0002row7_col24\" class=\"data row7 col24\" >-0.105171</td>\n",
              "                        <td id=\"T_fc2dbd5c_d90e_11eb_8914_0242ac1c0002row7_col25\" class=\"data row7 col25\" >-0.185809</td>\n",
              "                        <td id=\"T_fc2dbd5c_d90e_11eb_8914_0242ac1c0002row7_col26\" class=\"data row7 col26\" >-0.117082</td>\n",
              "                        <td id=\"T_fc2dbd5c_d90e_11eb_8914_0242ac1c0002row7_col27\" class=\"data row7 col27\" >-0.214651</td>\n",
              "                        <td id=\"T_fc2dbd5c_d90e_11eb_8914_0242ac1c0002row7_col28\" class=\"data row7 col28\" >-0.166813</td>\n",
              "            </tr>\n",
              "            <tr>\n",
              "                        <th id=\"T_fc2dbd5c_d90e_11eb_8914_0242ac1c0002level0_row8\" class=\"row_heading level0 row8\" >colours</th>\n",
              "                        <td id=\"T_fc2dbd5c_d90e_11eb_8914_0242ac1c0002row8_col0\" class=\"data row8 col0\" >0.021312</td>\n",
              "                        <td id=\"T_fc2dbd5c_d90e_11eb_8914_0242ac1c0002row8_col1\" class=\"data row8 col1\" >0.150285</td>\n",
              "                        <td id=\"T_fc2dbd5c_d90e_11eb_8914_0242ac1c0002row8_col2\" class=\"data row8 col2\" >-0.258964</td>\n",
              "                        <td id=\"T_fc2dbd5c_d90e_11eb_8914_0242ac1c0002row8_col3\" class=\"data row8 col3\" >-0.247684</td>\n",
              "                        <td id=\"T_fc2dbd5c_d90e_11eb_8914_0242ac1c0002row8_col4\" class=\"data row8 col4\" >-0.166658</td>\n",
              "                        <td id=\"T_fc2dbd5c_d90e_11eb_8914_0242ac1c0002row8_col5\" class=\"data row8 col5\" >0.037046</td>\n",
              "                        <td id=\"T_fc2dbd5c_d90e_11eb_8914_0242ac1c0002row8_col6\" class=\"data row8 col6\" >-0.032124</td>\n",
              "                        <td id=\"T_fc2dbd5c_d90e_11eb_8914_0242ac1c0002row8_col7\" class=\"data row8 col7\" >0.107595</td>\n",
              "                        <td id=\"T_fc2dbd5c_d90e_11eb_8914_0242ac1c0002row8_col8\" class=\"data row8 col8\" >1.000000</td>\n",
              "                        <td id=\"T_fc2dbd5c_d90e_11eb_8914_0242ac1c0002row8_col9\" class=\"data row8 col9\" >0.327459</td>\n",
              "                        <td id=\"T_fc2dbd5c_d90e_11eb_8914_0242ac1c0002row8_col10\" class=\"data row8 col10\" >0.442603</td>\n",
              "                        <td id=\"T_fc2dbd5c_d90e_11eb_8914_0242ac1c0002row8_col11\" class=\"data row8 col11\" >0.248043</td>\n",
              "                        <td id=\"T_fc2dbd5c_d90e_11eb_8914_0242ac1c0002row8_col12\" class=\"data row8 col12\" >0.490008</td>\n",
              "                        <td id=\"T_fc2dbd5c_d90e_11eb_8914_0242ac1c0002row8_col13\" class=\"data row8 col13\" >0.184930</td>\n",
              "                        <td id=\"T_fc2dbd5c_d90e_11eb_8914_0242ac1c0002row8_col14\" class=\"data row8 col14\" >0.432472</td>\n",
              "                        <td id=\"T_fc2dbd5c_d90e_11eb_8914_0242ac1c0002row8_col15\" class=\"data row8 col15\" >0.385097</td>\n",
              "                        <td id=\"T_fc2dbd5c_d90e_11eb_8914_0242ac1c0002row8_col16\" class=\"data row8 col16\" >-0.208116</td>\n",
              "                        <td id=\"T_fc2dbd5c_d90e_11eb_8914_0242ac1c0002row8_col17\" class=\"data row8 col17\" >0.200631</td>\n",
              "                        <td id=\"T_fc2dbd5c_d90e_11eb_8914_0242ac1c0002row8_col18\" class=\"data row8 col18\" >0.125999</td>\n",
              "                        <td id=\"T_fc2dbd5c_d90e_11eb_8914_0242ac1c0002row8_col19\" class=\"data row8 col19\" >0.308626</td>\n",
              "                        <td id=\"T_fc2dbd5c_d90e_11eb_8914_0242ac1c0002row8_col20\" class=\"data row8 col20\" >0.199404</td>\n",
              "                        <td id=\"T_fc2dbd5c_d90e_11eb_8914_0242ac1c0002row8_col21\" class=\"data row8 col21\" >0.081471</td>\n",
              "                        <td id=\"T_fc2dbd5c_d90e_11eb_8914_0242ac1c0002row8_col22\" class=\"data row8 col22\" >-0.196283</td>\n",
              "                        <td id=\"T_fc2dbd5c_d90e_11eb_8914_0242ac1c0002row8_col23\" class=\"data row8 col23\" >0.239007</td>\n",
              "                        <td id=\"T_fc2dbd5c_d90e_11eb_8914_0242ac1c0002row8_col24\" class=\"data row8 col24\" >0.423652</td>\n",
              "                        <td id=\"T_fc2dbd5c_d90e_11eb_8914_0242ac1c0002row8_col25\" class=\"data row8 col25\" >0.484680</td>\n",
              "                        <td id=\"T_fc2dbd5c_d90e_11eb_8914_0242ac1c0002row8_col26\" class=\"data row8 col26\" >0.318176</td>\n",
              "                        <td id=\"T_fc2dbd5c_d90e_11eb_8914_0242ac1c0002row8_col27\" class=\"data row8 col27\" >0.024540</td>\n",
              "                        <td id=\"T_fc2dbd5c_d90e_11eb_8914_0242ac1c0002row8_col28\" class=\"data row8 col28\" >-0.177025</td>\n",
              "            </tr>\n",
              "            <tr>\n",
              "                        <th id=\"T_fc2dbd5c_d90e_11eb_8914_0242ac1c0002level0_row9\" class=\"row_heading level0 row9\" >red</th>\n",
              "                        <td id=\"T_fc2dbd5c_d90e_11eb_8914_0242ac1c0002row9_col0\" class=\"data row9 col0\" >0.083602</td>\n",
              "                        <td id=\"T_fc2dbd5c_d90e_11eb_8914_0242ac1c0002row9_col1\" class=\"data row9 col1\" >-0.031976</td>\n",
              "                        <td id=\"T_fc2dbd5c_d90e_11eb_8914_0242ac1c0002row9_col2\" class=\"data row9 col2\" >-0.032554</td>\n",
              "                        <td id=\"T_fc2dbd5c_d90e_11eb_8914_0242ac1c0002row9_col3\" class=\"data row9 col3\" >0.043046</td>\n",
              "                        <td id=\"T_fc2dbd5c_d90e_11eb_8914_0242ac1c0002row9_col4\" class=\"data row9 col4\" >-0.009847</td>\n",
              "                        <td id=\"T_fc2dbd5c_d90e_11eb_8914_0242ac1c0002row9_col5\" class=\"data row9 col5\" >0.107444</td>\n",
              "                        <td id=\"T_fc2dbd5c_d90e_11eb_8914_0242ac1c0002row9_col6\" class=\"data row9 col6\" >0.006736</td>\n",
              "                        <td id=\"T_fc2dbd5c_d90e_11eb_8914_0242ac1c0002row9_col7\" class=\"data row9 col7\" >0.017084</td>\n",
              "                        <td id=\"T_fc2dbd5c_d90e_11eb_8914_0242ac1c0002row9_col8\" class=\"data row9 col8\" >0.327459</td>\n",
              "                        <td id=\"T_fc2dbd5c_d90e_11eb_8914_0242ac1c0002row9_col9\" class=\"data row9 col9\" >1.000000</td>\n",
              "                        <td id=\"T_fc2dbd5c_d90e_11eb_8914_0242ac1c0002row9_col10\" class=\"data row9 col10\" >0.031169</td>\n",
              "                        <td id=\"T_fc2dbd5c_d90e_11eb_8914_0242ac1c0002row9_col11\" class=\"data row9 col11\" >-0.204010</td>\n",
              "                        <td id=\"T_fc2dbd5c_d90e_11eb_8914_0242ac1c0002row9_col12\" class=\"data row9 col12\" >0.081769</td>\n",
              "                        <td id=\"T_fc2dbd5c_d90e_11eb_8914_0242ac1c0002row9_col13\" class=\"data row9 col13\" >-0.033483</td>\n",
              "                        <td id=\"T_fc2dbd5c_d90e_11eb_8914_0242ac1c0002row9_col14\" class=\"data row9 col14\" >0.142230</td>\n",
              "                        <td id=\"T_fc2dbd5c_d90e_11eb_8914_0242ac1c0002row9_col15\" class=\"data row9 col15\" >-0.055783</td>\n",
              "                        <td id=\"T_fc2dbd5c_d90e_11eb_8914_0242ac1c0002row9_col16\" class=\"data row9 col16\" >0.207430</td>\n",
              "                        <td id=\"T_fc2dbd5c_d90e_11eb_8914_0242ac1c0002row9_col17\" class=\"data row9 col17\" >0.111793</td>\n",
              "                        <td id=\"T_fc2dbd5c_d90e_11eb_8914_0242ac1c0002row9_col18\" class=\"data row9 col18\" >0.099766</td>\n",
              "                        <td id=\"T_fc2dbd5c_d90e_11eb_8914_0242ac1c0002row9_col19\" class=\"data row9 col19\" >0.122031</td>\n",
              "                        <td id=\"T_fc2dbd5c_d90e_11eb_8914_0242ac1c0002row9_col20\" class=\"data row9 col20\" >0.129856</td>\n",
              "                        <td id=\"T_fc2dbd5c_d90e_11eb_8914_0242ac1c0002row9_col21\" class=\"data row9 col21\" >0.065483</td>\n",
              "                        <td id=\"T_fc2dbd5c_d90e_11eb_8914_0242ac1c0002row9_col22\" class=\"data row9 col22\" >-0.091458</td>\n",
              "                        <td id=\"T_fc2dbd5c_d90e_11eb_8914_0242ac1c0002row9_col23\" class=\"data row9 col23\" >0.025760</td>\n",
              "                        <td id=\"T_fc2dbd5c_d90e_11eb_8914_0242ac1c0002row9_col24\" class=\"data row9 col24\" >0.097513</td>\n",
              "                        <td id=\"T_fc2dbd5c_d90e_11eb_8914_0242ac1c0002row9_col25\" class=\"data row9 col25\" >0.133648</td>\n",
              "                        <td id=\"T_fc2dbd5c_d90e_11eb_8914_0242ac1c0002row9_col26\" class=\"data row9 col26\" >0.017507</td>\n",
              "                        <td id=\"T_fc2dbd5c_d90e_11eb_8914_0242ac1c0002row9_col27\" class=\"data row9 col27\" >0.235018</td>\n",
              "                        <td id=\"T_fc2dbd5c_d90e_11eb_8914_0242ac1c0002row9_col28\" class=\"data row9 col28\" >0.333283</td>\n",
              "            </tr>\n",
              "            <tr>\n",
              "                        <th id=\"T_fc2dbd5c_d90e_11eb_8914_0242ac1c0002level0_row10\" class=\"row_heading level0 row10\" >green</th>\n",
              "                        <td id=\"T_fc2dbd5c_d90e_11eb_8914_0242ac1c0002row10_col0\" class=\"data row10 col0\" >0.029916</td>\n",
              "                        <td id=\"T_fc2dbd5c_d90e_11eb_8914_0242ac1c0002row10_col1\" class=\"data row10 col1\" >0.089377</td>\n",
              "                        <td id=\"T_fc2dbd5c_d90e_11eb_8914_0242ac1c0002row10_col2\" class=\"data row10 col2\" >0.044571</td>\n",
              "                        <td id=\"T_fc2dbd5c_d90e_11eb_8914_0242ac1c0002row10_col3\" class=\"data row10 col3\" >-0.026435</td>\n",
              "                        <td id=\"T_fc2dbd5c_d90e_11eb_8914_0242ac1c0002row10_col4\" class=\"data row10 col4\" >-0.009087</td>\n",
              "                        <td id=\"T_fc2dbd5c_d90e_11eb_8914_0242ac1c0002row10_col5\" class=\"data row10 col5\" >0.196590</td>\n",
              "                        <td id=\"T_fc2dbd5c_d90e_11eb_8914_0242ac1c0002row10_col6\" class=\"data row10 col6\" >0.143133</td>\n",
              "                        <td id=\"T_fc2dbd5c_d90e_11eb_8914_0242ac1c0002row10_col7\" class=\"data row10 col7\" >-0.029186</td>\n",
              "                        <td id=\"T_fc2dbd5c_d90e_11eb_8914_0242ac1c0002row10_col8\" class=\"data row10 col8\" >0.442603</td>\n",
              "                        <td id=\"T_fc2dbd5c_d90e_11eb_8914_0242ac1c0002row10_col9\" class=\"data row10 col9\" >0.031169</td>\n",
              "                        <td id=\"T_fc2dbd5c_d90e_11eb_8914_0242ac1c0002row10_col10\" class=\"data row10 col10\" >1.000000</td>\n",
              "                        <td id=\"T_fc2dbd5c_d90e_11eb_8914_0242ac1c0002row10_col11\" class=\"data row10 col11\" >-0.298328</td>\n",
              "                        <td id=\"T_fc2dbd5c_d90e_11eb_8914_0242ac1c0002row10_col12\" class=\"data row10 col12\" >0.192788</td>\n",
              "                        <td id=\"T_fc2dbd5c_d90e_11eb_8914_0242ac1c0002row10_col13\" class=\"data row10 col13\" >-0.131282</td>\n",
              "                        <td id=\"T_fc2dbd5c_d90e_11eb_8914_0242ac1c0002row10_col14\" class=\"data row10 col14\" >0.107461</td>\n",
              "                        <td id=\"T_fc2dbd5c_d90e_11eb_8914_0242ac1c0002row10_col15\" class=\"data row10 col15\" >0.236617</td>\n",
              "                        <td id=\"T_fc2dbd5c_d90e_11eb_8914_0242ac1c0002row10_col16\" class=\"data row10 col16\" >-0.034797</td>\n",
              "                        <td id=\"T_fc2dbd5c_d90e_11eb_8914_0242ac1c0002row10_col17\" class=\"data row10 col17\" >0.064601</td>\n",
              "                        <td id=\"T_fc2dbd5c_d90e_11eb_8914_0242ac1c0002row10_col18\" class=\"data row10 col18\" >-0.074239</td>\n",
              "                        <td id=\"T_fc2dbd5c_d90e_11eb_8914_0242ac1c0002row10_col19\" class=\"data row10 col19\" >0.126624</td>\n",
              "                        <td id=\"T_fc2dbd5c_d90e_11eb_8914_0242ac1c0002row10_col20\" class=\"data row10 col20\" >-0.068114</td>\n",
              "                        <td id=\"T_fc2dbd5c_d90e_11eb_8914_0242ac1c0002row10_col21\" class=\"data row10 col21\" >-0.024540</td>\n",
              "                        <td id=\"T_fc2dbd5c_d90e_11eb_8914_0242ac1c0002row10_col22\" class=\"data row10 col22\" >-0.007137</td>\n",
              "                        <td id=\"T_fc2dbd5c_d90e_11eb_8914_0242ac1c0002row10_col23\" class=\"data row10 col23\" >0.039840</td>\n",
              "                        <td id=\"T_fc2dbd5c_d90e_11eb_8914_0242ac1c0002row10_col24\" class=\"data row10 col24\" >0.190550</td>\n",
              "                        <td id=\"T_fc2dbd5c_d90e_11eb_8914_0242ac1c0002row10_col25\" class=\"data row10 col25\" >0.250157</td>\n",
              "                        <td id=\"T_fc2dbd5c_d90e_11eb_8914_0242ac1c0002row10_col26\" class=\"data row10 col26\" >0.243872</td>\n",
              "                        <td id=\"T_fc2dbd5c_d90e_11eb_8914_0242ac1c0002row10_col27\" class=\"data row10 col27\" >0.078873</td>\n",
              "                        <td id=\"T_fc2dbd5c_d90e_11eb_8914_0242ac1c0002row10_col28\" class=\"data row10 col28\" >-0.125767</td>\n",
              "            </tr>\n",
              "            <tr>\n",
              "                        <th id=\"T_fc2dbd5c_d90e_11eb_8914_0242ac1c0002level0_row11\" class=\"row_heading level0 row11\" >blue</th>\n",
              "                        <td id=\"T_fc2dbd5c_d90e_11eb_8914_0242ac1c0002row11_col0\" class=\"data row11 col0\" >-0.165574</td>\n",
              "                        <td id=\"T_fc2dbd5c_d90e_11eb_8914_0242ac1c0002row11_col1\" class=\"data row11 col1\" >0.201596</td>\n",
              "                        <td id=\"T_fc2dbd5c_d90e_11eb_8914_0242ac1c0002row11_col2\" class=\"data row11 col2\" >-0.209922</td>\n",
              "                        <td id=\"T_fc2dbd5c_d90e_11eb_8914_0242ac1c0002row11_col3\" class=\"data row11 col3\" >-0.205804</td>\n",
              "                        <td id=\"T_fc2dbd5c_d90e_11eb_8914_0242ac1c0002row11_col4\" class=\"data row11 col4\" >-0.265304</td>\n",
              "                        <td id=\"T_fc2dbd5c_d90e_11eb_8914_0242ac1c0002row11_col5\" class=\"data row11 col5\" >-0.229090</td>\n",
              "                        <td id=\"T_fc2dbd5c_d90e_11eb_8914_0242ac1c0002row11_col6\" class=\"data row11 col6\" >-0.171357</td>\n",
              "                        <td id=\"T_fc2dbd5c_d90e_11eb_8914_0242ac1c0002row11_col7\" class=\"data row11 col7\" >0.079818</td>\n",
              "                        <td id=\"T_fc2dbd5c_d90e_11eb_8914_0242ac1c0002row11_col8\" class=\"data row11 col8\" >0.248043</td>\n",
              "                        <td id=\"T_fc2dbd5c_d90e_11eb_8914_0242ac1c0002row11_col9\" class=\"data row11 col9\" >-0.204010</td>\n",
              "                        <td id=\"T_fc2dbd5c_d90e_11eb_8914_0242ac1c0002row11_col10\" class=\"data row11 col10\" >-0.298328</td>\n",
              "                        <td id=\"T_fc2dbd5c_d90e_11eb_8914_0242ac1c0002row11_col11\" class=\"data row11 col11\" >1.000000</td>\n",
              "                        <td id=\"T_fc2dbd5c_d90e_11eb_8914_0242ac1c0002row11_col12\" class=\"data row11 col12\" >0.032272</td>\n",
              "                        <td id=\"T_fc2dbd5c_d90e_11eb_8914_0242ac1c0002row11_col13\" class=\"data row11 col13\" >0.298577</td>\n",
              "                        <td id=\"T_fc2dbd5c_d90e_11eb_8914_0242ac1c0002row11_col14\" class=\"data row11 col14\" >-0.245276</td>\n",
              "                        <td id=\"T_fc2dbd5c_d90e_11eb_8914_0242ac1c0002row11_col15\" class=\"data row11 col15\" >0.082690</td>\n",
              "                        <td id=\"T_fc2dbd5c_d90e_11eb_8914_0242ac1c0002row11_col16\" class=\"data row11 col16\" >-0.196149</td>\n",
              "                        <td id=\"T_fc2dbd5c_d90e_11eb_8914_0242ac1c0002row11_col17\" class=\"data row11 col17\" >0.091301</td>\n",
              "                        <td id=\"T_fc2dbd5c_d90e_11eb_8914_0242ac1c0002row11_col18\" class=\"data row11 col18\" >0.275736</td>\n",
              "                        <td id=\"T_fc2dbd5c_d90e_11eb_8914_0242ac1c0002row11_col19\" class=\"data row11 col19\" >0.242192</td>\n",
              "                        <td id=\"T_fc2dbd5c_d90e_11eb_8914_0242ac1c0002row11_col20\" class=\"data row11 col20\" >0.325020</td>\n",
              "                        <td id=\"T_fc2dbd5c_d90e_11eb_8914_0242ac1c0002row11_col21\" class=\"data row11 col21\" >0.085484</td>\n",
              "                        <td id=\"T_fc2dbd5c_d90e_11eb_8914_0242ac1c0002row11_col22\" class=\"data row11 col22\" >-0.116522</td>\n",
              "                        <td id=\"T_fc2dbd5c_d90e_11eb_8914_0242ac1c0002row11_col23\" class=\"data row11 col23\" >0.006603</td>\n",
              "                        <td id=\"T_fc2dbd5c_d90e_11eb_8914_0242ac1c0002row11_col24\" class=\"data row11 col24\" >0.118539</td>\n",
              "                        <td id=\"T_fc2dbd5c_d90e_11eb_8914_0242ac1c0002row11_col25\" class=\"data row11 col25\" >0.028249</td>\n",
              "                        <td id=\"T_fc2dbd5c_d90e_11eb_8914_0242ac1c0002row11_col26\" class=\"data row11 col26\" >0.106271</td>\n",
              "                        <td id=\"T_fc2dbd5c_d90e_11eb_8914_0242ac1c0002row11_col27\" class=\"data row11 col27\" >-0.116503</td>\n",
              "                        <td id=\"T_fc2dbd5c_d90e_11eb_8914_0242ac1c0002row11_col28\" class=\"data row11 col28\" >-0.202926</td>\n",
              "            </tr>\n",
              "            <tr>\n",
              "                        <th id=\"T_fc2dbd5c_d90e_11eb_8914_0242ac1c0002level0_row12\" class=\"row_heading level0 row12\" >gold</th>\n",
              "                        <td id=\"T_fc2dbd5c_d90e_11eb_8914_0242ac1c0002row12_col0\" class=\"data row12 col0\" >-0.087679</td>\n",
              "                        <td id=\"T_fc2dbd5c_d90e_11eb_8914_0242ac1c0002row12_col1\" class=\"data row12 col1\" >0.175484</td>\n",
              "                        <td id=\"T_fc2dbd5c_d90e_11eb_8914_0242ac1c0002row12_col2\" class=\"data row12 col2\" >-0.123449</td>\n",
              "                        <td id=\"T_fc2dbd5c_d90e_11eb_8914_0242ac1c0002row12_col3\" class=\"data row12 col3\" >-0.154313</td>\n",
              "                        <td id=\"T_fc2dbd5c_d90e_11eb_8914_0242ac1c0002row12_col4\" class=\"data row12 col4\" >-0.196343</td>\n",
              "                        <td id=\"T_fc2dbd5c_d90e_11eb_8914_0242ac1c0002row12_col5\" class=\"data row12 col5\" >-0.019659</td>\n",
              "                        <td id=\"T_fc2dbd5c_d90e_11eb_8914_0242ac1c0002row12_col6\" class=\"data row12 col6\" >0.022042</td>\n",
              "                        <td id=\"T_fc2dbd5c_d90e_11eb_8914_0242ac1c0002row12_col7\" class=\"data row12 col7\" >-0.041724</td>\n",
              "                        <td id=\"T_fc2dbd5c_d90e_11eb_8914_0242ac1c0002row12_col8\" class=\"data row12 col8\" >0.490008</td>\n",
              "                        <td id=\"T_fc2dbd5c_d90e_11eb_8914_0242ac1c0002row12_col9\" class=\"data row12 col9\" >0.081769</td>\n",
              "                        <td id=\"T_fc2dbd5c_d90e_11eb_8914_0242ac1c0002row12_col10\" class=\"data row12 col10\" >0.192788</td>\n",
              "                        <td id=\"T_fc2dbd5c_d90e_11eb_8914_0242ac1c0002row12_col11\" class=\"data row12 col11\" >0.032272</td>\n",
              "                        <td id=\"T_fc2dbd5c_d90e_11eb_8914_0242ac1c0002row12_col12\" class=\"data row12 col12\" >1.000000</td>\n",
              "                        <td id=\"T_fc2dbd5c_d90e_11eb_8914_0242ac1c0002row12_col13\" class=\"data row12 col13\" >-0.442460</td>\n",
              "                        <td id=\"T_fc2dbd5c_d90e_11eb_8914_0242ac1c0002row12_col14\" class=\"data row12 col14\" >0.247378</td>\n",
              "                        <td id=\"T_fc2dbd5c_d90e_11eb_8914_0242ac1c0002row12_col15\" class=\"data row12 col15\" >0.085019</td>\n",
              "                        <td id=\"T_fc2dbd5c_d90e_11eb_8914_0242ac1c0002row12_col16\" class=\"data row12 col16\" >-0.249108</td>\n",
              "                        <td id=\"T_fc2dbd5c_d90e_11eb_8914_0242ac1c0002row12_col17\" class=\"data row12 col17\" >0.040133</td>\n",
              "                        <td id=\"T_fc2dbd5c_d90e_11eb_8914_0242ac1c0002row12_col18\" class=\"data row12 col18\" >-0.015217</td>\n",
              "                        <td id=\"T_fc2dbd5c_d90e_11eb_8914_0242ac1c0002row12_col19\" class=\"data row12 col19\" >0.126624</td>\n",
              "                        <td id=\"T_fc2dbd5c_d90e_11eb_8914_0242ac1c0002row12_col20\" class=\"data row12 col20\" >0.052492</td>\n",
              "                        <td id=\"T_fc2dbd5c_d90e_11eb_8914_0242ac1c0002row12_col21\" class=\"data row12 col21\" >0.095341</td>\n",
              "                        <td id=\"T_fc2dbd5c_d90e_11eb_8914_0242ac1c0002row12_col22\" class=\"data row12 col22\" >-0.096461</td>\n",
              "                        <td id=\"T_fc2dbd5c_d90e_11eb_8914_0242ac1c0002row12_col23\" class=\"data row12 col23\" >0.159207</td>\n",
              "                        <td id=\"T_fc2dbd5c_d90e_11eb_8914_0242ac1c0002row12_col24\" class=\"data row12 col24\" >0.380732</td>\n",
              "                        <td id=\"T_fc2dbd5c_d90e_11eb_8914_0242ac1c0002row12_col25\" class=\"data row12 col25\" >0.353249</td>\n",
              "                        <td id=\"T_fc2dbd5c_d90e_11eb_8914_0242ac1c0002row12_col26\" class=\"data row12 col26\" >0.243872</td>\n",
              "                        <td id=\"T_fc2dbd5c_d90e_11eb_8914_0242ac1c0002row12_col27\" class=\"data row12 col27\" >-0.074996</td>\n",
              "                        <td id=\"T_fc2dbd5c_d90e_11eb_8914_0242ac1c0002row12_col28\" class=\"data row12 col28\" >-0.027523</td>\n",
              "            </tr>\n",
              "            <tr>\n",
              "                        <th id=\"T_fc2dbd5c_d90e_11eb_8914_0242ac1c0002level0_row13\" class=\"row_heading level0 row13\" >white</th>\n",
              "                        <td id=\"T_fc2dbd5c_d90e_11eb_8914_0242ac1c0002row13_col0\" class=\"data row13 col0\" >0.011859</td>\n",
              "                        <td id=\"T_fc2dbd5c_d90e_11eb_8914_0242ac1c0002row13_col1\" class=\"data row13 col1\" >-0.046983</td>\n",
              "                        <td id=\"T_fc2dbd5c_d90e_11eb_8914_0242ac1c0002row13_col2\" class=\"data row13 col2\" >-0.159023</td>\n",
              "                        <td id=\"T_fc2dbd5c_d90e_11eb_8914_0242ac1c0002row13_col3\" class=\"data row13 col3\" >-0.120991</td>\n",
              "                        <td id=\"T_fc2dbd5c_d90e_11eb_8914_0242ac1c0002row13_col4\" class=\"data row13 col4\" >-0.067492</td>\n",
              "                        <td id=\"T_fc2dbd5c_d90e_11eb_8914_0242ac1c0002row13_col5\" class=\"data row13 col5\" >-0.135647</td>\n",
              "                        <td id=\"T_fc2dbd5c_d90e_11eb_8914_0242ac1c0002row13_col6\" class=\"data row13 col6\" >-0.202653</td>\n",
              "                        <td id=\"T_fc2dbd5c_d90e_11eb_8914_0242ac1c0002row13_col7\" class=\"data row13 col7\" >0.094486</td>\n",
              "                        <td id=\"T_fc2dbd5c_d90e_11eb_8914_0242ac1c0002row13_col8\" class=\"data row13 col8\" >0.184930</td>\n",
              "                        <td id=\"T_fc2dbd5c_d90e_11eb_8914_0242ac1c0002row13_col9\" class=\"data row13 col9\" >-0.033483</td>\n",
              "                        <td id=\"T_fc2dbd5c_d90e_11eb_8914_0242ac1c0002row13_col10\" class=\"data row13 col10\" >-0.131282</td>\n",
              "                        <td id=\"T_fc2dbd5c_d90e_11eb_8914_0242ac1c0002row13_col11\" class=\"data row13 col11\" >0.298577</td>\n",
              "                        <td id=\"T_fc2dbd5c_d90e_11eb_8914_0242ac1c0002row13_col12\" class=\"data row13 col12\" >-0.442460</td>\n",
              "                        <td id=\"T_fc2dbd5c_d90e_11eb_8914_0242ac1c0002row13_col13\" class=\"data row13 col13\" >1.000000</td>\n",
              "                        <td id=\"T_fc2dbd5c_d90e_11eb_8914_0242ac1c0002row13_col14\" class=\"data row13 col14\" >-0.138457</td>\n",
              "                        <td id=\"T_fc2dbd5c_d90e_11eb_8914_0242ac1c0002row13_col15\" class=\"data row13 col15\" >0.085311</td>\n",
              "                        <td id=\"T_fc2dbd5c_d90e_11eb_8914_0242ac1c0002row13_col16\" class=\"data row13 col16\" >0.089636</td>\n",
              "                        <td id=\"T_fc2dbd5c_d90e_11eb_8914_0242ac1c0002row13_col17\" class=\"data row13 col17\" >0.102835</td>\n",
              "                        <td id=\"T_fc2dbd5c_d90e_11eb_8914_0242ac1c0002row13_col18\" class=\"data row13 col18\" >0.196244</td>\n",
              "                        <td id=\"T_fc2dbd5c_d90e_11eb_8914_0242ac1c0002row13_col19\" class=\"data row13 col19\" >0.142195</td>\n",
              "                        <td id=\"T_fc2dbd5c_d90e_11eb_8914_0242ac1c0002row13_col20\" class=\"data row13 col20\" >0.225481</td>\n",
              "                        <td id=\"T_fc2dbd5c_d90e_11eb_8914_0242ac1c0002row13_col21\" class=\"data row13 col21\" >0.059055</td>\n",
              "                        <td id=\"T_fc2dbd5c_d90e_11eb_8914_0242ac1c0002row13_col22\" class=\"data row13 col22\" >0.037274</td>\n",
              "                        <td id=\"T_fc2dbd5c_d90e_11eb_8914_0242ac1c0002row13_col23\" class=\"data row13 col23\" >-0.011029</td>\n",
              "                        <td id=\"T_fc2dbd5c_d90e_11eb_8914_0242ac1c0002row13_col24\" class=\"data row13 col24\" >0.058387</td>\n",
              "                        <td id=\"T_fc2dbd5c_d90e_11eb_8914_0242ac1c0002row13_col25\" class=\"data row13 col25\" >0.049165</td>\n",
              "                        <td id=\"T_fc2dbd5c_d90e_11eb_8914_0242ac1c0002row13_col26\" class=\"data row13 col26\" >0.128483</td>\n",
              "                        <td id=\"T_fc2dbd5c_d90e_11eb_8914_0242ac1c0002row13_col27\" class=\"data row13 col27\" >0.177401</td>\n",
              "                        <td id=\"T_fc2dbd5c_d90e_11eb_8914_0242ac1c0002row13_col28\" class=\"data row13 col28\" >-0.027078</td>\n",
              "            </tr>\n",
              "            <tr>\n",
              "                        <th id=\"T_fc2dbd5c_d90e_11eb_8914_0242ac1c0002level0_row14\" class=\"row_heading level0 row14\" >black</th>\n",
              "                        <td id=\"T_fc2dbd5c_d90e_11eb_8914_0242ac1c0002row14_col0\" class=\"data row14 col0\" >-0.046213</td>\n",
              "                        <td id=\"T_fc2dbd5c_d90e_11eb_8914_0242ac1c0002row14_col1\" class=\"data row14 col1\" >0.039855</td>\n",
              "                        <td id=\"T_fc2dbd5c_d90e_11eb_8914_0242ac1c0002row14_col2\" class=\"data row14 col2\" >-0.091994</td>\n",
              "                        <td id=\"T_fc2dbd5c_d90e_11eb_8914_0242ac1c0002row14_col3\" class=\"data row14 col3\" >-0.098927</td>\n",
              "                        <td id=\"T_fc2dbd5c_d90e_11eb_8914_0242ac1c0002row14_col4\" class=\"data row14 col4\" >0.077150</td>\n",
              "                        <td id=\"T_fc2dbd5c_d90e_11eb_8914_0242ac1c0002row14_col5\" class=\"data row14 col5\" >0.075924</td>\n",
              "                        <td id=\"T_fc2dbd5c_d90e_11eb_8914_0242ac1c0002row14_col6\" class=\"data row14 col6\" >0.005122</td>\n",
              "                        <td id=\"T_fc2dbd5c_d90e_11eb_8914_0242ac1c0002row14_col7\" class=\"data row14 col7\" >0.174604</td>\n",
              "                        <td id=\"T_fc2dbd5c_d90e_11eb_8914_0242ac1c0002row14_col8\" class=\"data row14 col8\" >0.432472</td>\n",
              "                        <td id=\"T_fc2dbd5c_d90e_11eb_8914_0242ac1c0002row14_col9\" class=\"data row14 col9\" >0.142230</td>\n",
              "                        <td id=\"T_fc2dbd5c_d90e_11eb_8914_0242ac1c0002row14_col10\" class=\"data row14 col10\" >0.107461</td>\n",
              "                        <td id=\"T_fc2dbd5c_d90e_11eb_8914_0242ac1c0002row14_col11\" class=\"data row14 col11\" >-0.245276</td>\n",
              "                        <td id=\"T_fc2dbd5c_d90e_11eb_8914_0242ac1c0002row14_col12\" class=\"data row14 col12\" >0.247378</td>\n",
              "                        <td id=\"T_fc2dbd5c_d90e_11eb_8914_0242ac1c0002row14_col13\" class=\"data row14 col13\" >-0.138457</td>\n",
              "                        <td id=\"T_fc2dbd5c_d90e_11eb_8914_0242ac1c0002row14_col14\" class=\"data row14 col14\" >1.000000</td>\n",
              "                        <td id=\"T_fc2dbd5c_d90e_11eb_8914_0242ac1c0002row14_col15\" class=\"data row14 col15\" >-0.033103</td>\n",
              "                        <td id=\"T_fc2dbd5c_d90e_11eb_8914_0242ac1c0002row14_col16\" class=\"data row14 col16\" >-0.135873</td>\n",
              "                        <td id=\"T_fc2dbd5c_d90e_11eb_8914_0242ac1c0002row14_col17\" class=\"data row14 col17\" >0.042023</td>\n",
              "                        <td id=\"T_fc2dbd5c_d90e_11eb_8914_0242ac1c0002row14_col18\" class=\"data row14 col18\" >-0.138711</td>\n",
              "                        <td id=\"T_fc2dbd5c_d90e_11eb_8914_0242ac1c0002row14_col19\" class=\"data row14 col19\" >-0.073192</td>\n",
              "                        <td id=\"T_fc2dbd5c_d90e_11eb_8914_0242ac1c0002row14_col20\" class=\"data row14 col20\" >-0.170029</td>\n",
              "                        <td id=\"T_fc2dbd5c_d90e_11eb_8914_0242ac1c0002row14_col21\" class=\"data row14 col21\" >-0.004706</td>\n",
              "                        <td id=\"T_fc2dbd5c_d90e_11eb_8914_0242ac1c0002row14_col22\" class=\"data row14 col22\" >-0.148364</td>\n",
              "                        <td id=\"T_fc2dbd5c_d90e_11eb_8914_0242ac1c0002row14_col23\" class=\"data row14 col23\" >0.328242</td>\n",
              "                        <td id=\"T_fc2dbd5c_d90e_11eb_8914_0242ac1c0002row14_col24\" class=\"data row14 col24\" >0.130330</td>\n",
              "                        <td id=\"T_fc2dbd5c_d90e_11eb_8914_0242ac1c0002row14_col25\" class=\"data row14 col25\" >0.161053</td>\n",
              "                        <td id=\"T_fc2dbd5c_d90e_11eb_8914_0242ac1c0002row14_col26\" class=\"data row14 col26\" >0.030093</td>\n",
              "                        <td id=\"T_fc2dbd5c_d90e_11eb_8914_0242ac1c0002row14_col27\" class=\"data row14 col27\" >-0.160572</td>\n",
              "                        <td id=\"T_fc2dbd5c_d90e_11eb_8914_0242ac1c0002row14_col28\" class=\"data row14 col28\" >-0.179597</td>\n",
              "            </tr>\n",
              "            <tr>\n",
              "                        <th id=\"T_fc2dbd5c_d90e_11eb_8914_0242ac1c0002level0_row15\" class=\"row_heading level0 row15\" >orange</th>\n",
              "                        <td id=\"T_fc2dbd5c_d90e_11eb_8914_0242ac1c0002row15_col0\" class=\"data row15 col0\" >0.038035</td>\n",
              "                        <td id=\"T_fc2dbd5c_d90e_11eb_8914_0242ac1c0002row15_col1\" class=\"data row15 col1\" >0.058495</td>\n",
              "                        <td id=\"T_fc2dbd5c_d90e_11eb_8914_0242ac1c0002row15_col2\" class=\"data row15 col2\" >-0.102677</td>\n",
              "                        <td id=\"T_fc2dbd5c_d90e_11eb_8914_0242ac1c0002row15_col3\" class=\"data row15 col3\" >-0.063901</td>\n",
              "                        <td id=\"T_fc2dbd5c_d90e_11eb_8914_0242ac1c0002row15_col4\" class=\"data row15 col4\" >-0.078354</td>\n",
              "                        <td id=\"T_fc2dbd5c_d90e_11eb_8914_0242ac1c0002row15_col5\" class=\"data row15 col5\" >-0.027829</td>\n",
              "                        <td id=\"T_fc2dbd5c_d90e_11eb_8914_0242ac1c0002row15_col6\" class=\"data row15 col6\" >0.051863</td>\n",
              "                        <td id=\"T_fc2dbd5c_d90e_11eb_8914_0242ac1c0002row15_col7\" class=\"data row15 col7\" >-0.096347</td>\n",
              "                        <td id=\"T_fc2dbd5c_d90e_11eb_8914_0242ac1c0002row15_col8\" class=\"data row15 col8\" >0.385097</td>\n",
              "                        <td id=\"T_fc2dbd5c_d90e_11eb_8914_0242ac1c0002row15_col9\" class=\"data row15 col9\" >-0.055783</td>\n",
              "                        <td id=\"T_fc2dbd5c_d90e_11eb_8914_0242ac1c0002row15_col10\" class=\"data row15 col10\" >0.236617</td>\n",
              "                        <td id=\"T_fc2dbd5c_d90e_11eb_8914_0242ac1c0002row15_col11\" class=\"data row15 col11\" >0.082690</td>\n",
              "                        <td id=\"T_fc2dbd5c_d90e_11eb_8914_0242ac1c0002row15_col12\" class=\"data row15 col12\" >0.085019</td>\n",
              "                        <td id=\"T_fc2dbd5c_d90e_11eb_8914_0242ac1c0002row15_col13\" class=\"data row15 col13\" >0.085311</td>\n",
              "                        <td id=\"T_fc2dbd5c_d90e_11eb_8914_0242ac1c0002row15_col14\" class=\"data row15 col14\" >-0.033103</td>\n",
              "                        <td id=\"T_fc2dbd5c_d90e_11eb_8914_0242ac1c0002row15_col15\" class=\"data row15 col15\" >1.000000</td>\n",
              "                        <td id=\"T_fc2dbd5c_d90e_11eb_8914_0242ac1c0002row15_col16\" class=\"data row15 col16\" >-0.181827</td>\n",
              "                        <td id=\"T_fc2dbd5c_d90e_11eb_8914_0242ac1c0002row15_col17\" class=\"data row15 col17\" >0.135501</td>\n",
              "                        <td id=\"T_fc2dbd5c_d90e_11eb_8914_0242ac1c0002row15_col18\" class=\"data row15 col18\" >0.150629</td>\n",
              "                        <td id=\"T_fc2dbd5c_d90e_11eb_8914_0242ac1c0002row15_col19\" class=\"data row15 col19\" >0.239252</td>\n",
              "                        <td id=\"T_fc2dbd5c_d90e_11eb_8914_0242ac1c0002row15_col20\" class=\"data row15 col20\" >0.110306</td>\n",
              "                        <td id=\"T_fc2dbd5c_d90e_11eb_8914_0242ac1c0002row15_col21\" class=\"data row15 col21\" >-0.150064</td>\n",
              "                        <td id=\"T_fc2dbd5c_d90e_11eb_8914_0242ac1c0002row15_col22\" class=\"data row15 col22\" >-0.031026</td>\n",
              "                        <td id=\"T_fc2dbd5c_d90e_11eb_8914_0242ac1c0002row15_col23\" class=\"data row15 col23\" >-0.114468</td>\n",
              "                        <td id=\"T_fc2dbd5c_d90e_11eb_8914_0242ac1c0002row15_col24\" class=\"data row15 col24\" >0.293670</td>\n",
              "                        <td id=\"T_fc2dbd5c_d90e_11eb_8914_0242ac1c0002row15_col25\" class=\"data row15 col25\" >0.482238</td>\n",
              "                        <td id=\"T_fc2dbd5c_d90e_11eb_8914_0242ac1c0002row15_col26\" class=\"data row15 col26\" >0.212075</td>\n",
              "                        <td id=\"T_fc2dbd5c_d90e_11eb_8914_0242ac1c0002row15_col27\" class=\"data row15 col27\" >0.084229</td>\n",
              "                        <td id=\"T_fc2dbd5c_d90e_11eb_8914_0242ac1c0002row15_col28\" class=\"data row15 col28\" >-0.118995</td>\n",
              "            </tr>\n",
              "            <tr>\n",
              "                        <th id=\"T_fc2dbd5c_d90e_11eb_8914_0242ac1c0002level0_row16\" class=\"row_heading level0 row16\" >mainhue</th>\n",
              "                        <td id=\"T_fc2dbd5c_d90e_11eb_8914_0242ac1c0002row16_col0\" class=\"data row16 col0\" >-0.027488</td>\n",
              "                        <td id=\"T_fc2dbd5c_d90e_11eb_8914_0242ac1c0002row16_col1\" class=\"data row16 col1\" >-0.102791</td>\n",
              "                        <td id=\"T_fc2dbd5c_d90e_11eb_8914_0242ac1c0002row16_col2\" class=\"data row16 col2\" >0.092452</td>\n",
              "                        <td id=\"T_fc2dbd5c_d90e_11eb_8914_0242ac1c0002row16_col3\" class=\"data row16 col3\" >0.142204</td>\n",
              "                        <td id=\"T_fc2dbd5c_d90e_11eb_8914_0242ac1c0002row16_col4\" class=\"data row16 col4\" >0.127373</td>\n",
              "                        <td id=\"T_fc2dbd5c_d90e_11eb_8914_0242ac1c0002row16_col5\" class=\"data row16 col5\" >0.111262</td>\n",
              "                        <td id=\"T_fc2dbd5c_d90e_11eb_8914_0242ac1c0002row16_col6\" class=\"data row16 col6\" >-0.033372</td>\n",
              "                        <td id=\"T_fc2dbd5c_d90e_11eb_8914_0242ac1c0002row16_col7\" class=\"data row16 col7\" >0.047175</td>\n",
              "                        <td id=\"T_fc2dbd5c_d90e_11eb_8914_0242ac1c0002row16_col8\" class=\"data row16 col8\" >-0.208116</td>\n",
              "                        <td id=\"T_fc2dbd5c_d90e_11eb_8914_0242ac1c0002row16_col9\" class=\"data row16 col9\" >0.207430</td>\n",
              "                        <td id=\"T_fc2dbd5c_d90e_11eb_8914_0242ac1c0002row16_col10\" class=\"data row16 col10\" >-0.034797</td>\n",
              "                        <td id=\"T_fc2dbd5c_d90e_11eb_8914_0242ac1c0002row16_col11\" class=\"data row16 col11\" >-0.196149</td>\n",
              "                        <td id=\"T_fc2dbd5c_d90e_11eb_8914_0242ac1c0002row16_col12\" class=\"data row16 col12\" >-0.249108</td>\n",
              "                        <td id=\"T_fc2dbd5c_d90e_11eb_8914_0242ac1c0002row16_col13\" class=\"data row16 col13\" >0.089636</td>\n",
              "                        <td id=\"T_fc2dbd5c_d90e_11eb_8914_0242ac1c0002row16_col14\" class=\"data row16 col14\" >-0.135873</td>\n",
              "                        <td id=\"T_fc2dbd5c_d90e_11eb_8914_0242ac1c0002row16_col15\" class=\"data row16 col15\" >-0.181827</td>\n",
              "                        <td id=\"T_fc2dbd5c_d90e_11eb_8914_0242ac1c0002row16_col16\" class=\"data row16 col16\" >1.000000</td>\n",
              "                        <td id=\"T_fc2dbd5c_d90e_11eb_8914_0242ac1c0002row16_col17\" class=\"data row16 col17\" >0.013081</td>\n",
              "                        <td id=\"T_fc2dbd5c_d90e_11eb_8914_0242ac1c0002row16_col18\" class=\"data row16 col18\" >-0.207224</td>\n",
              "                        <td id=\"T_fc2dbd5c_d90e_11eb_8914_0242ac1c0002row16_col19\" class=\"data row16 col19\" >-0.262207</td>\n",
              "                        <td id=\"T_fc2dbd5c_d90e_11eb_8914_0242ac1c0002row16_col20\" class=\"data row16 col20\" >-0.127540</td>\n",
              "                        <td id=\"T_fc2dbd5c_d90e_11eb_8914_0242ac1c0002row16_col21\" class=\"data row16 col21\" >-0.009337</td>\n",
              "                        <td id=\"T_fc2dbd5c_d90e_11eb_8914_0242ac1c0002row16_col22\" class=\"data row16 col22\" >0.070149</td>\n",
              "                        <td id=\"T_fc2dbd5c_d90e_11eb_8914_0242ac1c0002row16_col23\" class=\"data row16 col23\" >-0.138551</td>\n",
              "                        <td id=\"T_fc2dbd5c_d90e_11eb_8914_0242ac1c0002row16_col24\" class=\"data row16 col24\" >-0.057705</td>\n",
              "                        <td id=\"T_fc2dbd5c_d90e_11eb_8914_0242ac1c0002row16_col25\" class=\"data row16 col25\" >-0.111707</td>\n",
              "                        <td id=\"T_fc2dbd5c_d90e_11eb_8914_0242ac1c0002row16_col26\" class=\"data row16 col26\" >-0.127809</td>\n",
              "                        <td id=\"T_fc2dbd5c_d90e_11eb_8914_0242ac1c0002row16_col27\" class=\"data row16 col27\" >0.335018</td>\n",
              "                        <td id=\"T_fc2dbd5c_d90e_11eb_8914_0242ac1c0002row16_col28\" class=\"data row16 col28\" >0.543124</td>\n",
              "            </tr>\n",
              "            <tr>\n",
              "                        <th id=\"T_fc2dbd5c_d90e_11eb_8914_0242ac1c0002level0_row17\" class=\"row_heading level0 row17\" >circles</th>\n",
              "                        <td id=\"T_fc2dbd5c_d90e_11eb_8914_0242ac1c0002row17_col0\" class=\"data row17 col0\" >0.060509</td>\n",
              "                        <td id=\"T_fc2dbd5c_d90e_11eb_8914_0242ac1c0002row17_col1\" class=\"data row17 col1\" >-0.015786</td>\n",
              "                        <td id=\"T_fc2dbd5c_d90e_11eb_8914_0242ac1c0002row17_col2\" class=\"data row17 col2\" >-0.013170</td>\n",
              "                        <td id=\"T_fc2dbd5c_d90e_11eb_8914_0242ac1c0002row17_col3\" class=\"data row17 col3\" >0.009786</td>\n",
              "                        <td id=\"T_fc2dbd5c_d90e_11eb_8914_0242ac1c0002row17_col4\" class=\"data row17 col4\" >0.045468</td>\n",
              "                        <td id=\"T_fc2dbd5c_d90e_11eb_8914_0242ac1c0002row17_col5\" class=\"data row17 col5\" >0.108226</td>\n",
              "                        <td id=\"T_fc2dbd5c_d90e_11eb_8914_0242ac1c0002row17_col6\" class=\"data row17 col6\" >-0.150530</td>\n",
              "                        <td id=\"T_fc2dbd5c_d90e_11eb_8914_0242ac1c0002row17_col7\" class=\"data row17 col7\" >-0.083684</td>\n",
              "                        <td id=\"T_fc2dbd5c_d90e_11eb_8914_0242ac1c0002row17_col8\" class=\"data row17 col8\" >0.200631</td>\n",
              "                        <td id=\"T_fc2dbd5c_d90e_11eb_8914_0242ac1c0002row17_col9\" class=\"data row17 col9\" >0.111793</td>\n",
              "                        <td id=\"T_fc2dbd5c_d90e_11eb_8914_0242ac1c0002row17_col10\" class=\"data row17 col10\" >0.064601</td>\n",
              "                        <td id=\"T_fc2dbd5c_d90e_11eb_8914_0242ac1c0002row17_col11\" class=\"data row17 col11\" >0.091301</td>\n",
              "                        <td id=\"T_fc2dbd5c_d90e_11eb_8914_0242ac1c0002row17_col12\" class=\"data row17 col12\" >0.040133</td>\n",
              "                        <td id=\"T_fc2dbd5c_d90e_11eb_8914_0242ac1c0002row17_col13\" class=\"data row17 col13\" >0.102835</td>\n",
              "                        <td id=\"T_fc2dbd5c_d90e_11eb_8914_0242ac1c0002row17_col14\" class=\"data row17 col14\" >0.042023</td>\n",
              "                        <td id=\"T_fc2dbd5c_d90e_11eb_8914_0242ac1c0002row17_col15\" class=\"data row17 col15\" >0.135501</td>\n",
              "                        <td id=\"T_fc2dbd5c_d90e_11eb_8914_0242ac1c0002row17_col16\" class=\"data row17 col16\" >0.013081</td>\n",
              "                        <td id=\"T_fc2dbd5c_d90e_11eb_8914_0242ac1c0002row17_col17\" class=\"data row17 col17\" >1.000000</td>\n",
              "                        <td id=\"T_fc2dbd5c_d90e_11eb_8914_0242ac1c0002row17_col18\" class=\"data row17 col18\" >0.076760</td>\n",
              "                        <td id=\"T_fc2dbd5c_d90e_11eb_8914_0242ac1c0002row17_col19\" class=\"data row17 col19\" >0.210946</td>\n",
              "                        <td id=\"T_fc2dbd5c_d90e_11eb_8914_0242ac1c0002row17_col20\" class=\"data row17 col20\" >0.127382</td>\n",
              "                        <td id=\"T_fc2dbd5c_d90e_11eb_8914_0242ac1c0002row17_col21\" class=\"data row17 col21\" >0.087112</td>\n",
              "                        <td id=\"T_fc2dbd5c_d90e_11eb_8914_0242ac1c0002row17_col22\" class=\"data row17 col22\" >0.029940</td>\n",
              "                        <td id=\"T_fc2dbd5c_d90e_11eb_8914_0242ac1c0002row17_col23\" class=\"data row17 col23\" >-0.079804</td>\n",
              "                        <td id=\"T_fc2dbd5c_d90e_11eb_8914_0242ac1c0002row17_col24\" class=\"data row17 col24\" >0.189011</td>\n",
              "                        <td id=\"T_fc2dbd5c_d90e_11eb_8914_0242ac1c0002row17_col25\" class=\"data row17 col25\" >0.187822</td>\n",
              "                        <td id=\"T_fc2dbd5c_d90e_11eb_8914_0242ac1c0002row17_col26\" class=\"data row17 col26\" >0.186213</td>\n",
              "                        <td id=\"T_fc2dbd5c_d90e_11eb_8914_0242ac1c0002row17_col27\" class=\"data row17 col27\" >0.143915</td>\n",
              "                        <td id=\"T_fc2dbd5c_d90e_11eb_8914_0242ac1c0002row17_col28\" class=\"data row17 col28\" >0.088285</td>\n",
              "            </tr>\n",
              "            <tr>\n",
              "                        <th id=\"T_fc2dbd5c_d90e_11eb_8914_0242ac1c0002level0_row18\" class=\"row_heading level0 row18\" >crosses</th>\n",
              "                        <td id=\"T_fc2dbd5c_d90e_11eb_8914_0242ac1c0002row18_col0\" class=\"data row18 col0\" >-0.045667</td>\n",
              "                        <td id=\"T_fc2dbd5c_d90e_11eb_8914_0242ac1c0002row18_col1\" class=\"data row18 col1\" >0.109000</td>\n",
              "                        <td id=\"T_fc2dbd5c_d90e_11eb_8914_0242ac1c0002row18_col2\" class=\"data row18 col2\" >-0.209962</td>\n",
              "                        <td id=\"T_fc2dbd5c_d90e_11eb_8914_0242ac1c0002row18_col3\" class=\"data row18 col3\" >-0.188833</td>\n",
              "                        <td id=\"T_fc2dbd5c_d90e_11eb_8914_0242ac1c0002row18_col4\" class=\"data row18 col4\" >-0.226721</td>\n",
              "                        <td id=\"T_fc2dbd5c_d90e_11eb_8914_0242ac1c0002row18_col5\" class=\"data row18 col5\" >-0.206613</td>\n",
              "                        <td id=\"T_fc2dbd5c_d90e_11eb_8914_0242ac1c0002row18_col6\" class=\"data row18 col6\" >-0.152588</td>\n",
              "                        <td id=\"T_fc2dbd5c_d90e_11eb_8914_0242ac1c0002row18_col7\" class=\"data row18 col7\" >-0.267800</td>\n",
              "                        <td id=\"T_fc2dbd5c_d90e_11eb_8914_0242ac1c0002row18_col8\" class=\"data row18 col8\" >0.125999</td>\n",
              "                        <td id=\"T_fc2dbd5c_d90e_11eb_8914_0242ac1c0002row18_col9\" class=\"data row18 col9\" >0.099766</td>\n",
              "                        <td id=\"T_fc2dbd5c_d90e_11eb_8914_0242ac1c0002row18_col10\" class=\"data row18 col10\" >-0.074239</td>\n",
              "                        <td id=\"T_fc2dbd5c_d90e_11eb_8914_0242ac1c0002row18_col11\" class=\"data row18 col11\" >0.275736</td>\n",
              "                        <td id=\"T_fc2dbd5c_d90e_11eb_8914_0242ac1c0002row18_col12\" class=\"data row18 col12\" >-0.015217</td>\n",
              "                        <td id=\"T_fc2dbd5c_d90e_11eb_8914_0242ac1c0002row18_col13\" class=\"data row18 col13\" >0.196244</td>\n",
              "                        <td id=\"T_fc2dbd5c_d90e_11eb_8914_0242ac1c0002row18_col14\" class=\"data row18 col14\" >-0.138711</td>\n",
              "                        <td id=\"T_fc2dbd5c_d90e_11eb_8914_0242ac1c0002row18_col15\" class=\"data row18 col15\" >0.150629</td>\n",
              "                        <td id=\"T_fc2dbd5c_d90e_11eb_8914_0242ac1c0002row18_col16\" class=\"data row18 col16\" >-0.207224</td>\n",
              "                        <td id=\"T_fc2dbd5c_d90e_11eb_8914_0242ac1c0002row18_col17\" class=\"data row18 col17\" >0.076760</td>\n",
              "                        <td id=\"T_fc2dbd5c_d90e_11eb_8914_0242ac1c0002row18_col18\" class=\"data row18 col18\" >1.000000</td>\n",
              "                        <td id=\"T_fc2dbd5c_d90e_11eb_8914_0242ac1c0002row18_col19\" class=\"data row18 col19\" >0.697969</td>\n",
              "                        <td id=\"T_fc2dbd5c_d90e_11eb_8914_0242ac1c0002row18_col20\" class=\"data row18 col20\" >0.541943</td>\n",
              "                        <td id=\"T_fc2dbd5c_d90e_11eb_8914_0242ac1c0002row18_col21\" class=\"data row18 col21\" >-0.100875</td>\n",
              "                        <td id=\"T_fc2dbd5c_d90e_11eb_8914_0242ac1c0002row18_col22\" class=\"data row18 col22\" >-0.098505</td>\n",
              "                        <td id=\"T_fc2dbd5c_d90e_11eb_8914_0242ac1c0002row18_col23\" class=\"data row18 col23\" >-0.161552</td>\n",
              "                        <td id=\"T_fc2dbd5c_d90e_11eb_8914_0242ac1c0002row18_col24\" class=\"data row18 col24\" >0.114928</td>\n",
              "                        <td id=\"T_fc2dbd5c_d90e_11eb_8914_0242ac1c0002row18_col25\" class=\"data row18 col25\" >0.102778</td>\n",
              "                        <td id=\"T_fc2dbd5c_d90e_11eb_8914_0242ac1c0002row18_col26\" class=\"data row18 col26\" >0.093690</td>\n",
              "                        <td id=\"T_fc2dbd5c_d90e_11eb_8914_0242ac1c0002row18_col27\" class=\"data row18 col27\" >0.351403</td>\n",
              "                        <td id=\"T_fc2dbd5c_d90e_11eb_8914_0242ac1c0002row18_col28\" class=\"data row18 col28\" >-0.178132</td>\n",
              "            </tr>\n",
              "            <tr>\n",
              "                        <th id=\"T_fc2dbd5c_d90e_11eb_8914_0242ac1c0002level0_row19\" class=\"row_heading level0 row19\" >saltires</th>\n",
              "                        <td id=\"T_fc2dbd5c_d90e_11eb_8914_0242ac1c0002row19_col0\" class=\"data row19 col0\" >0.012136</td>\n",
              "                        <td id=\"T_fc2dbd5c_d90e_11eb_8914_0242ac1c0002row19_col1\" class=\"data row19 col1\" >0.204355</td>\n",
              "                        <td id=\"T_fc2dbd5c_d90e_11eb_8914_0242ac1c0002row19_col2\" class=\"data row19 col2\" >-0.229201</td>\n",
              "                        <td id=\"T_fc2dbd5c_d90e_11eb_8914_0242ac1c0002row19_col3\" class=\"data row19 col3\" >-0.176738</td>\n",
              "                        <td id=\"T_fc2dbd5c_d90e_11eb_8914_0242ac1c0002row19_col4\" class=\"data row19 col4\" >-0.329830</td>\n",
              "                        <td id=\"T_fc2dbd5c_d90e_11eb_8914_0242ac1c0002row19_col5\" class=\"data row19 col5\" >-0.105509</td>\n",
              "                        <td id=\"T_fc2dbd5c_d90e_11eb_8914_0242ac1c0002row19_col6\" class=\"data row19 col6\" >-0.149283</td>\n",
              "                        <td id=\"T_fc2dbd5c_d90e_11eb_8914_0242ac1c0002row19_col7\" class=\"data row19 col7\" >-0.232982</td>\n",
              "                        <td id=\"T_fc2dbd5c_d90e_11eb_8914_0242ac1c0002row19_col8\" class=\"data row19 col8\" >0.308626</td>\n",
              "                        <td id=\"T_fc2dbd5c_d90e_11eb_8914_0242ac1c0002row19_col9\" class=\"data row19 col9\" >0.122031</td>\n",
              "                        <td id=\"T_fc2dbd5c_d90e_11eb_8914_0242ac1c0002row19_col10\" class=\"data row19 col10\" >0.126624</td>\n",
              "                        <td id=\"T_fc2dbd5c_d90e_11eb_8914_0242ac1c0002row19_col11\" class=\"data row19 col11\" >0.242192</td>\n",
              "                        <td id=\"T_fc2dbd5c_d90e_11eb_8914_0242ac1c0002row19_col12\" class=\"data row19 col12\" >0.126624</td>\n",
              "                        <td id=\"T_fc2dbd5c_d90e_11eb_8914_0242ac1c0002row19_col13\" class=\"data row19 col13\" >0.142195</td>\n",
              "                        <td id=\"T_fc2dbd5c_d90e_11eb_8914_0242ac1c0002row19_col14\" class=\"data row19 col14\" >-0.073192</td>\n",
              "                        <td id=\"T_fc2dbd5c_d90e_11eb_8914_0242ac1c0002row19_col15\" class=\"data row19 col15\" >0.239252</td>\n",
              "                        <td id=\"T_fc2dbd5c_d90e_11eb_8914_0242ac1c0002row19_col16\" class=\"data row19 col16\" >-0.262207</td>\n",
              "                        <td id=\"T_fc2dbd5c_d90e_11eb_8914_0242ac1c0002row19_col17\" class=\"data row19 col17\" >0.210946</td>\n",
              "                        <td id=\"T_fc2dbd5c_d90e_11eb_8914_0242ac1c0002row19_col18\" class=\"data row19 col18\" >0.697969</td>\n",
              "                        <td id=\"T_fc2dbd5c_d90e_11eb_8914_0242ac1c0002row19_col19\" class=\"data row19 col19\" >1.000000</td>\n",
              "                        <td id=\"T_fc2dbd5c_d90e_11eb_8914_0242ac1c0002row19_col20\" class=\"data row19 col20\" >0.600320</td>\n",
              "                        <td id=\"T_fc2dbd5c_d90e_11eb_8914_0242ac1c0002row19_col21\" class=\"data row19 col21\" >0.052629</td>\n",
              "                        <td id=\"T_fc2dbd5c_d90e_11eb_8914_0242ac1c0002row19_col22\" class=\"data row19 col22\" >-0.078406</td>\n",
              "                        <td id=\"T_fc2dbd5c_d90e_11eb_8914_0242ac1c0002row19_col23\" class=\"data row19 col23\" >-0.077259</td>\n",
              "                        <td id=\"T_fc2dbd5c_d90e_11eb_8914_0242ac1c0002row19_col24\" class=\"data row19 col24\" >0.182112</td>\n",
              "                        <td id=\"T_fc2dbd5c_d90e_11eb_8914_0242ac1c0002row19_col25\" class=\"data row19 col25\" >0.194235</td>\n",
              "                        <td id=\"T_fc2dbd5c_d90e_11eb_8914_0242ac1c0002row19_col26\" class=\"data row19 col26\" >0.162464</td>\n",
              "                        <td id=\"T_fc2dbd5c_d90e_11eb_8914_0242ac1c0002row19_col27\" class=\"data row19 col27\" >0.384879</td>\n",
              "                        <td id=\"T_fc2dbd5c_d90e_11eb_8914_0242ac1c0002row19_col28\" class=\"data row19 col28\" >-0.239342</td>\n",
              "            </tr>\n",
              "            <tr>\n",
              "                        <th id=\"T_fc2dbd5c_d90e_11eb_8914_0242ac1c0002level0_row20\" class=\"row_heading level0 row20\" >quarters</th>\n",
              "                        <td id=\"T_fc2dbd5c_d90e_11eb_8914_0242ac1c0002row20_col0\" class=\"data row20 col0\" >0.055848</td>\n",
              "                        <td id=\"T_fc2dbd5c_d90e_11eb_8914_0242ac1c0002row20_col1\" class=\"data row20 col1\" >0.145403</td>\n",
              "                        <td id=\"T_fc2dbd5c_d90e_11eb_8914_0242ac1c0002row20_col2\" class=\"data row20 col2\" >-0.171901</td>\n",
              "                        <td id=\"T_fc2dbd5c_d90e_11eb_8914_0242ac1c0002row20_col3\" class=\"data row20 col3\" >-0.152321</td>\n",
              "                        <td id=\"T_fc2dbd5c_d90e_11eb_8914_0242ac1c0002row20_col4\" class=\"data row20 col4\" >-0.255555</td>\n",
              "                        <td id=\"T_fc2dbd5c_d90e_11eb_8914_0242ac1c0002row20_col5\" class=\"data row20 col5\" >-0.107634</td>\n",
              "                        <td id=\"T_fc2dbd5c_d90e_11eb_8914_0242ac1c0002row20_col6\" class=\"data row20 col6\" >-0.183568</td>\n",
              "                        <td id=\"T_fc2dbd5c_d90e_11eb_8914_0242ac1c0002row20_col7\" class=\"data row20 col7\" >-0.066518</td>\n",
              "                        <td id=\"T_fc2dbd5c_d90e_11eb_8914_0242ac1c0002row20_col8\" class=\"data row20 col8\" >0.199404</td>\n",
              "                        <td id=\"T_fc2dbd5c_d90e_11eb_8914_0242ac1c0002row20_col9\" class=\"data row20 col9\" >0.129856</td>\n",
              "                        <td id=\"T_fc2dbd5c_d90e_11eb_8914_0242ac1c0002row20_col10\" class=\"data row20 col10\" >-0.068114</td>\n",
              "                        <td id=\"T_fc2dbd5c_d90e_11eb_8914_0242ac1c0002row20_col11\" class=\"data row20 col11\" >0.325020</td>\n",
              "                        <td id=\"T_fc2dbd5c_d90e_11eb_8914_0242ac1c0002row20_col12\" class=\"data row20 col12\" >0.052492</td>\n",
              "                        <td id=\"T_fc2dbd5c_d90e_11eb_8914_0242ac1c0002row20_col13\" class=\"data row20 col13\" >0.225481</td>\n",
              "                        <td id=\"T_fc2dbd5c_d90e_11eb_8914_0242ac1c0002row20_col14\" class=\"data row20 col14\" >-0.170029</td>\n",
              "                        <td id=\"T_fc2dbd5c_d90e_11eb_8914_0242ac1c0002row20_col15\" class=\"data row20 col15\" >0.110306</td>\n",
              "                        <td id=\"T_fc2dbd5c_d90e_11eb_8914_0242ac1c0002row20_col16\" class=\"data row20 col16\" >-0.127540</td>\n",
              "                        <td id=\"T_fc2dbd5c_d90e_11eb_8914_0242ac1c0002row20_col17\" class=\"data row20 col17\" >0.127382</td>\n",
              "                        <td id=\"T_fc2dbd5c_d90e_11eb_8914_0242ac1c0002row20_col18\" class=\"data row20 col18\" >0.541943</td>\n",
              "                        <td id=\"T_fc2dbd5c_d90e_11eb_8914_0242ac1c0002row20_col19\" class=\"data row20 col19\" >0.600320</td>\n",
              "                        <td id=\"T_fc2dbd5c_d90e_11eb_8914_0242ac1c0002row20_col20\" class=\"data row20 col20\" >1.000000</td>\n",
              "                        <td id=\"T_fc2dbd5c_d90e_11eb_8914_0242ac1c0002row20_col21\" class=\"data row20 col21\" >0.218276</td>\n",
              "                        <td id=\"T_fc2dbd5c_d90e_11eb_8914_0242ac1c0002row20_col22\" class=\"data row20 col22\" >-0.031351</td>\n",
              "                        <td id=\"T_fc2dbd5c_d90e_11eb_8914_0242ac1c0002row20_col23\" class=\"data row20 col23\" >-0.158121</td>\n",
              "                        <td id=\"T_fc2dbd5c_d90e_11eb_8914_0242ac1c0002row20_col24\" class=\"data row20 col24\" >0.117710</td>\n",
              "                        <td id=\"T_fc2dbd5c_d90e_11eb_8914_0242ac1c0002row20_col25\" class=\"data row20 col25\" >0.140648</td>\n",
              "                        <td id=\"T_fc2dbd5c_d90e_11eb_8914_0242ac1c0002row20_col26\" class=\"data row20 col26\" >0.100896</td>\n",
              "                        <td id=\"T_fc2dbd5c_d90e_11eb_8914_0242ac1c0002row20_col27\" class=\"data row20 col27\" >0.228917</td>\n",
              "                        <td id=\"T_fc2dbd5c_d90e_11eb_8914_0242ac1c0002row20_col28\" class=\"data row20 col28\" >-0.067264</td>\n",
              "            </tr>\n",
              "            <tr>\n",
              "                        <th id=\"T_fc2dbd5c_d90e_11eb_8914_0242ac1c0002level0_row21\" class=\"row_heading level0 row21\" >sunstars</th>\n",
              "                        <td id=\"T_fc2dbd5c_d90e_11eb_8914_0242ac1c0002row21_col0\" class=\"data row21 col0\" >0.228453</td>\n",
              "                        <td id=\"T_fc2dbd5c_d90e_11eb_8914_0242ac1c0002row21_col1\" class=\"data row21 col1\" >0.017750</td>\n",
              "                        <td id=\"T_fc2dbd5c_d90e_11eb_8914_0242ac1c0002row21_col2\" class=\"data row21 col2\" >0.050035</td>\n",
              "                        <td id=\"T_fc2dbd5c_d90e_11eb_8914_0242ac1c0002row21_col3\" class=\"data row21 col3\" >0.031902</td>\n",
              "                        <td id=\"T_fc2dbd5c_d90e_11eb_8914_0242ac1c0002row21_col4\" class=\"data row21 col4\" >-0.001946</td>\n",
              "                        <td id=\"T_fc2dbd5c_d90e_11eb_8914_0242ac1c0002row21_col5\" class=\"data row21 col5\" >0.120903</td>\n",
              "                        <td id=\"T_fc2dbd5c_d90e_11eb_8914_0242ac1c0002row21_col6\" class=\"data row21 col6\" >-0.180082</td>\n",
              "                        <td id=\"T_fc2dbd5c_d90e_11eb_8914_0242ac1c0002row21_col7\" class=\"data row21 col7\" >0.010477</td>\n",
              "                        <td id=\"T_fc2dbd5c_d90e_11eb_8914_0242ac1c0002row21_col8\" class=\"data row21 col8\" >0.081471</td>\n",
              "                        <td id=\"T_fc2dbd5c_d90e_11eb_8914_0242ac1c0002row21_col9\" class=\"data row21 col9\" >0.065483</td>\n",
              "                        <td id=\"T_fc2dbd5c_d90e_11eb_8914_0242ac1c0002row21_col10\" class=\"data row21 col10\" >-0.024540</td>\n",
              "                        <td id=\"T_fc2dbd5c_d90e_11eb_8914_0242ac1c0002row21_col11\" class=\"data row21 col11\" >0.085484</td>\n",
              "                        <td id=\"T_fc2dbd5c_d90e_11eb_8914_0242ac1c0002row21_col12\" class=\"data row21 col12\" >0.095341</td>\n",
              "                        <td id=\"T_fc2dbd5c_d90e_11eb_8914_0242ac1c0002row21_col13\" class=\"data row21 col13\" >0.059055</td>\n",
              "                        <td id=\"T_fc2dbd5c_d90e_11eb_8914_0242ac1c0002row21_col14\" class=\"data row21 col14\" >-0.004706</td>\n",
              "                        <td id=\"T_fc2dbd5c_d90e_11eb_8914_0242ac1c0002row21_col15\" class=\"data row21 col15\" >-0.150064</td>\n",
              "                        <td id=\"T_fc2dbd5c_d90e_11eb_8914_0242ac1c0002row21_col16\" class=\"data row21 col16\" >-0.009337</td>\n",
              "                        <td id=\"T_fc2dbd5c_d90e_11eb_8914_0242ac1c0002row21_col17\" class=\"data row21 col17\" >0.087112</td>\n",
              "                        <td id=\"T_fc2dbd5c_d90e_11eb_8914_0242ac1c0002row21_col18\" class=\"data row21 col18\" >-0.100875</td>\n",
              "                        <td id=\"T_fc2dbd5c_d90e_11eb_8914_0242ac1c0002row21_col19\" class=\"data row21 col19\" >0.052629</td>\n",
              "                        <td id=\"T_fc2dbd5c_d90e_11eb_8914_0242ac1c0002row21_col20\" class=\"data row21 col20\" >0.218276</td>\n",
              "                        <td id=\"T_fc2dbd5c_d90e_11eb_8914_0242ac1c0002row21_col21\" class=\"data row21 col21\" >1.000000</td>\n",
              "                        <td id=\"T_fc2dbd5c_d90e_11eb_8914_0242ac1c0002row21_col22\" class=\"data row21 col22\" >0.218574</td>\n",
              "                        <td id=\"T_fc2dbd5c_d90e_11eb_8914_0242ac1c0002row21_col23\" class=\"data row21 col23\" >0.112167</td>\n",
              "                        <td id=\"T_fc2dbd5c_d90e_11eb_8914_0242ac1c0002row21_col24\" class=\"data row21 col24\" >-0.116342</td>\n",
              "                        <td id=\"T_fc2dbd5c_d90e_11eb_8914_0242ac1c0002row21_col25\" class=\"data row21 col25\" >-0.028347</td>\n",
              "                        <td id=\"T_fc2dbd5c_d90e_11eb_8914_0242ac1c0002row21_col26\" class=\"data row21 col26\" >-0.073883</td>\n",
              "                        <td id=\"T_fc2dbd5c_d90e_11eb_8914_0242ac1c0002row21_col27\" class=\"data row21 col27\" >-0.029274</td>\n",
              "                        <td id=\"T_fc2dbd5c_d90e_11eb_8914_0242ac1c0002row21_col28\" class=\"data row21 col28\" >-0.020986</td>\n",
              "            </tr>\n",
              "            <tr>\n",
              "                        <th id=\"T_fc2dbd5c_d90e_11eb_8914_0242ac1c0002level0_row22\" class=\"row_heading level0 row22\" >crescent</th>\n",
              "                        <td id=\"T_fc2dbd5c_d90e_11eb_8914_0242ac1c0002row22_col0\" class=\"data row22 col0\" >0.182904</td>\n",
              "                        <td id=\"T_fc2dbd5c_d90e_11eb_8914_0242ac1c0002row22_col1\" class=\"data row22 col1\" >-0.165492</td>\n",
              "                        <td id=\"T_fc2dbd5c_d90e_11eb_8914_0242ac1c0002row22_col2\" class=\"data row22 col2\" >0.089193</td>\n",
              "                        <td id=\"T_fc2dbd5c_d90e_11eb_8914_0242ac1c0002row22_col3\" class=\"data row22 col3\" >0.065508</td>\n",
              "                        <td id=\"T_fc2dbd5c_d90e_11eb_8914_0242ac1c0002row22_col4\" class=\"data row22 col4\" >0.189199</td>\n",
              "                        <td id=\"T_fc2dbd5c_d90e_11eb_8914_0242ac1c0002row22_col5\" class=\"data row22 col5\" >0.140927</td>\n",
              "                        <td id=\"T_fc2dbd5c_d90e_11eb_8914_0242ac1c0002row22_col6\" class=\"data row22 col6\" >0.048751</td>\n",
              "                        <td id=\"T_fc2dbd5c_d90e_11eb_8914_0242ac1c0002row22_col7\" class=\"data row22 col7\" >-0.113761</td>\n",
              "                        <td id=\"T_fc2dbd5c_d90e_11eb_8914_0242ac1c0002row22_col8\" class=\"data row22 col8\" >-0.196283</td>\n",
              "                        <td id=\"T_fc2dbd5c_d90e_11eb_8914_0242ac1c0002row22_col9\" class=\"data row22 col9\" >-0.091458</td>\n",
              "                        <td id=\"T_fc2dbd5c_d90e_11eb_8914_0242ac1c0002row22_col10\" class=\"data row22 col10\" >-0.007137</td>\n",
              "                        <td id=\"T_fc2dbd5c_d90e_11eb_8914_0242ac1c0002row22_col11\" class=\"data row22 col11\" >-0.116522</td>\n",
              "                        <td id=\"T_fc2dbd5c_d90e_11eb_8914_0242ac1c0002row22_col12\" class=\"data row22 col12\" >-0.096461</td>\n",
              "                        <td id=\"T_fc2dbd5c_d90e_11eb_8914_0242ac1c0002row22_col13\" class=\"data row22 col13\" >0.037274</td>\n",
              "                        <td id=\"T_fc2dbd5c_d90e_11eb_8914_0242ac1c0002row22_col14\" class=\"data row22 col14\" >-0.148364</td>\n",
              "                        <td id=\"T_fc2dbd5c_d90e_11eb_8914_0242ac1c0002row22_col15\" class=\"data row22 col15\" >-0.031026</td>\n",
              "                        <td id=\"T_fc2dbd5c_d90e_11eb_8914_0242ac1c0002row22_col16\" class=\"data row22 col16\" >0.070149</td>\n",
              "                        <td id=\"T_fc2dbd5c_d90e_11eb_8914_0242ac1c0002row22_col17\" class=\"data row22 col17\" >0.029940</td>\n",
              "                        <td id=\"T_fc2dbd5c_d90e_11eb_8914_0242ac1c0002row22_col18\" class=\"data row22 col18\" >-0.098505</td>\n",
              "                        <td id=\"T_fc2dbd5c_d90e_11eb_8914_0242ac1c0002row22_col19\" class=\"data row22 col19\" >-0.078406</td>\n",
              "                        <td id=\"T_fc2dbd5c_d90e_11eb_8914_0242ac1c0002row22_col20\" class=\"data row22 col20\" >-0.031351</td>\n",
              "                        <td id=\"T_fc2dbd5c_d90e_11eb_8914_0242ac1c0002row22_col21\" class=\"data row22 col21\" >0.218574</td>\n",
              "                        <td id=\"T_fc2dbd5c_d90e_11eb_8914_0242ac1c0002row22_col22\" class=\"data row22 col22\" >1.000000</td>\n",
              "                        <td id=\"T_fc2dbd5c_d90e_11eb_8914_0242ac1c0002row22_col23\" class=\"data row22 col23\" >-0.034188</td>\n",
              "                        <td id=\"T_fc2dbd5c_d90e_11eb_8914_0242ac1c0002row22_col24\" class=\"data row22 col24\" >-0.091225</td>\n",
              "                        <td id=\"T_fc2dbd5c_d90e_11eb_8914_0242ac1c0002row22_col25\" class=\"data row22 col25\" >-0.122981</td>\n",
              "                        <td id=\"T_fc2dbd5c_d90e_11eb_8914_0242ac1c0002row22_col26\" class=\"data row22 col26\" >-0.073506</td>\n",
              "                        <td id=\"T_fc2dbd5c_d90e_11eb_8914_0242ac1c0002row22_col27\" class=\"data row22 col27\" >0.012040</td>\n",
              "                        <td id=\"T_fc2dbd5c_d90e_11eb_8914_0242ac1c0002row22_col28\" class=\"data row22 col28\" >0.145590</td>\n",
              "            </tr>\n",
              "            <tr>\n",
              "                        <th id=\"T_fc2dbd5c_d90e_11eb_8914_0242ac1c0002level0_row23\" class=\"row_heading level0 row23\" >triangle</th>\n",
              "                        <td id=\"T_fc2dbd5c_d90e_11eb_8914_0242ac1c0002row23_col0\" class=\"data row23 col0\" >-0.013428</td>\n",
              "                        <td id=\"T_fc2dbd5c_d90e_11eb_8914_0242ac1c0002row23_col1\" class=\"data row23 col1\" >0.070574</td>\n",
              "                        <td id=\"T_fc2dbd5c_d90e_11eb_8914_0242ac1c0002row23_col2\" class=\"data row23 col2\" >-0.098259</td>\n",
              "                        <td id=\"T_fc2dbd5c_d90e_11eb_8914_0242ac1c0002row23_col3\" class=\"data row23 col3\" >-0.170096</td>\n",
              "                        <td id=\"T_fc2dbd5c_d90e_11eb_8914_0242ac1c0002row23_col4\" class=\"data row23 col4\" >-0.081441</td>\n",
              "                        <td id=\"T_fc2dbd5c_d90e_11eb_8914_0242ac1c0002row23_col5\" class=\"data row23 col5\" >0.063229</td>\n",
              "                        <td id=\"T_fc2dbd5c_d90e_11eb_8914_0242ac1c0002row23_col6\" class=\"data row23 col6\" >-0.146780</td>\n",
              "                        <td id=\"T_fc2dbd5c_d90e_11eb_8914_0242ac1c0002row23_col7\" class=\"data row23 col7\" >0.004890</td>\n",
              "                        <td id=\"T_fc2dbd5c_d90e_11eb_8914_0242ac1c0002row23_col8\" class=\"data row23 col8\" >0.239007</td>\n",
              "                        <td id=\"T_fc2dbd5c_d90e_11eb_8914_0242ac1c0002row23_col9\" class=\"data row23 col9\" >0.025760</td>\n",
              "                        <td id=\"T_fc2dbd5c_d90e_11eb_8914_0242ac1c0002row23_col10\" class=\"data row23 col10\" >0.039840</td>\n",
              "                        <td id=\"T_fc2dbd5c_d90e_11eb_8914_0242ac1c0002row23_col11\" class=\"data row23 col11\" >0.006603</td>\n",
              "                        <td id=\"T_fc2dbd5c_d90e_11eb_8914_0242ac1c0002row23_col12\" class=\"data row23 col12\" >0.159207</td>\n",
              "                        <td id=\"T_fc2dbd5c_d90e_11eb_8914_0242ac1c0002row23_col13\" class=\"data row23 col13\" >-0.011029</td>\n",
              "                        <td id=\"T_fc2dbd5c_d90e_11eb_8914_0242ac1c0002row23_col14\" class=\"data row23 col14\" >0.328242</td>\n",
              "                        <td id=\"T_fc2dbd5c_d90e_11eb_8914_0242ac1c0002row23_col15\" class=\"data row23 col15\" >-0.114468</td>\n",
              "                        <td id=\"T_fc2dbd5c_d90e_11eb_8914_0242ac1c0002row23_col16\" class=\"data row23 col16\" >-0.138551</td>\n",
              "                        <td id=\"T_fc2dbd5c_d90e_11eb_8914_0242ac1c0002row23_col17\" class=\"data row23 col17\" >-0.079804</td>\n",
              "                        <td id=\"T_fc2dbd5c_d90e_11eb_8914_0242ac1c0002row23_col18\" class=\"data row23 col18\" >-0.161552</td>\n",
              "                        <td id=\"T_fc2dbd5c_d90e_11eb_8914_0242ac1c0002row23_col19\" class=\"data row23 col19\" >-0.077259</td>\n",
              "                        <td id=\"T_fc2dbd5c_d90e_11eb_8914_0242ac1c0002row23_col20\" class=\"data row23 col20\" >-0.158121</td>\n",
              "                        <td id=\"T_fc2dbd5c_d90e_11eb_8914_0242ac1c0002row23_col21\" class=\"data row23 col21\" >0.112167</td>\n",
              "                        <td id=\"T_fc2dbd5c_d90e_11eb_8914_0242ac1c0002row23_col22\" class=\"data row23 col22\" >-0.034188</td>\n",
              "                        <td id=\"T_fc2dbd5c_d90e_11eb_8914_0242ac1c0002row23_col23\" class=\"data row23 col23\" >1.000000</td>\n",
              "                        <td id=\"T_fc2dbd5c_d90e_11eb_8914_0242ac1c0002row23_col24\" class=\"data row23 col24\" >-0.062367</td>\n",
              "                        <td id=\"T_fc2dbd5c_d90e_11eb_8914_0242ac1c0002row23_col25\" class=\"data row23 col25\" >0.021261</td>\n",
              "                        <td id=\"T_fc2dbd5c_d90e_11eb_8914_0242ac1c0002row23_col26\" class=\"data row23 col26\" >-0.066415</td>\n",
              "                        <td id=\"T_fc2dbd5c_d90e_11eb_8914_0242ac1c0002row23_col27\" class=\"data row23 col27\" >-0.117263</td>\n",
              "                        <td id=\"T_fc2dbd5c_d90e_11eb_8914_0242ac1c0002row23_col28\" class=\"data row23 col28\" >-0.058146</td>\n",
              "            </tr>\n",
              "            <tr>\n",
              "                        <th id=\"T_fc2dbd5c_d90e_11eb_8914_0242ac1c0002level0_row24\" class=\"row_heading level0 row24\" >icon</th>\n",
              "                        <td id=\"T_fc2dbd5c_d90e_11eb_8914_0242ac1c0002row24_col0\" class=\"data row24 col0\" >0.040628</td>\n",
              "                        <td id=\"T_fc2dbd5c_d90e_11eb_8914_0242ac1c0002row24_col1\" class=\"data row24 col1\" >-0.044841</td>\n",
              "                        <td id=\"T_fc2dbd5c_d90e_11eb_8914_0242ac1c0002row24_col2\" class=\"data row24 col2\" >-0.155916</td>\n",
              "                        <td id=\"T_fc2dbd5c_d90e_11eb_8914_0242ac1c0002row24_col3\" class=\"data row24 col3\" >-0.135182</td>\n",
              "                        <td id=\"T_fc2dbd5c_d90e_11eb_8914_0242ac1c0002row24_col4\" class=\"data row24 col4\" >0.011082</td>\n",
              "                        <td id=\"T_fc2dbd5c_d90e_11eb_8914_0242ac1c0002row24_col5\" class=\"data row24 col5\" >0.053844</td>\n",
              "                        <td id=\"T_fc2dbd5c_d90e_11eb_8914_0242ac1c0002row24_col6\" class=\"data row24 col6\" >-0.024842</td>\n",
              "                        <td id=\"T_fc2dbd5c_d90e_11eb_8914_0242ac1c0002row24_col7\" class=\"data row24 col7\" >-0.105171</td>\n",
              "                        <td id=\"T_fc2dbd5c_d90e_11eb_8914_0242ac1c0002row24_col8\" class=\"data row24 col8\" >0.423652</td>\n",
              "                        <td id=\"T_fc2dbd5c_d90e_11eb_8914_0242ac1c0002row24_col9\" class=\"data row24 col9\" >0.097513</td>\n",
              "                        <td id=\"T_fc2dbd5c_d90e_11eb_8914_0242ac1c0002row24_col10\" class=\"data row24 col10\" >0.190550</td>\n",
              "                        <td id=\"T_fc2dbd5c_d90e_11eb_8914_0242ac1c0002row24_col11\" class=\"data row24 col11\" >0.118539</td>\n",
              "                        <td id=\"T_fc2dbd5c_d90e_11eb_8914_0242ac1c0002row24_col12\" class=\"data row24 col12\" >0.380732</td>\n",
              "                        <td id=\"T_fc2dbd5c_d90e_11eb_8914_0242ac1c0002row24_col13\" class=\"data row24 col13\" >0.058387</td>\n",
              "                        <td id=\"T_fc2dbd5c_d90e_11eb_8914_0242ac1c0002row24_col14\" class=\"data row24 col14\" >0.130330</td>\n",
              "                        <td id=\"T_fc2dbd5c_d90e_11eb_8914_0242ac1c0002row24_col15\" class=\"data row24 col15\" >0.293670</td>\n",
              "                        <td id=\"T_fc2dbd5c_d90e_11eb_8914_0242ac1c0002row24_col16\" class=\"data row24 col16\" >-0.057705</td>\n",
              "                        <td id=\"T_fc2dbd5c_d90e_11eb_8914_0242ac1c0002row24_col17\" class=\"data row24 col17\" >0.189011</td>\n",
              "                        <td id=\"T_fc2dbd5c_d90e_11eb_8914_0242ac1c0002row24_col18\" class=\"data row24 col18\" >0.114928</td>\n",
              "                        <td id=\"T_fc2dbd5c_d90e_11eb_8914_0242ac1c0002row24_col19\" class=\"data row24 col19\" >0.182112</td>\n",
              "                        <td id=\"T_fc2dbd5c_d90e_11eb_8914_0242ac1c0002row24_col20\" class=\"data row24 col20\" >0.117710</td>\n",
              "                        <td id=\"T_fc2dbd5c_d90e_11eb_8914_0242ac1c0002row24_col21\" class=\"data row24 col21\" >-0.116342</td>\n",
              "                        <td id=\"T_fc2dbd5c_d90e_11eb_8914_0242ac1c0002row24_col22\" class=\"data row24 col22\" >-0.091225</td>\n",
              "                        <td id=\"T_fc2dbd5c_d90e_11eb_8914_0242ac1c0002row24_col23\" class=\"data row24 col23\" >-0.062367</td>\n",
              "                        <td id=\"T_fc2dbd5c_d90e_11eb_8914_0242ac1c0002row24_col24\" class=\"data row24 col24\" >1.000000</td>\n",
              "                        <td id=\"T_fc2dbd5c_d90e_11eb_8914_0242ac1c0002row24_col25\" class=\"data row24 col25\" >0.448456</td>\n",
              "                        <td id=\"T_fc2dbd5c_d90e_11eb_8914_0242ac1c0002row24_col26\" class=\"data row24 col26\" >0.386365</td>\n",
              "                        <td id=\"T_fc2dbd5c_d90e_11eb_8914_0242ac1c0002row24_col27\" class=\"data row24 col27\" >0.106884</td>\n",
              "                        <td id=\"T_fc2dbd5c_d90e_11eb_8914_0242ac1c0002row24_col28\" class=\"data row24 col28\" >-0.008891</td>\n",
              "            </tr>\n",
              "            <tr>\n",
              "                        <th id=\"T_fc2dbd5c_d90e_11eb_8914_0242ac1c0002level0_row25\" class=\"row_heading level0 row25\" >animate</th>\n",
              "                        <td id=\"T_fc2dbd5c_d90e_11eb_8914_0242ac1c0002row25_col0\" class=\"data row25 col0\" >-0.095356</td>\n",
              "                        <td id=\"T_fc2dbd5c_d90e_11eb_8914_0242ac1c0002row25_col1\" class=\"data row25 col1\" >0.111416</td>\n",
              "                        <td id=\"T_fc2dbd5c_d90e_11eb_8914_0242ac1c0002row25_col2\" class=\"data row25 col2\" >-0.185039</td>\n",
              "                        <td id=\"T_fc2dbd5c_d90e_11eb_8914_0242ac1c0002row25_col3\" class=\"data row25 col3\" >-0.169005</td>\n",
              "                        <td id=\"T_fc2dbd5c_d90e_11eb_8914_0242ac1c0002row25_col4\" class=\"data row25 col4\" >-0.159920</td>\n",
              "                        <td id=\"T_fc2dbd5c_d90e_11eb_8914_0242ac1c0002row25_col5\" class=\"data row25 col5\" >0.013534</td>\n",
              "                        <td id=\"T_fc2dbd5c_d90e_11eb_8914_0242ac1c0002row25_col6\" class=\"data row25 col6\" >0.000343</td>\n",
              "                        <td id=\"T_fc2dbd5c_d90e_11eb_8914_0242ac1c0002row25_col7\" class=\"data row25 col7\" >-0.185809</td>\n",
              "                        <td id=\"T_fc2dbd5c_d90e_11eb_8914_0242ac1c0002row25_col8\" class=\"data row25 col8\" >0.484680</td>\n",
              "                        <td id=\"T_fc2dbd5c_d90e_11eb_8914_0242ac1c0002row25_col9\" class=\"data row25 col9\" >0.133648</td>\n",
              "                        <td id=\"T_fc2dbd5c_d90e_11eb_8914_0242ac1c0002row25_col10\" class=\"data row25 col10\" >0.250157</td>\n",
              "                        <td id=\"T_fc2dbd5c_d90e_11eb_8914_0242ac1c0002row25_col11\" class=\"data row25 col11\" >0.028249</td>\n",
              "                        <td id=\"T_fc2dbd5c_d90e_11eb_8914_0242ac1c0002row25_col12\" class=\"data row25 col12\" >0.353249</td>\n",
              "                        <td id=\"T_fc2dbd5c_d90e_11eb_8914_0242ac1c0002row25_col13\" class=\"data row25 col13\" >0.049165</td>\n",
              "                        <td id=\"T_fc2dbd5c_d90e_11eb_8914_0242ac1c0002row25_col14\" class=\"data row25 col14\" >0.161053</td>\n",
              "                        <td id=\"T_fc2dbd5c_d90e_11eb_8914_0242ac1c0002row25_col15\" class=\"data row25 col15\" >0.482238</td>\n",
              "                        <td id=\"T_fc2dbd5c_d90e_11eb_8914_0242ac1c0002row25_col16\" class=\"data row25 col16\" >-0.111707</td>\n",
              "                        <td id=\"T_fc2dbd5c_d90e_11eb_8914_0242ac1c0002row25_col17\" class=\"data row25 col17\" >0.187822</td>\n",
              "                        <td id=\"T_fc2dbd5c_d90e_11eb_8914_0242ac1c0002row25_col18\" class=\"data row25 col18\" >0.102778</td>\n",
              "                        <td id=\"T_fc2dbd5c_d90e_11eb_8914_0242ac1c0002row25_col19\" class=\"data row25 col19\" >0.194235</td>\n",
              "                        <td id=\"T_fc2dbd5c_d90e_11eb_8914_0242ac1c0002row25_col20\" class=\"data row25 col20\" >0.140648</td>\n",
              "                        <td id=\"T_fc2dbd5c_d90e_11eb_8914_0242ac1c0002row25_col21\" class=\"data row25 col21\" >-0.028347</td>\n",
              "                        <td id=\"T_fc2dbd5c_d90e_11eb_8914_0242ac1c0002row25_col22\" class=\"data row25 col22\" >-0.122981</td>\n",
              "                        <td id=\"T_fc2dbd5c_d90e_11eb_8914_0242ac1c0002row25_col23\" class=\"data row25 col23\" >0.021261</td>\n",
              "                        <td id=\"T_fc2dbd5c_d90e_11eb_8914_0242ac1c0002row25_col24\" class=\"data row25 col24\" >0.448456</td>\n",
              "                        <td id=\"T_fc2dbd5c_d90e_11eb_8914_0242ac1c0002row25_col25\" class=\"data row25 col25\" >1.000000</td>\n",
              "                        <td id=\"T_fc2dbd5c_d90e_11eb_8914_0242ac1c0002row25_col26\" class=\"data row25 col26\" >0.410678</td>\n",
              "                        <td id=\"T_fc2dbd5c_d90e_11eb_8914_0242ac1c0002row25_col27\" class=\"data row25 col27\" >0.168281</td>\n",
              "                        <td id=\"T_fc2dbd5c_d90e_11eb_8914_0242ac1c0002row25_col28\" class=\"data row25 col28\" >-0.022372</td>\n",
              "            </tr>\n",
              "            <tr>\n",
              "                        <th id=\"T_fc2dbd5c_d90e_11eb_8914_0242ac1c0002level0_row26\" class=\"row_heading level0 row26\" >text</th>\n",
              "                        <td id=\"T_fc2dbd5c_d90e_11eb_8914_0242ac1c0002row26_col0\" class=\"data row26 col0\" >-0.092331</td>\n",
              "                        <td id=\"T_fc2dbd5c_d90e_11eb_8914_0242ac1c0002row26_col1\" class=\"data row26 col1\" >0.029121</td>\n",
              "                        <td id=\"T_fc2dbd5c_d90e_11eb_8914_0242ac1c0002row26_col2\" class=\"data row26 col2\" >-0.076161</td>\n",
              "                        <td id=\"T_fc2dbd5c_d90e_11eb_8914_0242ac1c0002row26_col3\" class=\"data row26 col3\" >-0.068291</td>\n",
              "                        <td id=\"T_fc2dbd5c_d90e_11eb_8914_0242ac1c0002row26_col4\" class=\"data row26 col4\" >-0.100604</td>\n",
              "                        <td id=\"T_fc2dbd5c_d90e_11eb_8914_0242ac1c0002row26_col5\" class=\"data row26 col5\" >-0.022633</td>\n",
              "                        <td id=\"T_fc2dbd5c_d90e_11eb_8914_0242ac1c0002row26_col6\" class=\"data row26 col6\" >0.019993</td>\n",
              "                        <td id=\"T_fc2dbd5c_d90e_11eb_8914_0242ac1c0002row26_col7\" class=\"data row26 col7\" >-0.117082</td>\n",
              "                        <td id=\"T_fc2dbd5c_d90e_11eb_8914_0242ac1c0002row26_col8\" class=\"data row26 col8\" >0.318176</td>\n",
              "                        <td id=\"T_fc2dbd5c_d90e_11eb_8914_0242ac1c0002row26_col9\" class=\"data row26 col9\" >0.017507</td>\n",
              "                        <td id=\"T_fc2dbd5c_d90e_11eb_8914_0242ac1c0002row26_col10\" class=\"data row26 col10\" >0.243872</td>\n",
              "                        <td id=\"T_fc2dbd5c_d90e_11eb_8914_0242ac1c0002row26_col11\" class=\"data row26 col11\" >0.106271</td>\n",
              "                        <td id=\"T_fc2dbd5c_d90e_11eb_8914_0242ac1c0002row26_col12\" class=\"data row26 col12\" >0.243872</td>\n",
              "                        <td id=\"T_fc2dbd5c_d90e_11eb_8914_0242ac1c0002row26_col13\" class=\"data row26 col13\" >0.128483</td>\n",
              "                        <td id=\"T_fc2dbd5c_d90e_11eb_8914_0242ac1c0002row26_col14\" class=\"data row26 col14\" >0.030093</td>\n",
              "                        <td id=\"T_fc2dbd5c_d90e_11eb_8914_0242ac1c0002row26_col15\" class=\"data row26 col15\" >0.212075</td>\n",
              "                        <td id=\"T_fc2dbd5c_d90e_11eb_8914_0242ac1c0002row26_col16\" class=\"data row26 col16\" >-0.127809</td>\n",
              "                        <td id=\"T_fc2dbd5c_d90e_11eb_8914_0242ac1c0002row26_col17\" class=\"data row26 col17\" >0.186213</td>\n",
              "                        <td id=\"T_fc2dbd5c_d90e_11eb_8914_0242ac1c0002row26_col18\" class=\"data row26 col18\" >0.093690</td>\n",
              "                        <td id=\"T_fc2dbd5c_d90e_11eb_8914_0242ac1c0002row26_col19\" class=\"data row26 col19\" >0.162464</td>\n",
              "                        <td id=\"T_fc2dbd5c_d90e_11eb_8914_0242ac1c0002row26_col20\" class=\"data row26 col20\" >0.100896</td>\n",
              "                        <td id=\"T_fc2dbd5c_d90e_11eb_8914_0242ac1c0002row26_col21\" class=\"data row26 col21\" >-0.073883</td>\n",
              "                        <td id=\"T_fc2dbd5c_d90e_11eb_8914_0242ac1c0002row26_col22\" class=\"data row26 col22\" >-0.073506</td>\n",
              "                        <td id=\"T_fc2dbd5c_d90e_11eb_8914_0242ac1c0002row26_col23\" class=\"data row26 col23\" >-0.066415</td>\n",
              "                        <td id=\"T_fc2dbd5c_d90e_11eb_8914_0242ac1c0002row26_col24\" class=\"data row26 col24\" >0.386365</td>\n",
              "                        <td id=\"T_fc2dbd5c_d90e_11eb_8914_0242ac1c0002row26_col25\" class=\"data row26 col25\" >0.410678</td>\n",
              "                        <td id=\"T_fc2dbd5c_d90e_11eb_8914_0242ac1c0002row26_col26\" class=\"data row26 col26\" >1.000000</td>\n",
              "                        <td id=\"T_fc2dbd5c_d90e_11eb_8914_0242ac1c0002row26_col27\" class=\"data row26 col27\" >0.141370</td>\n",
              "                        <td id=\"T_fc2dbd5c_d90e_11eb_8914_0242ac1c0002row26_col28\" class=\"data row26 col28\" >-0.075937</td>\n",
              "            </tr>\n",
              "            <tr>\n",
              "                        <th id=\"T_fc2dbd5c_d90e_11eb_8914_0242ac1c0002level0_row27\" class=\"row_heading level0 row27\" >topleft</th>\n",
              "                        <td id=\"T_fc2dbd5c_d90e_11eb_8914_0242ac1c0002row27_col0\" class=\"data row27 col0\" >0.083547</td>\n",
              "                        <td id=\"T_fc2dbd5c_d90e_11eb_8914_0242ac1c0002row27_col1\" class=\"data row27 col1\" >0.008872</td>\n",
              "                        <td id=\"T_fc2dbd5c_d90e_11eb_8914_0242ac1c0002row27_col2\" class=\"data row27 col2\" >-0.166374</td>\n",
              "                        <td id=\"T_fc2dbd5c_d90e_11eb_8914_0242ac1c0002row27_col3\" class=\"data row27 col3\" >-0.169721</td>\n",
              "                        <td id=\"T_fc2dbd5c_d90e_11eb_8914_0242ac1c0002row27_col4\" class=\"data row27 col4\" >-0.127590</td>\n",
              "                        <td id=\"T_fc2dbd5c_d90e_11eb_8914_0242ac1c0002row27_col5\" class=\"data row27 col5\" >0.047883</td>\n",
              "                        <td id=\"T_fc2dbd5c_d90e_11eb_8914_0242ac1c0002row27_col6\" class=\"data row27 col6\" >-0.149664</td>\n",
              "                        <td id=\"T_fc2dbd5c_d90e_11eb_8914_0242ac1c0002row27_col7\" class=\"data row27 col7\" >-0.214651</td>\n",
              "                        <td id=\"T_fc2dbd5c_d90e_11eb_8914_0242ac1c0002row27_col8\" class=\"data row27 col8\" >0.024540</td>\n",
              "                        <td id=\"T_fc2dbd5c_d90e_11eb_8914_0242ac1c0002row27_col9\" class=\"data row27 col9\" >0.235018</td>\n",
              "                        <td id=\"T_fc2dbd5c_d90e_11eb_8914_0242ac1c0002row27_col10\" class=\"data row27 col10\" >0.078873</td>\n",
              "                        <td id=\"T_fc2dbd5c_d90e_11eb_8914_0242ac1c0002row27_col11\" class=\"data row27 col11\" >-0.116503</td>\n",
              "                        <td id=\"T_fc2dbd5c_d90e_11eb_8914_0242ac1c0002row27_col12\" class=\"data row27 col12\" >-0.074996</td>\n",
              "                        <td id=\"T_fc2dbd5c_d90e_11eb_8914_0242ac1c0002row27_col13\" class=\"data row27 col13\" >0.177401</td>\n",
              "                        <td id=\"T_fc2dbd5c_d90e_11eb_8914_0242ac1c0002row27_col14\" class=\"data row27 col14\" >-0.160572</td>\n",
              "                        <td id=\"T_fc2dbd5c_d90e_11eb_8914_0242ac1c0002row27_col15\" class=\"data row27 col15\" >0.084229</td>\n",
              "                        <td id=\"T_fc2dbd5c_d90e_11eb_8914_0242ac1c0002row27_col16\" class=\"data row27 col16\" >0.335018</td>\n",
              "                        <td id=\"T_fc2dbd5c_d90e_11eb_8914_0242ac1c0002row27_col17\" class=\"data row27 col17\" >0.143915</td>\n",
              "                        <td id=\"T_fc2dbd5c_d90e_11eb_8914_0242ac1c0002row27_col18\" class=\"data row27 col18\" >0.351403</td>\n",
              "                        <td id=\"T_fc2dbd5c_d90e_11eb_8914_0242ac1c0002row27_col19\" class=\"data row27 col19\" >0.384879</td>\n",
              "                        <td id=\"T_fc2dbd5c_d90e_11eb_8914_0242ac1c0002row27_col20\" class=\"data row27 col20\" >0.228917</td>\n",
              "                        <td id=\"T_fc2dbd5c_d90e_11eb_8914_0242ac1c0002row27_col21\" class=\"data row27 col21\" >-0.029274</td>\n",
              "                        <td id=\"T_fc2dbd5c_d90e_11eb_8914_0242ac1c0002row27_col22\" class=\"data row27 col22\" >0.012040</td>\n",
              "                        <td id=\"T_fc2dbd5c_d90e_11eb_8914_0242ac1c0002row27_col23\" class=\"data row27 col23\" >-0.117263</td>\n",
              "                        <td id=\"T_fc2dbd5c_d90e_11eb_8914_0242ac1c0002row27_col24\" class=\"data row27 col24\" >0.106884</td>\n",
              "                        <td id=\"T_fc2dbd5c_d90e_11eb_8914_0242ac1c0002row27_col25\" class=\"data row27 col25\" >0.168281</td>\n",
              "                        <td id=\"T_fc2dbd5c_d90e_11eb_8914_0242ac1c0002row27_col26\" class=\"data row27 col26\" >0.141370</td>\n",
              "                        <td id=\"T_fc2dbd5c_d90e_11eb_8914_0242ac1c0002row27_col27\" class=\"data row27 col27\" >1.000000</td>\n",
              "                        <td id=\"T_fc2dbd5c_d90e_11eb_8914_0242ac1c0002row27_col28\" class=\"data row27 col28\" >0.133624</td>\n",
              "            </tr>\n",
              "            <tr>\n",
              "                        <th id=\"T_fc2dbd5c_d90e_11eb_8914_0242ac1c0002level0_row28\" class=\"row_heading level0 row28\" >botright</th>\n",
              "                        <td id=\"T_fc2dbd5c_d90e_11eb_8914_0242ac1c0002row28_col0\" class=\"data row28 col0\" >-0.074139</td>\n",
              "                        <td id=\"T_fc2dbd5c_d90e_11eb_8914_0242ac1c0002row28_col1\" class=\"data row28 col1\" >-0.055637</td>\n",
              "                        <td id=\"T_fc2dbd5c_d90e_11eb_8914_0242ac1c0002row28_col2\" class=\"data row28 col2\" >0.025302</td>\n",
              "                        <td id=\"T_fc2dbd5c_d90e_11eb_8914_0242ac1c0002row28_col3\" class=\"data row28 col3\" >0.110168</td>\n",
              "                        <td id=\"T_fc2dbd5c_d90e_11eb_8914_0242ac1c0002row28_col4\" class=\"data row28 col4\" >0.068834</td>\n",
              "                        <td id=\"T_fc2dbd5c_d90e_11eb_8914_0242ac1c0002row28_col5\" class=\"data row28 col5\" >-0.027787</td>\n",
              "                        <td id=\"T_fc2dbd5c_d90e_11eb_8914_0242ac1c0002row28_col6\" class=\"data row28 col6\" >0.092643</td>\n",
              "                        <td id=\"T_fc2dbd5c_d90e_11eb_8914_0242ac1c0002row28_col7\" class=\"data row28 col7\" >-0.166813</td>\n",
              "                        <td id=\"T_fc2dbd5c_d90e_11eb_8914_0242ac1c0002row28_col8\" class=\"data row28 col8\" >-0.177025</td>\n",
              "                        <td id=\"T_fc2dbd5c_d90e_11eb_8914_0242ac1c0002row28_col9\" class=\"data row28 col9\" >0.333283</td>\n",
              "                        <td id=\"T_fc2dbd5c_d90e_11eb_8914_0242ac1c0002row28_col10\" class=\"data row28 col10\" >-0.125767</td>\n",
              "                        <td id=\"T_fc2dbd5c_d90e_11eb_8914_0242ac1c0002row28_col11\" class=\"data row28 col11\" >-0.202926</td>\n",
              "                        <td id=\"T_fc2dbd5c_d90e_11eb_8914_0242ac1c0002row28_col12\" class=\"data row28 col12\" >-0.027523</td>\n",
              "                        <td id=\"T_fc2dbd5c_d90e_11eb_8914_0242ac1c0002row28_col13\" class=\"data row28 col13\" >-0.027078</td>\n",
              "                        <td id=\"T_fc2dbd5c_d90e_11eb_8914_0242ac1c0002row28_col14\" class=\"data row28 col14\" >-0.179597</td>\n",
              "                        <td id=\"T_fc2dbd5c_d90e_11eb_8914_0242ac1c0002row28_col15\" class=\"data row28 col15\" >-0.118995</td>\n",
              "                        <td id=\"T_fc2dbd5c_d90e_11eb_8914_0242ac1c0002row28_col16\" class=\"data row28 col16\" >0.543124</td>\n",
              "                        <td id=\"T_fc2dbd5c_d90e_11eb_8914_0242ac1c0002row28_col17\" class=\"data row28 col17\" >0.088285</td>\n",
              "                        <td id=\"T_fc2dbd5c_d90e_11eb_8914_0242ac1c0002row28_col18\" class=\"data row28 col18\" >-0.178132</td>\n",
              "                        <td id=\"T_fc2dbd5c_d90e_11eb_8914_0242ac1c0002row28_col19\" class=\"data row28 col19\" >-0.239342</td>\n",
              "                        <td id=\"T_fc2dbd5c_d90e_11eb_8914_0242ac1c0002row28_col20\" class=\"data row28 col20\" >-0.067264</td>\n",
              "                        <td id=\"T_fc2dbd5c_d90e_11eb_8914_0242ac1c0002row28_col21\" class=\"data row28 col21\" >-0.020986</td>\n",
              "                        <td id=\"T_fc2dbd5c_d90e_11eb_8914_0242ac1c0002row28_col22\" class=\"data row28 col22\" >0.145590</td>\n",
              "                        <td id=\"T_fc2dbd5c_d90e_11eb_8914_0242ac1c0002row28_col23\" class=\"data row28 col23\" >-0.058146</td>\n",
              "                        <td id=\"T_fc2dbd5c_d90e_11eb_8914_0242ac1c0002row28_col24\" class=\"data row28 col24\" >-0.008891</td>\n",
              "                        <td id=\"T_fc2dbd5c_d90e_11eb_8914_0242ac1c0002row28_col25\" class=\"data row28 col25\" >-0.022372</td>\n",
              "                        <td id=\"T_fc2dbd5c_d90e_11eb_8914_0242ac1c0002row28_col26\" class=\"data row28 col26\" >-0.075937</td>\n",
              "                        <td id=\"T_fc2dbd5c_d90e_11eb_8914_0242ac1c0002row28_col27\" class=\"data row28 col27\" >0.133624</td>\n",
              "                        <td id=\"T_fc2dbd5c_d90e_11eb_8914_0242ac1c0002row28_col28\" class=\"data row28 col28\" >1.000000</td>\n",
              "            </tr>\n",
              "    </tbody></table>"
            ],
            "text/plain": [
              "<pandas.io.formats.style.Styler at 0x7f2533134150>"
            ]
          },
          "metadata": {
            "tags": []
          },
          "execution_count": 14
        }
      ]
    },
    {
      "cell_type": "markdown",
      "metadata": {
        "id": "_tw3XrU0A1OG"
      },
      "source": [
        "Com a matriz de correlação, confirmamos que não há correlação forte entre as variáveis da base de dados."
      ]
    },
    {
      "cell_type": "markdown",
      "metadata": {
        "id": "nuoaRLsGq4Kl"
      },
      "source": [
        "### **Arrumando os dados**"
      ]
    },
    {
      "cell_type": "markdown",
      "metadata": {
        "id": "4ke_qaQO4EcY"
      },
      "source": [
        "Removendo os outliers substituindo valores pelo mediana de cada uma das variáveis onde há outliers.\n",
        "\n",
        "Utilizaremos os gráficos boxplot para verificar os outliers."
      ]
    },
    {
      "cell_type": "code",
      "metadata": {
        "colab": {
          "base_uri": "https://localhost:8080/",
          "height": 279
        },
        "id": "fHfBRaGN9Szb",
        "outputId": "4595e1d4-da81-4434-d306-123975e93259"
      },
      "source": [
        "sns.boxplot(x = 'value', y = 'variable', data = dataset[['area', 'population']].melt())\n",
        "plt.show()"
      ],
      "execution_count": 15,
      "outputs": [
        {
          "output_type": "display_data",
          "data": {
            "image/png": "[encoded data removed]",
            "text/plain": [
              "<Figure size 432x288 with 1 Axes>"
            ]
          },
          "metadata": {
            "tags": [],
            "needs_background": "light"
          }
        }
      ]
    },
    {
      "cell_type": "code",
      "metadata": {
        "colab": {
          "base_uri": "https://localhost:8080/",
          "height": 279
        },
        "id": "ksF0jzei4Eca",
        "outputId": "53d68340-7594-4f0c-9e86-e215a443ec36"
      },
      "source": [
        "sns.boxplot(x = 'value', y = 'variable', data = dataset.iloc[:, 1:11].drop(['area', 'population'], axis = 1).melt())\n",
        "plt.show()"
      ],
      "execution_count": 16,
      "outputs": [
        {
          "output_type": "display_data",
          "data": {
            "image/png": "[encoded data removed]",
            "text/plain": [
              "<Figure size 432x288 with 1 Axes>"
            ]
          },
          "metadata": {
            "tags": [],
            "needs_background": "light"
          }
        }
      ]
    },
    {
      "cell_type": "code",
      "metadata": {
        "colab": {
          "base_uri": "https://localhost:8080/",
          "height": 279
        },
        "id": "NQq2Kjtp9q8L",
        "outputId": "6437cddf-8783-4c33-9e94-d1c84eaabaeb"
      },
      "source": [
        "sns.boxplot(x = 'value', y = 'variable', data = dataset[['mainhue']].melt())\n",
        "plt.show()"
      ],
      "execution_count": 17,
      "outputs": [
        {
          "output_type": "display_data",
          "data": {
            "image/png": "[encoded data removed]",
            "text/plain": [
              "<Figure size 432x288 with 1 Axes>"
            ]
          },
          "metadata": {
            "tags": [],
            "needs_background": "light"
          }
        }
      ]
    },
    {
      "cell_type": "code",
      "metadata": {
        "colab": {
          "base_uri": "https://localhost:8080/",
          "height": 279
        },
        "id": "VGgZels24Vvd",
        "outputId": "1f434895-fa28-4dc4-d04e-15263f9ecab0"
      },
      "source": [
        "sns.boxplot(x = 'value', y = 'variable', data = dataset.iloc[:, 11:21].drop(['mainhue'], axis = 1).melt())\n",
        "plt.show()"
      ],
      "execution_count": 18,
      "outputs": [
        {
          "output_type": "display_data",
          "data": {
            "image/png": "[encoded data removed]",
            "text/plain": [
              "<Figure size 432x288 with 1 Axes>"
            ]
          },
          "metadata": {
            "tags": [],
            "needs_background": "light"
          }
        }
      ]
    },
    {
      "cell_type": "code",
      "metadata": {
        "colab": {
          "base_uri": "https://localhost:8080/",
          "height": 279
        },
        "id": "2xDPX7pT5PaL",
        "outputId": "05c1c280-e129-458a-855a-bf640723aa5c"
      },
      "source": [
        "sns.boxplot(x = 'value', y = 'variable', data = dataset.iloc[:, 21:31].melt())\n",
        "plt.show()"
      ],
      "execution_count": 19,
      "outputs": [
        {
          "output_type": "display_data",
          "data": {
            "image/png": "[encoded data removed]",
            "text/plain": [
              "<Figure size 432x288 with 1 Axes>"
            ]
          },
          "metadata": {
            "tags": [],
            "needs_background": "light"
          }
        }
      ]
    },
    {
      "cell_type": "markdown",
      "metadata": {
        "id": "54tGu4w96vR4"
      },
      "source": [
        "Verificamos pelos gráficos boxplot que há outliers em várias das variáveis."
      ]
    },
    {
      "cell_type": "markdown",
      "metadata": {
        "id": "WA27kEOn4Ecb"
      },
      "source": [
        "Utilizamos o seguinte código para remover os outliers, onde removemos os valores abaixo de $Q1 - 1.5 IQR$ e acima de $Q3 + 1.5 IQR$, para cada uma das variáveis."
      ]
    },
    {
      "cell_type": "code",
      "metadata": {
        "id": "b9cI_IhE4Ecb"
      },
      "source": [
        "for i in range(0, 29):\n",
        "  name_column = dataset.drop(['name'], axis = 1).columns[i]\n",
        "  Q = dataset.drop(['name'], axis = 1).describe().unstack()\n",
        "  Q1 = Q[name_column, '25%']\n",
        "  Q3 = Q[name_column, '75%']\n",
        "  IQR = Q3 - Q1\n",
        "  df_extra = np.array(dataset[name_column].values.tolist())\n",
        "  median = dataset.drop(['name'], axis = 1).iloc[:, i]\n",
        "  dataset[name_column] = np.where(df_extra < Q1 - 1.5 * IQR, int(median.median()), df_extra).tolist()\n",
        "  dataset[name_column] = np.where(df_extra > Q3 + 1.5 * IQR, int(median.median()), df_extra).tolist()"
      ],
      "execution_count": 20,
      "outputs": []
    },
    {
      "cell_type": "code",
      "metadata": {
        "colab": {
          "base_uri": "https://localhost:8080/",
          "height": 279
        },
        "id": "5TSXKYrK-x7W",
        "outputId": "43ed43dc-3084-4ee8-ecc9-784beb44964c"
      },
      "source": [
        "sns.boxplot(x = 'value', y = 'variable', data = dataset[['area', 'population']].melt())\n",
        "plt.show()"
      ],
      "execution_count": 21,
      "outputs": [
        {
          "output_type": "display_data",
          "data": {
            "image/png": "[encoded data removed]",
            "text/plain": [
              "<Figure size 432x288 with 1 Axes>"
            ]
          },
          "metadata": {
            "tags": [],
            "needs_background": "light"
          }
        }
      ]
    },
    {
      "cell_type": "code",
      "metadata": {
        "colab": {
          "base_uri": "https://localhost:8080/",
          "height": 279
        },
        "id": "1x-7zf8J-x7f",
        "outputId": "b1265fe8-e802-4c8a-9ded-f08552972784"
      },
      "source": [
        "sns.boxplot(x = 'value', y = 'variable', data = dataset.iloc[:, 1:11].drop(['area', 'population'], axis = 1).melt())\n",
        "plt.show()"
      ],
      "execution_count": 22,
      "outputs": [
        {
          "output_type": "display_data",
          "data": {
            "image/png": "[encoded data removed]",
            "text/plain": [
              "<Figure size 432x288 with 1 Axes>"
            ]
          },
          "metadata": {
            "tags": [],
            "needs_background": "light"
          }
        }
      ]
    },
    {
      "cell_type": "code",
      "metadata": {
        "colab": {
          "base_uri": "https://localhost:8080/",
          "height": 279
        },
        "id": "MJE5mX7h-x7g",
        "outputId": "35a53193-3db6-4fa7-ad21-1162aac990f9"
      },
      "source": [
        "sns.boxplot(x = 'value', y = 'variable', data = dataset[['mainhue']].melt())\n",
        "plt.show()"
      ],
      "execution_count": 23,
      "outputs": [
        {
          "output_type": "display_data",
          "data": {
            "image/png": "[encoded data removed]",
            "text/plain": [
              "<Figure size 432x288 with 1 Axes>"
            ]
          },
          "metadata": {
            "tags": [],
            "needs_background": "light"
          }
        }
      ]
    },
    {
      "cell_type": "code",
      "metadata": {
        "colab": {
          "base_uri": "https://localhost:8080/",
          "height": 279
        },
        "id": "oyADQRCw-x7i",
        "outputId": "4959fd54-724d-41cc-c141-4463933206cb"
      },
      "source": [
        "sns.boxplot(x = 'value', y = 'variable', data = dataset.iloc[:, 11:21].drop(['mainhue'], axis = 1).melt())\n",
        "plt.show()"
      ],
      "execution_count": 24,
      "outputs": [
        {
          "output_type": "display_data",
          "data": {
            "image/png": "[encoded data removed]",
            "text/plain": [
              "<Figure size 432x288 with 1 Axes>"
            ]
          },
          "metadata": {
            "tags": [],
            "needs_background": "light"
          }
        }
      ]
    },
    {
      "cell_type": "code",
      "metadata": {
        "colab": {
          "base_uri": "https://localhost:8080/",
          "height": 279
        },
        "id": "q8sIGMEi-x7j",
        "outputId": "7267792c-6f9c-45c6-8739-73c9c4254457"
      },
      "source": [
        "sns.boxplot(x = 'value', y = 'variable', data = dataset.iloc[:, 21:31].melt())\n",
        "plt.show()"
      ],
      "execution_count": 25,
      "outputs": [
        {
          "output_type": "display_data",
          "data": {
            "image/png": "[encoded data removed]",
            "text/plain": [
              "<Figure size 432x288 with 1 Axes>"
            ]
          },
          "metadata": {
            "tags": [],
            "needs_background": "light"
          }
        }
      ]
    },
    {
      "cell_type": "markdown",
      "metadata": {
        "id": "gJUqJyow4Ece"
      },
      "source": [
        "Obtemos que a maioria dos outliers foram removidos."
      ]
    },
    {
      "cell_type": "markdown",
      "metadata": {
        "id": "Nw-Xdqa68dP5"
      },
      "source": [
        "**Selecionando as variáveis explicativas (features) mais significativas do modelo**\n",
        "\n",
        "Usamos o teste F para selecionar 80% das variáveis mais significativas da base de dados.\n",
        "\n",
        "[Fonte](https://minerandodados.com.br/feature-selection-bala-de-prata/)"
      ]
    },
    {
      "cell_type": "code",
      "metadata": {
        "id": "MEMpqVZZq4Kx"
      },
      "source": [
        "X = dataset.drop(['name', 'religion'], axis = 1)\n",
        "y = dataset['religion']"
      ],
      "execution_count": 26,
      "outputs": []
    },
    {
      "cell_type": "code",
      "metadata": {
        "colab": {
          "base_uri": "https://localhost:8080/",
          "height": 223
        },
        "id": "XGqVfFOPNGPM",
        "outputId": "48749c9f-c167-42a0-f702-0303ee07bfab"
      },
      "source": [
        "X.head()"
      ],
      "execution_count": 27,
      "outputs": [
        {
          "output_type": "execute_result",
          "data": {
            "text/html": [
              "<div>\n",
              "<style scoped>\n",
              "    .dataframe tbody tr th:only-of-type {\n",
              "        vertical-align: middle;\n",
              "    }\n",
              "\n",
              "    .dataframe tbody tr th {\n",
              "        vertical-align: top;\n",
              "    }\n",
              "\n",
              "    .dataframe thead th {\n",
              "        text-align: right;\n",
              "    }\n",
              "</style>\n",
              "<table border=\"1\" class=\"dataframe\">\n",
              "  <thead>\n",
              "    <tr style=\"text-align: right;\">\n",
              "      <th></th>\n",
              "      <th>landmass</th>\n",
              "      <th>zone</th>\n",
              "      <th>area</th>\n",
              "      <th>population</th>\n",
              "      <th>language</th>\n",
              "      <th>bars</th>\n",
              "      <th>stripes</th>\n",
              "      <th>colours</th>\n",
              "      <th>red</th>\n",
              "      <th>green</th>\n",
              "      <th>blue</th>\n",
              "      <th>gold</th>\n",
              "      <th>white</th>\n",
              "      <th>black</th>\n",
              "      <th>orange</th>\n",
              "      <th>mainhue</th>\n",
              "      <th>circles</th>\n",
              "      <th>crosses</th>\n",
              "      <th>saltires</th>\n",
              "      <th>quarters</th>\n",
              "      <th>sunstars</th>\n",
              "      <th>crescent</th>\n",
              "      <th>triangle</th>\n",
              "      <th>icon</th>\n",
              "      <th>animate</th>\n",
              "      <th>text</th>\n",
              "      <th>topleft</th>\n",
              "      <th>botright</th>\n",
              "    </tr>\n",
              "  </thead>\n",
              "  <tbody>\n",
              "    <tr>\n",
              "      <th>0</th>\n",
              "      <td>5</td>\n",
              "      <td>1</td>\n",
              "      <td>648</td>\n",
              "      <td>16</td>\n",
              "      <td>10</td>\n",
              "      <td>0</td>\n",
              "      <td>3</td>\n",
              "      <td>5</td>\n",
              "      <td>1</td>\n",
              "      <td>1</td>\n",
              "      <td>0</td>\n",
              "      <td>1</td>\n",
              "      <td>1</td>\n",
              "      <td>1</td>\n",
              "      <td>0</td>\n",
              "      <td>4</td>\n",
              "      <td>0</td>\n",
              "      <td>0</td>\n",
              "      <td>0</td>\n",
              "      <td>0</td>\n",
              "      <td>1</td>\n",
              "      <td>0</td>\n",
              "      <td>0</td>\n",
              "      <td>1</td>\n",
              "      <td>0</td>\n",
              "      <td>0</td>\n",
              "      <td>0</td>\n",
              "      <td>4</td>\n",
              "    </tr>\n",
              "    <tr>\n",
              "      <th>1</th>\n",
              "      <td>3</td>\n",
              "      <td>1</td>\n",
              "      <td>29</td>\n",
              "      <td>3</td>\n",
              "      <td>6</td>\n",
              "      <td>0</td>\n",
              "      <td>0</td>\n",
              "      <td>3</td>\n",
              "      <td>1</td>\n",
              "      <td>0</td>\n",
              "      <td>0</td>\n",
              "      <td>1</td>\n",
              "      <td>0</td>\n",
              "      <td>1</td>\n",
              "      <td>0</td>\n",
              "      <td>6</td>\n",
              "      <td>0</td>\n",
              "      <td>0</td>\n",
              "      <td>0</td>\n",
              "      <td>0</td>\n",
              "      <td>1</td>\n",
              "      <td>0</td>\n",
              "      <td>0</td>\n",
              "      <td>0</td>\n",
              "      <td>0</td>\n",
              "      <td>0</td>\n",
              "      <td>5</td>\n",
              "      <td>6</td>\n",
              "    </tr>\n",
              "    <tr>\n",
              "      <th>2</th>\n",
              "      <td>4</td>\n",
              "      <td>1</td>\n",
              "      <td>111</td>\n",
              "      <td>20</td>\n",
              "      <td>8</td>\n",
              "      <td>0</td>\n",
              "      <td>0</td>\n",
              "      <td>3</td>\n",
              "      <td>1</td>\n",
              "      <td>1</td>\n",
              "      <td>0</td>\n",
              "      <td>0</td>\n",
              "      <td>1</td>\n",
              "      <td>0</td>\n",
              "      <td>0</td>\n",
              "      <td>4</td>\n",
              "      <td>0</td>\n",
              "      <td>0</td>\n",
              "      <td>0</td>\n",
              "      <td>0</td>\n",
              "      <td>1</td>\n",
              "      <td>0</td>\n",
              "      <td>0</td>\n",
              "      <td>0</td>\n",
              "      <td>0</td>\n",
              "      <td>0</td>\n",
              "      <td>3</td>\n",
              "      <td>7</td>\n",
              "    </tr>\n",
              "    <tr>\n",
              "      <th>3</th>\n",
              "      <td>6</td>\n",
              "      <td>3</td>\n",
              "      <td>0</td>\n",
              "      <td>0</td>\n",
              "      <td>1</td>\n",
              "      <td>0</td>\n",
              "      <td>0</td>\n",
              "      <td>5</td>\n",
              "      <td>1</td>\n",
              "      <td>0</td>\n",
              "      <td>1</td>\n",
              "      <td>1</td>\n",
              "      <td>1</td>\n",
              "      <td>0</td>\n",
              "      <td>0</td>\n",
              "      <td>1</td>\n",
              "      <td>0</td>\n",
              "      <td>0</td>\n",
              "      <td>0</td>\n",
              "      <td>0</td>\n",
              "      <td>0</td>\n",
              "      <td>0</td>\n",
              "      <td>0</td>\n",
              "      <td>1</td>\n",
              "      <td>0</td>\n",
              "      <td>0</td>\n",
              "      <td>1</td>\n",
              "      <td>6</td>\n",
              "    </tr>\n",
              "    <tr>\n",
              "      <th>4</th>\n",
              "      <td>3</td>\n",
              "      <td>1</td>\n",
              "      <td>0</td>\n",
              "      <td>0</td>\n",
              "      <td>6</td>\n",
              "      <td>0</td>\n",
              "      <td>0</td>\n",
              "      <td>3</td>\n",
              "      <td>1</td>\n",
              "      <td>0</td>\n",
              "      <td>1</td>\n",
              "      <td>1</td>\n",
              "      <td>0</td>\n",
              "      <td>0</td>\n",
              "      <td>0</td>\n",
              "      <td>3</td>\n",
              "      <td>0</td>\n",
              "      <td>0</td>\n",
              "      <td>0</td>\n",
              "      <td>0</td>\n",
              "      <td>0</td>\n",
              "      <td>0</td>\n",
              "      <td>0</td>\n",
              "      <td>0</td>\n",
              "      <td>0</td>\n",
              "      <td>0</td>\n",
              "      <td>1</td>\n",
              "      <td>6</td>\n",
              "    </tr>\n",
              "  </tbody>\n",
              "</table>\n",
              "</div>"
            ],
            "text/plain": [
              "   landmass  zone  area  population  ...  animate  text  topleft  botright\n",
              "0         5     1   648          16  ...        0     0        0         4\n",
              "1         3     1    29           3  ...        0     0        5         6\n",
              "2         4     1   111          20  ...        0     0        3         7\n",
              "3         6     3     0           0  ...        0     0        1         6\n",
              "4         3     1     0           0  ...        0     0        1         6\n",
              "\n",
              "[5 rows x 28 columns]"
            ]
          },
          "metadata": {
            "tags": []
          },
          "execution_count": 27
        }
      ]
    },
    {
      "cell_type": "markdown",
      "metadata": {
        "id": "Uktbvf3Qj3WR"
      },
      "source": [
        "Aplicando o Teste F para escolher os 80% das variáveis mais significativas da base de dados."
      ]
    },
    {
      "cell_type": "code",
      "metadata": {
        "id": "xz5yVqIl8cnF",
        "colab": {
          "base_uri": "https://localhost:8080/",
          "height": 203
        },
        "outputId": "fdae1fe5-cd29-4904-e3d6-9f56d96cd612"
      },
      "source": [
        "# Aplicando o F-test\n",
        "from sklearn import feature_selection\n",
        "fs = feature_selection.SelectPercentile(feature_selection.f_classif, percentile = 80)\n",
        "\n",
        "X_treino_fs_80 = fs.fit_transform(X, y)\n",
        "\n",
        "X_80 = pd.DataFrame(X_treino_fs_80, columns = ['landmass', 'zone', 'area', 'population',\n",
        "                                               'language', 'stripes', 'colours', 'red',\n",
        "                                               'green', 'blue', 'gold', 'white', 'black',\n",
        "                                               'mainhue', 'sunstars', 'icon', 'topleft', 'botright'])\n",
        "X_80.head()"
      ],
      "execution_count": 28,
      "outputs": [
        {
          "output_type": "execute_result",
          "data": {
            "text/html": [
              "<div>\n",
              "<style scoped>\n",
              "    .dataframe tbody tr th:only-of-type {\n",
              "        vertical-align: middle;\n",
              "    }\n",
              "\n",
              "    .dataframe tbody tr th {\n",
              "        vertical-align: top;\n",
              "    }\n",
              "\n",
              "    .dataframe thead th {\n",
              "        text-align: right;\n",
              "    }\n",
              "</style>\n",
              "<table border=\"1\" class=\"dataframe\">\n",
              "  <thead>\n",
              "    <tr style=\"text-align: right;\">\n",
              "      <th></th>\n",
              "      <th>landmass</th>\n",
              "      <th>zone</th>\n",
              "      <th>area</th>\n",
              "      <th>population</th>\n",
              "      <th>language</th>\n",
              "      <th>stripes</th>\n",
              "      <th>colours</th>\n",
              "      <th>red</th>\n",
              "      <th>green</th>\n",
              "      <th>blue</th>\n",
              "      <th>gold</th>\n",
              "      <th>white</th>\n",
              "      <th>black</th>\n",
              "      <th>mainhue</th>\n",
              "      <th>sunstars</th>\n",
              "      <th>icon</th>\n",
              "      <th>topleft</th>\n",
              "      <th>botright</th>\n",
              "    </tr>\n",
              "  </thead>\n",
              "  <tbody>\n",
              "    <tr>\n",
              "      <th>0</th>\n",
              "      <td>5</td>\n",
              "      <td>1</td>\n",
              "      <td>648</td>\n",
              "      <td>16</td>\n",
              "      <td>10</td>\n",
              "      <td>3</td>\n",
              "      <td>5</td>\n",
              "      <td>1</td>\n",
              "      <td>1</td>\n",
              "      <td>0</td>\n",
              "      <td>1</td>\n",
              "      <td>1</td>\n",
              "      <td>1</td>\n",
              "      <td>4</td>\n",
              "      <td>1</td>\n",
              "      <td>1</td>\n",
              "      <td>0</td>\n",
              "      <td>4</td>\n",
              "    </tr>\n",
              "    <tr>\n",
              "      <th>1</th>\n",
              "      <td>3</td>\n",
              "      <td>1</td>\n",
              "      <td>29</td>\n",
              "      <td>3</td>\n",
              "      <td>6</td>\n",
              "      <td>0</td>\n",
              "      <td>3</td>\n",
              "      <td>1</td>\n",
              "      <td>0</td>\n",
              "      <td>0</td>\n",
              "      <td>1</td>\n",
              "      <td>0</td>\n",
              "      <td>1</td>\n",
              "      <td>6</td>\n",
              "      <td>1</td>\n",
              "      <td>0</td>\n",
              "      <td>5</td>\n",
              "      <td>6</td>\n",
              "    </tr>\n",
              "    <tr>\n",
              "      <th>2</th>\n",
              "      <td>4</td>\n",
              "      <td>1</td>\n",
              "      <td>111</td>\n",
              "      <td>20</td>\n",
              "      <td>8</td>\n",
              "      <td>0</td>\n",
              "      <td>3</td>\n",
              "      <td>1</td>\n",
              "      <td>1</td>\n",
              "      <td>0</td>\n",
              "      <td>0</td>\n",
              "      <td>1</td>\n",
              "      <td>0</td>\n",
              "      <td>4</td>\n",
              "      <td>1</td>\n",
              "      <td>0</td>\n",
              "      <td>3</td>\n",
              "      <td>7</td>\n",
              "    </tr>\n",
              "    <tr>\n",
              "      <th>3</th>\n",
              "      <td>6</td>\n",
              "      <td>3</td>\n",
              "      <td>0</td>\n",
              "      <td>0</td>\n",
              "      <td>1</td>\n",
              "      <td>0</td>\n",
              "      <td>5</td>\n",
              "      <td>1</td>\n",
              "      <td>0</td>\n",
              "      <td>1</td>\n",
              "      <td>1</td>\n",
              "      <td>1</td>\n",
              "      <td>0</td>\n",
              "      <td>1</td>\n",
              "      <td>0</td>\n",
              "      <td>1</td>\n",
              "      <td>1</td>\n",
              "      <td>6</td>\n",
              "    </tr>\n",
              "    <tr>\n",
              "      <th>4</th>\n",
              "      <td>3</td>\n",
              "      <td>1</td>\n",
              "      <td>0</td>\n",
              "      <td>0</td>\n",
              "      <td>6</td>\n",
              "      <td>0</td>\n",
              "      <td>3</td>\n",
              "      <td>1</td>\n",
              "      <td>0</td>\n",
              "      <td>1</td>\n",
              "      <td>1</td>\n",
              "      <td>0</td>\n",
              "      <td>0</td>\n",
              "      <td>3</td>\n",
              "      <td>0</td>\n",
              "      <td>0</td>\n",
              "      <td>1</td>\n",
              "      <td>6</td>\n",
              "    </tr>\n",
              "  </tbody>\n",
              "</table>\n",
              "</div>"
            ],
            "text/plain": [
              "   landmass  zone  area  population  ...  sunstars  icon  topleft  botright\n",
              "0         5     1   648          16  ...         1     1        0         4\n",
              "1         3     1    29           3  ...         1     0        5         6\n",
              "2         4     1   111          20  ...         1     0        3         7\n",
              "3         6     3     0           0  ...         0     1        1         6\n",
              "4         3     1     0           0  ...         0     0        1         6\n",
              "\n",
              "[5 rows x 18 columns]"
            ]
          },
          "metadata": {
            "tags": []
          },
          "execution_count": 28
        }
      ]
    },
    {
      "cell_type": "markdown",
      "metadata": {
        "id": "NkWk6DoTq4Kx"
      },
      "source": [
        "**Normalizando os dados**"
      ]
    },
    {
      "cell_type": "markdown",
      "metadata": {
        "id": "6znvTkUtBpkm"
      },
      "source": [
        "Nesta etapa, normalizamos os dados tento usando os dados completos ($X$) como usando somente 80% das variáveis mais significativas ($X_{80}$)."
      ]
    },
    {
      "cell_type": "code",
      "metadata": {
        "id": "totM2ifOq4Kx"
      },
      "source": [
        "from sklearn.preprocessing import StandardScaler\n",
        "\n",
        "scaler = StandardScaler()\n",
        "X_norm = pd.DataFrame(scaler.fit_transform(X), columns = X.columns)\n",
        "X_80_norm = pd.DataFrame(scaler.fit_transform(X_80), columns = X_80.columns)"
      ],
      "execution_count": 29,
      "outputs": []
    },
    {
      "cell_type": "markdown",
      "metadata": {
        "id": "ddvgARVHq4Ky"
      },
      "source": [
        "**Dados de treinamento e teste**\n",
        "\n",
        "Agora separamos os dados em dados de treinamento e teste."
      ]
    },
    {
      "cell_type": "code",
      "metadata": {
        "colab": {
          "base_uri": "https://localhost:8080/"
        },
        "id": "fqNP2QdGKcPN",
        "outputId": "cebdfe7e-0464-4683-eb0a-a87799e5cb5b"
      },
      "source": [
        "# 80% da variáveis mais significativas\n",
        "X_80_train_norm, X_80_test_norm, y_train, y_test = train_test_split(X_80_norm, y, test_size = 0.20, random_state = 376)\n",
        "\n",
        "print('Tamanho dos dados - X_80_train_norm: {}, X_80_test_norm: {}, y_train: {}, y_test: {}'.format(X_80_train_norm.shape, X_80_test_norm.shape, y_train.shape, y_test.shape))"
      ],
      "execution_count": 30,
      "outputs": [
        {
          "output_type": "stream",
          "text": [
            "Tamanho dos dados - X_80_train_norm: (155, 18), X_80_test_norm: (39, 18), y_train: (155,), y_test: (39,)\n"
          ],
          "name": "stdout"
        }
      ]
    },
    {
      "cell_type": "code",
      "metadata": {
        "colab": {
          "base_uri": "https://localhost:8080/"
        },
        "id": "twlP_k9q_eQG",
        "outputId": "ae598216-b4d0-4404-8835-829536d1c351"
      },
      "source": [
        "# todos os dados\n",
        "X_train_norm, X_test_norm, y_train, y_test = train_test_split(X_norm, y, test_size = 0.20, random_state = 376)\n",
        "\n",
        "print('Tamanho dos dados - X_train_norm: {}, X_test_norm: {}, y_train: {}, y_test: {}'.format(X_train_norm.shape, X_test_norm.shape, y_train.shape, y_test.shape))"
      ],
      "execution_count": 31,
      "outputs": [
        {
          "output_type": "stream",
          "text": [
            "Tamanho dos dados - X_train_norm: (155, 28), X_test_norm: (39, 28), y_train: (155,), y_test: (39,)\n"
          ],
          "name": "stdout"
        }
      ]
    },
    {
      "cell_type": "markdown",
      "metadata": {
        "id": "Lbnwz6Tqq4Ky"
      },
      "source": [
        "### **Criando modelo e treinando com os dados de treino**"
      ]
    },
    {
      "cell_type": "markdown",
      "metadata": {
        "id": "nytL6-ZKtGrb"
      },
      "source": [
        "Aplicando o modelo de Redes Neurais perceptron multicamadas (MLP), usando dez camadas escondidas (hidden layer), com função de ativação a função relu e para resolver a otimização usa-se o Gradiente Descendente Estocástico (sgd)."
      ]
    },
    {
      "cell_type": "markdown",
      "metadata": {
        "id": "7-Tl7XiSCOpe"
      },
      "source": [
        "Aplicação do modelo MLP."
      ]
    },
    {
      "cell_type": "code",
      "metadata": {
        "colab": {
          "base_uri": "https://localhost:8080/"
        },
        "id": "h_0TO3oTq4Kz",
        "outputId": "d5ea5123-dead-4208-c0ad-dad3b773b17e"
      },
      "source": [
        "# biblioteca para trabalhar com redes neurais\n",
        "from sklearn.neural_network import MLPClassifier\n",
        "\n",
        "# solver: resolvedor da otimização\n",
        "# hidden_layer_sizes: quantidade de neurônios na camada escondida - neste caso vamos ter somente uma camada escondida\n",
        "#     uma tupla em que cada elemento (número) que colocamos é a quantidade de elementos na camada escondida \n",
        "# learning_rate_init: taxa de aprendizagem inicial\n",
        "# activation: função de ativação para o neurônios\n",
        "# max_iter: número máximo de iterações\n",
        "# random_state: semente de geração aleatória de pesos e bias de inicialização\n",
        "rd_classifier = MLPClassifier(solver = 'sgd', hidden_layer_sizes = (10, ),\n",
        "                              learning_rate_init = 0.01, activation = 'relu',\n",
        "                              max_iter = 1500, random_state = 376) # random_state = 376\n",
        "\n",
        "rd_classifier.fit(X_80_train_norm, y_train)"
      ],
      "execution_count": 32,
      "outputs": [
        {
          "output_type": "execute_result",
          "data": {
            "text/plain": [
              "MLPClassifier(activation='relu', alpha=0.0001, batch_size='auto', beta_1=0.9,\n",
              "              beta_2=0.999, early_stopping=False, epsilon=1e-08,\n",
              "              hidden_layer_sizes=(10,), learning_rate='constant',\n",
              "              learning_rate_init=0.01, max_fun=15000, max_iter=1500,\n",
              "              momentum=0.9, n_iter_no_change=10, nesterovs_momentum=True,\n",
              "              power_t=0.5, random_state=376, shuffle=True, solver='sgd',\n",
              "              tol=0.0001, validation_fraction=0.1, verbose=False,\n",
              "              warm_start=False)"
            ]
          },
          "metadata": {
            "tags": []
          },
          "execution_count": 32
        }
      ]
    },
    {
      "cell_type": "markdown",
      "metadata": {
        "id": "RmkCBeAECT-g"
      },
      "source": [
        "Predição da probailidade de cada país pertencer a cada classe de religião."
      ]
    },
    {
      "cell_type": "code",
      "metadata": {
        "id": "urSgXgUas-Xz"
      },
      "source": [
        "# predict_proba: probabilidade de cada elemento ser daquela classe\n",
        "y_pred = rd_classifier.predict_proba(X_80_test_norm)\n",
        "y_pred;"
      ],
      "execution_count": 33,
      "outputs": []
    },
    {
      "cell_type": "markdown",
      "metadata": {
        "id": "BrP_wm7vCefd"
      },
      "source": [
        "Escolhendo como religião do país a classe com maior probabilidade."
      ]
    },
    {
      "cell_type": "code",
      "metadata": {
        "colab": {
          "base_uri": "https://localhost:8080/"
        },
        "id": "gQKUqvyqq4Kz",
        "outputId": "db409831-b6f3-459a-e936-a76588d544e0"
      },
      "source": [
        "# classe em que o elemento foi predito\n",
        "classe_pred = np.argmax(y_pred, 1)\n",
        "classe_pred"
      ],
      "execution_count": 34,
      "outputs": [
        {
          "output_type": "execute_result",
          "data": {
            "text/plain": [
              "array([1, 5, 5, 6, 0, 1, 0, 1, 2, 2, 1, 1, 1, 2, 5, 1, 2, 2, 2, 1, 0, 5,\n",
              "       0, 0, 0, 0, 1, 2, 1, 1, 5, 2, 6, 1, 2, 2, 6, 1, 0])"
            ]
          },
          "metadata": {
            "tags": []
          },
          "execution_count": 34
        }
      ]
    },
    {
      "cell_type": "markdown",
      "metadata": {
        "id": "EzbSyvn3q4K0"
      },
      "source": [
        "Acurácua da predição do modelo Rede Neurais"
      ]
    },
    {
      "cell_type": "code",
      "metadata": {
        "colab": {
          "base_uri": "https://localhost:8080/"
        },
        "id": "EWAVK-Pfq4K1",
        "outputId": "077e8743-f8cb-44d5-972d-2296dcaa689a"
      },
      "source": [
        "from sklearn.metrics import accuracy_score\n",
        "from sklearn.preprocessing import LabelEncoder\n",
        "le = LabelEncoder()\n",
        "\n",
        "round(accuracy_score(le.fit_transform(y_test), classe_pred), 4)"
      ],
      "execution_count": 35,
      "outputs": [
        {
          "output_type": "execute_result",
          "data": {
            "text/plain": [
              "0.6154"
            ]
          },
          "metadata": {
            "tags": []
          },
          "execution_count": 35
        }
      ]
    },
    {
      "cell_type": "code",
      "metadata": {
        "colab": {
          "base_uri": "https://localhost:8080/",
          "height": 554
        },
        "id": "ryUQatV7800V",
        "outputId": "0159662b-e668-4787-c360-fea2b40d2ad6"
      },
      "source": [
        "from sklearn.metrics import confusion_matrix\n",
        "cm = pd.DataFrame((pd.crosstab(y_test, classe_pred,\n",
        "                               rownames = ['Real'], colnames = ['Predito'])))\n",
        "cm = confusion_matrix(y_test, classe_pred)\n",
        "sns.heatmap(cm, annot = True)\n",
        "plt.show()\n",
        "print('\\n')\n",
        "print(classification_report(y_test, classe_pred))"
      ],
      "execution_count": 36,
      "outputs": [
        {
          "output_type": "display_data",
          "data": {
            "image/png": "[encoded data removed]",
            "text/plain": [
              "<Figure size 432x288 with 2 Axes>"
            ]
          },
          "metadata": {
            "tags": [],
            "needs_background": "light"
          }
        },
        {
          "output_type": "stream",
          "text": [
            "\n",
            "\n",
            "              precision    recall  f1-score   support\n",
            "\n",
            "           0       0.50      0.80      0.62         5\n",
            "           1       0.69      0.82      0.75        11\n",
            "           2       0.60      0.67      0.63         9\n",
            "           3       0.00      0.00      0.00         1\n",
            "           4       0.00      0.00      0.00         1\n",
            "           5       0.80      0.57      0.67         7\n",
            "           6       0.33      0.50      0.40         2\n",
            "           7       0.00      0.00      0.00         3\n",
            "\n",
            "    accuracy                           0.62        39\n",
            "   macro avg       0.37      0.42      0.38        39\n",
            "weighted avg       0.56      0.62      0.58        39\n",
            "\n"
          ],
          "name": "stdout"
        }
      ]
    },
    {
      "cell_type": "markdown",
      "metadata": {
        "id": "utpnFUIdCl9W"
      },
      "source": [
        "Após aplicado o modelo MLP, obntenmos uma acurácia de $62\\%$."
      ]
    },
    {
      "cell_type": "markdown",
      "metadata": {
        "id": "2QYcAA-fq4K1"
      },
      "source": [
        "### **Obtendo o melhor modelo usando Grid Search e Cross Validation**"
      ]
    },
    {
      "cell_type": "markdown",
      "metadata": {
        "id": "hPZ4pIGjCx0u"
      },
      "source": [
        "Em seguida usamos GridSearch com Cross Validation para tunar os parâmetros do modelo MLP, e obter os melhores parâmetros para os dados sobre bandeira e religião."
      ]
    },
    {
      "cell_type": "code",
      "metadata": {
        "colab": {
          "base_uri": "https://localhost:8080/",
          "height": 588
        },
        "id": "CeIlEa39q4K1",
        "outputId": "df51fc85-033b-476e-d0a5-5d575cde5f20"
      },
      "source": [
        "from sklearn.model_selection import GridSearchCV\n",
        "from sklearn.metrics import confusion_matrix\n",
        "import time\n",
        "\n",
        "ini = time.time()\n",
        "tuned_parameters = [\n",
        "    [{'solver': ['lbfgs', 'sgd', 'adam'], 'activation': ['identity', 'logistic', 'tanh', 'relu'],\n",
        "      'learning_rate_init': [0.001, 0.01, 0.1], 'max_iter': [1500],\n",
        "      'random_state': [376], 'hidden_layer_sizes': [(10, ), (20, )]\n",
        "      }]\n",
        "]\n",
        "\n",
        "rd_classifier = GridSearchCV(MLPClassifier(), tuned_parameters[0], cv = 5, scoring = 'accuracy')\n",
        "rd_classifier.fit(X_80_train_norm, y_train)\n",
        "y_pred = rd_classifier.predict(X_80_test_norm)\n",
        "\n",
        "print(\"Melhores parâmetros:\\n\")\n",
        "print(rd_classifier.best_params_)\n",
        "\n",
        "cm = confusion_matrix(y_test, y_pred)\n",
        "sns.heatmap(cm, annot = True)\n",
        "plt.show()\n",
        "\n",
        "print(classification_report(y_test, y_pred))\n",
        "\n",
        "fim = time.time()\n",
        "print (\"Tempo de execução: {} minutos.\".format((fim - ini) / 60))"
      ],
      "execution_count": 37,
      "outputs": [
        {
          "output_type": "stream",
          "text": [
            "Melhores parâmetros:\n",
            "\n",
            "{'activation': 'tanh', 'hidden_layer_sizes': (20,), 'learning_rate_init': 0.001, 'max_iter': 1500, 'random_state': 376, 'solver': 'sgd'}\n"
          ],
          "name": "stdout"
        },
        {
          "output_type": "display_data",
          "data": {
            "image/png": "[encoded data removed]",
            "text/plain": [
              "<Figure size 432x288 with 2 Axes>"
            ]
          },
          "metadata": {
            "tags": [],
            "needs_background": "light"
          }
        },
        {
          "output_type": "stream",
          "text": [
            "              precision    recall  f1-score   support\n",
            "\n",
            "           0       0.50      0.60      0.55         5\n",
            "           1       0.53      0.73      0.62        11\n",
            "           2       0.50      0.56      0.53         9\n",
            "           3       0.00      0.00      0.00         1\n",
            "           4       0.00      0.00      0.00         1\n",
            "           5       0.50      0.29      0.36         7\n",
            "           6       0.50      1.00      0.67         2\n",
            "           7       0.00      0.00      0.00         3\n",
            "\n",
            "    accuracy                           0.51        39\n",
            "   macro avg       0.32      0.40      0.34        39\n",
            "weighted avg       0.45      0.51      0.46        39\n",
            "\n",
            "Tempo de execução: 1.9761029521624247 minutos.\n"
          ],
          "name": "stdout"
        }
      ]
    },
    {
      "cell_type": "markdown",
      "metadata": {
        "id": "V3F6vAVy-Edg"
      },
      "source": [
        "Ajustando os parâmetros do modelo e usando GridSearch, o melhor modelo que obtemos teve uma acurácia de 62%."
      ]
    },
    {
      "cell_type": "markdown",
      "metadata": {
        "id": "H1i5IyLCw1Tp"
      },
      "source": [
        "### **Outros modelos**\n",
        "\n",
        "Aplicando outros modelos para saber se obtém melhores resultados. Os modelos usados para comparação foram Regressão Logística, KNN, Árvore de Decisão, Floresta Aleatória e Máquina de Vetor Suporte."
      ]
    },
    {
      "cell_type": "markdown",
      "metadata": {
        "id": "gdhORSgeDNn-"
      },
      "source": [
        "Primeiramente para a base de dados com todas as variáveis. Estas normalizadas."
      ]
    },
    {
      "cell_type": "code",
      "metadata": {
        "colab": {
          "base_uri": "https://localhost:8080/",
          "height": 1000
        },
        "id": "U4NUZL8w_rST",
        "outputId": "5efb51f6-bf98-4e44-8390-7516668a8f40"
      },
      "source": [
        "from sklearn.model_selection import GridSearchCV\n",
        "from sklearn.linear_model import LogisticRegression\n",
        "from sklearn.neighbors import KNeighborsClassifier\n",
        "from sklearn.tree import DecisionTreeClassifier\n",
        "from sklearn.ensemble import RandomForestClassifier\n",
        "from sklearn.svm import SVC\n",
        "import time\n",
        "\n",
        "ini = time.time()\n",
        "# df = pd.DataFrame(np.random.rand(4,5),\n",
        "#                   columns=[\"Nome\", \"Acurácia\", \"Recall\",\n",
        "#                            \"Especificidade\", \"Precisão\"])\n",
        "\n",
        "metodos_names = ['Regressão Logística', 'KNN', 'Árvore de Decisão', 'Floresta Aleatória'] # 'SVM Polinomial', 'SVM', \n",
        "df1 = pd.DataFrame(np.random.rand(len(metodos_names), 3), columns = [\"Modelo\", \"Acurácia\", \"Tempo\"])\n",
        "\n",
        "# Lista de hyperpatametros para tunar.\n",
        "n_neighbors = list(range(1,30))\n",
        "p = [1,2]\n",
        "tuned_parameters = [\n",
        "    [{ 'C':[0.1, 1, 100, 1000], 'kernel':['linear', 'poly', 'rbf', 'sigmoid'],\n",
        "      'degree':[1, 2, 3, 4, 5, 6], 'gamma': [1, 0.1, 0.01, 0.001, 0.0001]}],\n",
        "    [{'kernel': ['poly'], 'degree': [1, 2, 3, 4, 5, 6], 'gamma': ['auto', 'scale']},\n",
        "     {'kernel': ['rbf'], 'C': [0.1, 1, 10, 100], 'gamma': ['auto', 'scale']}],\n",
        "    [{'penalty': ['l1', 'l2', 'elasticnet', 'none'], 'C':  [0.01, 0.1, 1.0, 10, 100],\n",
        "      'solver': ['newton-cg', 'lbfgs', 'liblinear', 'sag', 'saga']}], # 'max_iter': [1000]}],\n",
        "    [{'n_neighbors': n_neighbors, 'metric': ['euclidean', 'manhattan', 'minkowski'],\n",
        "      'p': [1, 2], 'weights': ['uniform', 'distance']}],\n",
        "    [{'criterion': ['gini', 'entropy'], 'max_depth': list(range(1, 50)), 'splitter': ['best', 'random'],\n",
        "      'max_features': ['auto', 'sqrt', 'log2'], 'min_samples_split': [1, 5, 10],\n",
        "      'min_samples_leaf': [1, 5, 10]}],\n",
        "    [{'criterion': ['gini', 'entropy'], 'max_depth': [5, 20, 50],\n",
        "      'max_features': ['auto', 'sqrt'], 'min_samples_split': [2, 4], 'min_samples_leaf': [1, 5]}]\n",
        "       # 'min_samples_split': [2, 4, 6], 'min_samples_leaf': [1, 5, 10], 'n_estimators': [10, 100, 1000]\n",
        "]\n",
        "\n",
        "c = 2\n",
        "for cl in [LogisticRegression, KNeighborsClassifier, DecisionTreeClassifier, RandomForestClassifier]: # SVC\n",
        "    classifier = GridSearchCV(cl(), tuned_parameters[c], cv = 5, scoring = 'accuracy')\n",
        "    classifier.fit(X_train_norm, y_train)\n",
        "    y_pred = classifier.predict(X_test_norm)\n",
        "\n",
        "    fim = time.time()\n",
        "\n",
        "    print(\"Modelo: {}\".format(metodos_names[c-2]))\n",
        "    print(\"Melhores parâmetros: {}\".format(classifier.best_params_))\n",
        "    print(\"Tempo de execução: {} minutos.\".format((fim - ini) / 60))\n",
        "\n",
        "    print('\\n')\n",
        "    cm = pd.DataFrame((pd.crosstab(y_test, y_pred,\n",
        "                                   rownames = ['Real'], colnames = ['Predito'])))\n",
        "    sns.heatmap(cm, annot = True)\n",
        "    plt.show()\n",
        "\n",
        "    print('\\n')\n",
        "    print(classification_report(y_test, y_pred))\n",
        "\n",
        "    df1.iloc[c-2, 0] = metodos_names[c-2]\n",
        "    df1.iloc[c-2, 1] = accuracy_score(y_test.astype('int'), y_pred.astype('int'))\n",
        "    df1.iloc[c-2, 2] = (fim - ini) / 60\n",
        "\n",
        "    c = c + 1\n",
        "    \n",
        "df1"
      ],
      "execution_count": 38,
      "outputs": [
        {
          "output_type": "stream",
          "text": [
            "Modelo: Regressão Logística\n",
            "Melhores parâmetros: {'C': 0.1, 'penalty': 'l2', 'solver': 'newton-cg'}\n",
            "Tempo de execução: 0.38496150573094684 minutos.\n",
            "\n",
            "\n"
          ],
          "name": "stdout"
        },
        {
          "output_type": "display_data",
          "data": {
            "image/png": "[encoded data removed]",
            "text/plain": [
              "<Figure size 432x288 with 2 Axes>"
            ]
          },
          "metadata": {
            "tags": [],
            "needs_background": "light"
          }
        },
        {
          "output_type": "stream",
          "text": [
            "\n",
            "\n",
            "              precision    recall  f1-score   support\n",
            "\n",
            "           0       0.50      0.60      0.55         5\n",
            "           1       0.50      0.73      0.59        11\n",
            "           2       0.60      0.67      0.63         9\n",
            "           3       0.00      0.00      0.00         1\n",
            "           4       0.00      0.00      0.00         1\n",
            "           5       0.75      0.43      0.55         7\n",
            "           6       0.33      0.50      0.40         2\n",
            "           7       0.00      0.00      0.00         3\n",
            "\n",
            "    accuracy                           0.54        39\n",
            "   macro avg       0.34      0.37      0.34        39\n",
            "weighted avg       0.50      0.54      0.50        39\n",
            "\n",
            "Modelo: KNN\n",
            "Melhores parâmetros: {'metric': 'manhattan', 'n_neighbors': 1, 'p': 1, 'weights': 'uniform'}\n",
            "Tempo de execução: 0.5180901328722636 minutos.\n",
            "\n",
            "\n"
          ],
          "name": "stdout"
        },
        {
          "output_type": "display_data",
          "data": {
            "image/png": "[encoded data removed]",
            "text/plain": [
              "<Figure size 432x288 with 2 Axes>"
            ]
          },
          "metadata": {
            "tags": [],
            "needs_background": "light"
          }
        },
        {
          "output_type": "stream",
          "text": [
            "\n",
            "\n",
            "              precision    recall  f1-score   support\n",
            "\n",
            "           0       0.40      0.40      0.40         5\n",
            "           1       0.50      0.64      0.56        11\n",
            "           2       0.58      0.78      0.67         9\n",
            "           3       0.00      0.00      0.00         1\n",
            "           4       0.00      0.00      0.00         1\n",
            "           5       1.00      0.14      0.25         7\n",
            "           6       0.33      1.00      0.50         2\n",
            "           7       0.00      0.00      0.00         3\n",
            "\n",
            "    accuracy                           0.49        39\n",
            "   macro avg       0.35      0.37      0.30        39\n",
            "weighted avg       0.52      0.49      0.43        39\n",
            "\n",
            "Modelo: Árvore de Decisão\n",
            "Melhores parâmetros: {'criterion': 'entropy', 'max_depth': 8, 'max_features': 'log2', 'min_samples_leaf': 5, 'min_samples_split': 5, 'splitter': 'best'}\n",
            "Tempo de execução: 1.574299152692159 minutos.\n",
            "\n",
            "\n"
          ],
          "name": "stdout"
        },
        {
          "output_type": "display_data",
          "data": {
            "image/png": "[encoded data removed]",
            "text/plain": [
              "<Figure size 432x288 with 2 Axes>"
            ]
          },
          "metadata": {
            "tags": [],
            "needs_background": "light"
          }
        },
        {
          "output_type": "stream",
          "text": [
            "\n",
            "\n",
            "              precision    recall  f1-score   support\n",
            "\n",
            "           0       0.33      0.60      0.43         5\n",
            "           1       0.62      0.73      0.67        11\n",
            "           2       0.60      0.33      0.43         9\n",
            "           3       0.20      1.00      0.33         1\n",
            "           4       0.00      0.00      0.00         1\n",
            "           5       0.57      0.57      0.57         7\n",
            "           6       0.00      0.00      0.00         2\n",
            "           7       0.00      0.00      0.00         3\n",
            "\n",
            "    accuracy                           0.49        39\n",
            "   macro avg       0.29      0.40      0.30        39\n",
            "weighted avg       0.46      0.49      0.45        39\n",
            "\n",
            "Modelo: Floresta Aleatória\n",
            "Melhores parâmetros: {'criterion': 'gini', 'max_depth': 20, 'max_features': 'sqrt', 'min_samples_leaf': 1, 'min_samples_split': 2}\n",
            "Tempo de execução: 2.1566182096799213 minutos.\n",
            "\n",
            "\n"
          ],
          "name": "stdout"
        },
        {
          "output_type": "display_data",
          "data": {
            "image/png": "[encoded data removed]",
            "text/plain": [
              "<Figure size 432x288 with 2 Axes>"
            ]
          },
          "metadata": {
            "tags": [],
            "needs_background": "light"
          }
        },
        {
          "output_type": "stream",
          "text": [
            "\n",
            "\n",
            "              precision    recall  f1-score   support\n",
            "\n",
            "           0       0.57      0.80      0.67         5\n",
            "           1       0.73      0.73      0.73        11\n",
            "           2       0.62      0.89      0.73         9\n",
            "           3       0.00      0.00      0.00         1\n",
            "           4       0.00      0.00      0.00         1\n",
            "           5       0.80      0.57      0.67         7\n",
            "           6       0.50      0.50      0.50         2\n",
            "           7       0.00      0.00      0.00         3\n",
            "\n",
            "    accuracy                           0.64        39\n",
            "   macro avg       0.40      0.44      0.41        39\n",
            "weighted avg       0.59      0.64      0.60        39\n",
            "\n"
          ],
          "name": "stdout"
        },
        {
          "output_type": "execute_result",
          "data": {
            "text/html": [
              "<div>\n",
              "<style scoped>\n",
              "    .dataframe tbody tr th:only-of-type {\n",
              "        vertical-align: middle;\n",
              "    }\n",
              "\n",
              "    .dataframe tbody tr th {\n",
              "        vertical-align: top;\n",
              "    }\n",
              "\n",
              "    .dataframe thead th {\n",
              "        text-align: right;\n",
              "    }\n",
              "</style>\n",
              "<table border=\"1\" class=\"dataframe\">\n",
              "  <thead>\n",
              "    <tr style=\"text-align: right;\">\n",
              "      <th></th>\n",
              "      <th>Modelo</th>\n",
              "      <th>Acurácia</th>\n",
              "      <th>Tempo</th>\n",
              "    </tr>\n",
              "  </thead>\n",
              "  <tbody>\n",
              "    <tr>\n",
              "      <th>0</th>\n",
              "      <td>Regressão Logística</td>\n",
              "      <td>0.538462</td>\n",
              "      <td>0.384962</td>\n",
              "    </tr>\n",
              "    <tr>\n",
              "      <th>1</th>\n",
              "      <td>KNN</td>\n",
              "      <td>0.487179</td>\n",
              "      <td>0.518090</td>\n",
              "    </tr>\n",
              "    <tr>\n",
              "      <th>2</th>\n",
              "      <td>Árvore de Decisão</td>\n",
              "      <td>0.487179</td>\n",
              "      <td>1.574299</td>\n",
              "    </tr>\n",
              "    <tr>\n",
              "      <th>3</th>\n",
              "      <td>Floresta Aleatória</td>\n",
              "      <td>0.641026</td>\n",
              "      <td>2.156618</td>\n",
              "    </tr>\n",
              "  </tbody>\n",
              "</table>\n",
              "</div>"
            ],
            "text/plain": [
              "                Modelo  Acurácia     Tempo\n",
              "0  Regressão Logística  0.538462  0.384962\n",
              "1                  KNN  0.487179  0.518090\n",
              "2    Árvore de Decisão  0.487179  1.574299\n",
              "3   Floresta Aleatória  0.641026  2.156618"
            ]
          },
          "metadata": {
            "tags": []
          },
          "execution_count": 38
        }
      ]
    },
    {
      "cell_type": "markdown",
      "metadata": {
        "id": "UZ6F5jTcDZH9"
      },
      "source": [
        "E para a base usando 80% das variáveis mais significatvas, tambpem com os dados normalizados."
      ]
    },
    {
      "cell_type": "code",
      "metadata": {
        "colab": {
          "base_uri": "https://localhost:8080/",
          "height": 1000
        },
        "id": "2bCEXRBywzSx",
        "outputId": "3c8be1c2-4eac-456a-87e1-78d6ed381e45"
      },
      "source": [
        "from sklearn.model_selection import GridSearchCV\n",
        "from sklearn.linear_model import LogisticRegression\n",
        "from sklearn.neighbors import KNeighborsClassifier\n",
        "from sklearn.tree import DecisionTreeClassifier\n",
        "from sklearn.ensemble import RandomForestClassifier\n",
        "from sklearn.svm import SVC\n",
        "import time\n",
        "\n",
        "ini = time.time()\n",
        "# df = pd.DataFrame(np.random.rand(4,5),\n",
        "#                   columns=[\"Nome\", \"Acurácia\", \"Recall\",\n",
        "#                            \"Especificidade\", \"Precisão\"])\n",
        "\n",
        "metodos_names = ['Regressão Logística', 'KNN', 'Árvore de Decisão', 'Floresta Aleatória'] # 'SVM Polinomial', 'SVM', \n",
        "df2 = pd.DataFrame(np.random.rand(len(metodos_names), 3), columns = [\"Modelo\", \"Acurácia\", \"Tempo\"])\n",
        "\n",
        "# Lista de hyperpatametros para tunar.\n",
        "n_neighbors = list(range(1,30))\n",
        "p = [1,2]\n",
        "tuned_parameters = [\n",
        "    [{ 'C':[0.1, 1, 100, 1000], 'kernel':['linear', 'poly', 'rbf', 'sigmoid'],\n",
        "      'degree':[1, 2, 3, 4, 5, 6], 'gamma': [1, 0.1, 0.01, 0.001, 0.0001]}],\n",
        "    [{'kernel': ['poly'], 'degree': [1, 2, 3, 4, 5, 6], 'gamma': ['auto', 'scale']},\n",
        "     {'kernel': ['rbf'], 'C': [0.1, 1, 10, 100], 'gamma': ['auto', 'scale']}],\n",
        "    [{'penalty': ['l1', 'l2', 'elasticnet', 'none'], 'C':  [0.01, 0.1, 1.0, 10, 100],\n",
        "      'solver': ['newton-cg', 'lbfgs', 'liblinear', 'sag', 'saga']}], # 'max_iter': [1000]}],\n",
        "    [{'n_neighbors': n_neighbors, 'metric': ['euclidean', 'manhattan', 'minkowski'],\n",
        "      'p': [1, 2], 'weights': ['uniform', 'distance']}],\n",
        "    [{'criterion': ['gini', 'entropy'], 'max_depth': list(range(1, 50)), 'splitter': ['best', 'random'],\n",
        "      'max_features': ['auto', 'sqrt', 'log2'], 'min_samples_split': [1, 5, 10],\n",
        "      'min_samples_leaf': [1, 5, 10]}],\n",
        "    [{'criterion': ['gini', 'entropy'], 'max_depth': [5, 20, 50],\n",
        "      'max_features': ['auto', 'sqrt'], 'min_samples_split': [2, 4], 'min_samples_leaf': [1, 5]}]\n",
        "       # 'min_samples_split': [2, 4, 6], 'min_samples_leaf': [1, 5, 10], 'n_estimators': [10, 100, 1000]\n",
        "]\n",
        "\n",
        "c = 2\n",
        "for cl in [LogisticRegression, KNeighborsClassifier, DecisionTreeClassifier, RandomForestClassifier]: # SVC\n",
        "    classifier = GridSearchCV(cl(), tuned_parameters[c], cv = 5, scoring = 'accuracy')\n",
        "    classifier.fit(X_80_train_norm, y_train)\n",
        "    y_pred = classifier.predict(X_80_test_norm)\n",
        "\n",
        "    fim = time.time()\n",
        "\n",
        "    print(\"Modelo: {}\".format(metodos_names[c-2]))\n",
        "    print(\"Melhores parâmetros: {}\".format(classifier.best_params_))\n",
        "    print (\"Tempo de execução: {} minutos.\".format((fim - ini) / 60))\n",
        "\n",
        "    print('\\n')\n",
        "    cm = pd.DataFrame((pd.crosstab(y_test, y_pred,\n",
        "                                   rownames = ['Real'], colnames = ['Predito'])))\n",
        "    sns.heatmap(cm, annot = True)\n",
        "    plt.show()\n",
        "\n",
        "    print('\\n')\n",
        "    print(classification_report(y_test, y_pred))\n",
        "\n",
        "    df2.iloc[c-2, 0] = metodos_names[c-2]\n",
        "    df2.iloc[c-2, 1] = accuracy_score(y_test.astype('int'), y_pred.astype('int'))\n",
        "    df2.iloc[c-2, 2] = (fim - ini) / 60\n",
        "\n",
        "    c = c + 1\n",
        "    \n",
        "df2"
      ],
      "execution_count": 39,
      "outputs": [
        {
          "output_type": "stream",
          "text": [
            "Modelo: Regressão Logística\n",
            "Melhores parâmetros: {'C': 0.1, 'penalty': 'l2', 'solver': 'newton-cg'}\n",
            "Tempo de execução: 0.372930367787679 minutos.\n",
            "\n",
            "\n"
          ],
          "name": "stdout"
        },
        {
          "output_type": "display_data",
          "data": {
            "image/png": "[encoded data removed]",
            "text/plain": [
              "<Figure size 432x288 with 2 Axes>"
            ]
          },
          "metadata": {
            "tags": [],
            "needs_background": "light"
          }
        },
        {
          "output_type": "stream",
          "text": [
            "\n",
            "\n",
            "              precision    recall  f1-score   support\n",
            "\n",
            "           0       0.50      0.60      0.55         5\n",
            "           1       0.50      0.73      0.59        11\n",
            "           2       0.60      0.67      0.63         9\n",
            "           3       0.00      0.00      0.00         1\n",
            "           4       0.00      0.00      0.00         1\n",
            "           5       0.75      0.43      0.55         7\n",
            "           6       0.33      0.50      0.40         2\n",
            "           7       0.00      0.00      0.00         3\n",
            "\n",
            "    accuracy                           0.54        39\n",
            "   macro avg       0.34      0.37      0.34        39\n",
            "weighted avg       0.50      0.54      0.50        39\n",
            "\n",
            "Modelo: KNN\n",
            "Melhores parâmetros: {'metric': 'manhattan', 'n_neighbors': 1, 'p': 1, 'weights': 'uniform'}\n",
            "Tempo de execução: 0.5014991243680318 minutos.\n",
            "\n",
            "\n"
          ],
          "name": "stdout"
        },
        {
          "output_type": "display_data",
          "data": {
            "image/png": "[encoded data removed]",
            "text/plain": [
              "<Figure size 432x288 with 2 Axes>"
            ]
          },
          "metadata": {
            "tags": [],
            "needs_background": "light"
          }
        },
        {
          "output_type": "stream",
          "text": [
            "\n",
            "\n",
            "              precision    recall  f1-score   support\n",
            "\n",
            "           0       0.40      0.40      0.40         5\n",
            "           1       0.50      0.64      0.56        11\n",
            "           2       0.58      0.78      0.67         9\n",
            "           3       0.00      0.00      0.00         1\n",
            "           4       0.00      0.00      0.00         1\n",
            "           5       1.00      0.14      0.25         7\n",
            "           6       0.33      1.00      0.50         2\n",
            "           7       0.00      0.00      0.00         3\n",
            "\n",
            "    accuracy                           0.49        39\n",
            "   macro avg       0.35      0.37      0.30        39\n",
            "weighted avg       0.52      0.49      0.43        39\n",
            "\n",
            "Modelo: Árvore de Decisão\n",
            "Melhores parâmetros: {'criterion': 'gini', 'max_depth': 20, 'max_features': 'sqrt', 'min_samples_leaf': 5, 'min_samples_split': 10, 'splitter': 'best'}\n",
            "Tempo de execução: 1.5566682895024617 minutos.\n",
            "\n",
            "\n"
          ],
          "name": "stdout"
        },
        {
          "output_type": "display_data",
          "data": {
            "image/png": "[encoded data removed]",
            "text/plain": [
              "<Figure size 432x288 with 2 Axes>"
            ]
          },
          "metadata": {
            "tags": [],
            "needs_background": "light"
          }
        },
        {
          "output_type": "stream",
          "text": [
            "\n",
            "\n",
            "              precision    recall  f1-score   support\n",
            "\n",
            "           0       0.67      0.80      0.73         5\n",
            "           1       0.73      0.73      0.73        11\n",
            "           2       0.73      0.89      0.80         9\n",
            "           3       0.00      0.00      0.00         1\n",
            "           4       0.00      0.00      0.00         1\n",
            "           5       0.75      0.43      0.55         7\n",
            "           6       0.40      1.00      0.57         2\n",
            "           7       0.00      0.00      0.00         3\n",
            "\n",
            "    accuracy                           0.64        39\n",
            "   macro avg       0.41      0.48      0.42        39\n",
            "weighted avg       0.61      0.64      0.61        39\n",
            "\n",
            "Modelo: Floresta Aleatória\n",
            "Melhores parâmetros: {'criterion': 'entropy', 'max_depth': 20, 'max_features': 'sqrt', 'min_samples_leaf': 1, 'min_samples_split': 4}\n",
            "Tempo de execução: 2.1397165854771933 minutos.\n",
            "\n",
            "\n"
          ],
          "name": "stdout"
        },
        {
          "output_type": "display_data",
          "data": {
            "image/png": "[encoded data removed]",
            "text/plain": [
              "<Figure size 432x288 with 2 Axes>"
            ]
          },
          "metadata": {
            "tags": [],
            "needs_background": "light"
          }
        },
        {
          "output_type": "stream",
          "text": [
            "\n",
            "\n",
            "              precision    recall  f1-score   support\n",
            "\n",
            "           0       0.80      0.80      0.80         5\n",
            "           1       0.62      0.73      0.67        11\n",
            "           2       0.62      0.89      0.73         9\n",
            "           3       0.00      0.00      0.00         1\n",
            "           4       0.00      0.00      0.00         1\n",
            "           5       0.67      0.57      0.62         7\n",
            "           6       0.50      0.50      0.50         2\n",
            "           7       0.00      0.00      0.00         3\n",
            "\n",
            "    accuracy                           0.64        39\n",
            "   macro avg       0.40      0.44      0.41        39\n",
            "weighted avg       0.56      0.64      0.59        39\n",
            "\n"
          ],
          "name": "stdout"
        },
        {
          "output_type": "execute_result",
          "data": {
            "text/html": [
              "<div>\n",
              "<style scoped>\n",
              "    .dataframe tbody tr th:only-of-type {\n",
              "        vertical-align: middle;\n",
              "    }\n",
              "\n",
              "    .dataframe tbody tr th {\n",
              "        vertical-align: top;\n",
              "    }\n",
              "\n",
              "    .dataframe thead th {\n",
              "        text-align: right;\n",
              "    }\n",
              "</style>\n",
              "<table border=\"1\" class=\"dataframe\">\n",
              "  <thead>\n",
              "    <tr style=\"text-align: right;\">\n",
              "      <th></th>\n",
              "      <th>Modelo</th>\n",
              "      <th>Acurácia</th>\n",
              "      <th>Tempo</th>\n",
              "    </tr>\n",
              "  </thead>\n",
              "  <tbody>\n",
              "    <tr>\n",
              "      <th>0</th>\n",
              "      <td>Regressão Logística</td>\n",
              "      <td>0.538462</td>\n",
              "      <td>0.372930</td>\n",
              "    </tr>\n",
              "    <tr>\n",
              "      <th>1</th>\n",
              "      <td>KNN</td>\n",
              "      <td>0.487179</td>\n",
              "      <td>0.501499</td>\n",
              "    </tr>\n",
              "    <tr>\n",
              "      <th>2</th>\n",
              "      <td>Árvore de Decisão</td>\n",
              "      <td>0.641026</td>\n",
              "      <td>1.556668</td>\n",
              "    </tr>\n",
              "    <tr>\n",
              "      <th>3</th>\n",
              "      <td>Floresta Aleatória</td>\n",
              "      <td>0.641026</td>\n",
              "      <td>2.139717</td>\n",
              "    </tr>\n",
              "  </tbody>\n",
              "</table>\n",
              "</div>"
            ],
            "text/plain": [
              "                Modelo  Acurácia     Tempo\n",
              "0  Regressão Logística  0.538462  0.372930\n",
              "1                  KNN  0.487179  0.501499\n",
              "2    Árvore de Decisão  0.641026  1.556668\n",
              "3   Floresta Aleatória  0.641026  2.139717"
            ]
          },
          "metadata": {
            "tags": []
          },
          "execution_count": 39
        }
      ]
    },
    {
      "cell_type": "markdown",
      "metadata": {
        "id": "9Yky8gODQvUc"
      },
      "source": [
        "### **Conclusão**"
      ]
    },
    {
      "cell_type": "markdown",
      "metadata": {
        "id": "sMsqN5Je-b2N"
      },
      "source": [
        "* Com a aplicação de outros modelos, conluímos que o melhor modelo para prever a religião usando carascterísticas da bandeira é o modelo de Floresta Aletória, que obteve uma acurácia de 64%. O que representa 2% a mais que a Redes Neurais perceptron multicamadas (MLP).\n",
        "\n",
        "* Os modelos foram melhores usando 80% das variáveis mais significativas, obtidas usando o teste estatístico F, removendo outliers e normalizando os dados.\n",
        "\n",
        "* Normalizar é o que mais fez diferença nos resultados do modelo de Redes Neurais."
      ]
    }
  ]
}